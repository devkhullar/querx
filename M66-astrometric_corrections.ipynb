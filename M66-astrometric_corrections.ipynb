{
 "cells": [
  {
   "cell_type": "markdown",
   "id": "3c426db2-1e3b-40db-ba41-abc848abcdc2",
   "metadata": {},
   "source": [
    "# Analysis of M66\n",
    "\n",
    "Date: 23 April 2025"
   ]
  },
  {
   "cell_type": "code",
   "execution_count": 1,
   "id": "b5d0795b-db15-4fac-a64b-bfaf0e9753ed",
   "metadata": {},
   "outputs": [],
   "source": [
    "import os\n",
    "import glob\n",
    "import shutil\n",
    "\n",
    "import numpy as np\n",
    "import matplotlib.pyplot as plt\n",
    "import pandas as pd\n",
    "\n",
    "from astroquery.mast import Observations\n",
    "from astropy.io import fits\n",
    "from astropy.stats import sigma_clipped_stats, SigmaClip, mad_std\n",
    "from astropy.visualization import SqrtStretch\n",
    "from astropy.visualization.mpl_normalize import ImageNormalize\n",
    "\n",
    "from photutils.utils import calc_total_error\n",
    "from photutils.detection import DAOStarFinder\n",
    "from photutils.aperture import CircularAperture, aperture_photometry\n",
    "from photutils.background import Background2D, MedianBackground\n",
    "\n",
    "from XRBID.Sources import LoadSources, NewSources, GetCoords\n",
    "from XRBID.WriteScript import WriteReg\n",
    "from XRBID.AutoPhots import RunPhots # Photometry\n",
    "from XRBID.DataFrameMod import (Find, RemoveElse, FindUnique,\n",
    "                                BuildFrame)\n",
    "from XRBID.Align import CorrectAstrometry, CalcPU, AlignReg # Astrometry"
   ]
  },
  {
   "cell_type": "code",
   "execution_count": 2,
   "id": "fa9c0ae6-b07e-468c-98bb-dd2f2b311c24",
   "metadata": {},
   "outputs": [],
   "source": [
    "cd = os.chdir\n",
    "workdir = \"/Users/undergradstudent/Research/XRB-Analysis/Notebooks\"\n",
    "hstdir = \"/Users/undergradstudent/Research/XRB-Analysis/HST/M66\" # previously used as datadir\n",
    "chandradir = \"/Users/undergradstudent/Research/XRB-Analysis/Chandra/M66\""
   ]
  },
  {
   "cell_type": "code",
   "execution_count": 5,
   "id": "249c00b9-09f3-42b7-9b34-ee73b648a846",
   "metadata": {},
   "outputs": [
    {
     "name": "stdout",
     "output_type": "stream",
     "text": [
      "Finding observations for WFC3/UVIS images...\n",
      "Done\n",
      "CPU times: user 29.2 ms, sys: 5.92 ms, total: 35.1 ms\n",
      "Wall time: 23.4 s\n"
     ]
    }
   ],
   "source": [
    "%%time\n",
    "\n",
    "print(\"Finding observations for WFC3/UVIS images...\")\n",
    "obs_table = Observations.query_criteria(objectname=\"M66\", obs_collection=\"HST\",\n",
    "                                        filters=[\"F555W\", \"F814W\", \"F336W\", \"F438W\", \"F275W\"],\n",
    "                                        proposal_id=[11364, 13477, 15654, 12968],\n",
    "                                        instrument_name=\"WFC3/UVIS\")\n",
    "print(\"Done\")"
   ]
  },
  {
   "cell_type": "code",
   "execution_count": 7,
   "id": "b5261cb7-38ec-490c-b0d0-bd247adc6328",
   "metadata": {},
   "outputs": [
    {
     "name": "stdout",
     "output_type": "stream",
     "text": [
      "/Users/undergradstudent/Research/XRB-Analysis/HST/M66\n"
     ]
    }
   ],
   "source": [
    "cd /Users/undergradstudent/Research/XRB-Analysis/HST/M66"
   ]
  },
  {
   "cell_type": "code",
   "execution_count": 9,
   "id": "3ea45347-26f2-4b5e-97f5-06664c04cab1",
   "metadata": {},
   "outputs": [
    {
     "name": "stdout",
     "output_type": "stream",
     "text": [
      "Downloading data.\n",
      " This may take several minutes... \n",
      "\n",
      "INFO: 37 of 74 products were duplicates. Only returning 37 unique product(s). [astroquery.mast.utils]\n",
      "Downloading URL https://mast.stsci.edu/api/v0.1/Download/file?uri=mast:HST/product/hst_12968_01_wfc3_uvis_f336w_ic0h01mf_flc.fits to ./mastDownload/HST/hst_12968_01_wfc3_uvis_f336w_ic0h01mf/hst_12968_01_wfc3_uvis_f336w_ic0h01mf_flc.fits ... [Done]\n",
      "Downloading URL https://mast.stsci.edu/api/v0.1/Download/file?uri=mast:HST/product/hst_12968_01_wfc3_uvis_f336w_ic0h01mg_flc.fits to ./mastDownload/HST/hst_12968_01_wfc3_uvis_f336w_ic0h01mg/hst_12968_01_wfc3_uvis_f336w_ic0h01mg_flc.fits ... [Done]\n",
      "Downloading URL https://mast.stsci.edu/api/v0.1/Download/file?uri=mast:HST/product/hst_12968_01_wfc3_uvis_f336w_ic0h01mh_flc.fits to ./mastDownload/HST/hst_12968_01_wfc3_uvis_f336w_ic0h01mh/hst_12968_01_wfc3_uvis_f336w_ic0h01mh_flc.fits ... [Done]\n",
      "Downloading URL https://mast.stsci.edu/api/v0.1/Download/file?uri=mast:HST/product/hst_12968_01_wfc3_uvis_f336w_ic0h01mi_flc.fits to ./mastDownload/HST/hst_12968_01_wfc3_uvis_f336w_ic0h01mi/hst_12968_01_wfc3_uvis_f336w_ic0h01mi_flc.fits ... [Done]\n",
      "Downloading URL https://mast.stsci.edu/api/v0.1/Download/file?uri=mast:HST/product/hst_12968_01_wfc3_uvis_f438w_ic0h01mj_flc.fits to ./mastDownload/HST/hst_12968_01_wfc3_uvis_f438w_ic0h01mj/hst_12968_01_wfc3_uvis_f438w_ic0h01mj_flc.fits ... [Done]\n",
      "Downloading URL https://mast.stsci.edu/api/v0.1/Download/file?uri=mast:HST/product/hst_12968_01_wfc3_uvis_f438w_ic0h01mk_flc.fits to ./mastDownload/HST/hst_12968_01_wfc3_uvis_f438w_ic0h01mk/hst_12968_01_wfc3_uvis_f438w_ic0h01mk_flc.fits ... [Done]\n",
      "Downloading URL https://mast.stsci.edu/api/v0.1/Download/file?uri=mast:HST/product/hst_12968_01_wfc3_uvis_f438w_ic0h01ml_flc.fits to ./mastDownload/HST/hst_12968_01_wfc3_uvis_f438w_ic0h01ml/hst_12968_01_wfc3_uvis_f438w_ic0h01ml_flc.fits ... [Done]\n",
      "Downloading URL https://mast.stsci.edu/api/v0.1/Download/file?uri=mast:HST/product/hst_12968_01_wfc3_uvis_f438w_ic0h01mm_flc.fits to ./mastDownload/HST/hst_12968_01_wfc3_uvis_f438w_ic0h01mm/hst_12968_01_wfc3_uvis_f438w_ic0h01mm_flc.fits ... [Done]\n",
      "Downloading URL https://mast.stsci.edu/api/v0.1/Download/file?uri=mast:HST/product/hst_12968_01_wfc3_uvis_f555w_ic0h01mn_flc.fits to ./mastDownload/HST/hst_12968_01_wfc3_uvis_f555w_ic0h01mn/hst_12968_01_wfc3_uvis_f555w_ic0h01mn_flc.fits ... [Done]\n",
      "Downloading URL https://mast.stsci.edu/api/v0.1/Download/file?uri=mast:HST/product/hst_12968_01_wfc3_uvis_f555w_ic0h01mo_flc.fits to ./mastDownload/HST/hst_12968_01_wfc3_uvis_f555w_ic0h01mo/hst_12968_01_wfc3_uvis_f555w_ic0h01mo_flc.fits ... [Done]\n",
      "Downloading URL https://mast.stsci.edu/api/v0.1/Download/file?uri=mast:HST/product/hst_12968_01_wfc3_uvis_f555w_ic0h01mv_flc.fits to ./mastDownload/HST/hst_12968_01_wfc3_uvis_f555w_ic0h01mv/hst_12968_01_wfc3_uvis_f555w_ic0h01mv_flc.fits ... [Done]\n",
      "Downloading URL https://mast.stsci.edu/api/v0.1/Download/file?uri=mast:HST/product/hst_12968_01_wfc3_uvis_f555w_ic0h01mw_flc.fits to ./mastDownload/HST/hst_12968_01_wfc3_uvis_f555w_ic0h01mw/hst_12968_01_wfc3_uvis_f555w_ic0h01mw_flc.fits ... [Done]\n",
      "Downloading URL https://mast.stsci.edu/api/v0.1/Download/file?uri=mast:HST/product/hst_12968_01_wfc3_uvis_f814w_ic0h01mx_flc.fits to ./mastDownload/HST/hst_12968_01_wfc3_uvis_f814w_ic0h01mx/hst_12968_01_wfc3_uvis_f814w_ic0h01mx_flc.fits ... [Done]\n",
      "Downloading URL https://mast.stsci.edu/api/v0.1/Download/file?uri=mast:HST/product/hst_12968_01_wfc3_uvis_f814w_ic0h01mz_flc.fits to ./mastDownload/HST/hst_12968_01_wfc3_uvis_f814w_ic0h01mz/hst_12968_01_wfc3_uvis_f814w_ic0h01mz_flc.fits ... [Done]\n",
      "Downloading URL https://mast.stsci.edu/api/v0.1/Download/file?uri=mast:HST/product/hst_12968_01_wfc3_uvis_f814w_ic0h01n7_flc.fits to ./mastDownload/HST/hst_12968_01_wfc3_uvis_f814w_ic0h01n7/hst_12968_01_wfc3_uvis_f814w_ic0h01n7_flc.fits ... [Done]\n",
      "Downloading URL https://mast.stsci.edu/api/v0.1/Download/file?uri=mast:HST/product/hst_12968_01_wfc3_uvis_f814w_ic0h01n8_flc.fits to ./mastDownload/HST/hst_12968_01_wfc3_uvis_f814w_ic0h01n8/hst_12968_01_wfc3_uvis_f814w_ic0h01n8_flc.fits ... [Done]\n",
      "Downloading URL https://mast.stsci.edu/api/v0.1/Download/file?uri=mast:HST/product/hst_13477_03_wfc3_uvis_f555w_ic8503wc_flc.fits to ./mastDownload/HST/hst_13477_03_wfc3_uvis_f555w_ic8503wc/hst_13477_03_wfc3_uvis_f555w_ic8503wc_flc.fits ... [Done]\n",
      "Downloading URL https://mast.stsci.edu/api/v0.1/Download/file?uri=mast:HST/product/hst_13477_03_wfc3_uvis_f555w_ic8503wd_flc.fits to ./mastDownload/HST/hst_13477_03_wfc3_uvis_f555w_ic8503wd/hst_13477_03_wfc3_uvis_f555w_ic8503wd_flc.fits ... [Done]\n",
      "Downloading URL https://mast.stsci.edu/api/v0.1/Download/file?uri=mast:HST/product/hst_13477_03_wfc3_uvis_f555w_ic8503wf_flc.fits to ./mastDownload/HST/hst_13477_03_wfc3_uvis_f555w_ic8503wf/hst_13477_03_wfc3_uvis_f555w_ic8503wf_flc.fits ... [Done]\n",
      "Downloading URL https://mast.stsci.edu/api/v0.1/Download/file?uri=mast:HST/product/hst_13477_03_wfc3_uvis_f814w_ic8503wh_flc.fits to ./mastDownload/HST/hst_13477_03_wfc3_uvis_f814w_ic8503wh/hst_13477_03_wfc3_uvis_f814w_ic8503wh_flc.fits ... [Done]\n",
      "Downloading URL https://mast.stsci.edu/api/v0.1/Download/file?uri=mast:HST/product/hst_13477_03_wfc3_uvis_f814w_ic8503wj_flc.fits to ./mastDownload/HST/hst_13477_03_wfc3_uvis_f814w_ic8503wj/hst_13477_03_wfc3_uvis_f814w_ic8503wj_flc.fits ... [Done]\n",
      "Downloading URL https://mast.stsci.edu/api/v0.1/Download/file?uri=mast:HST/product/hst_13477_03_wfc3_uvis_f814w_ic8503wl_flc.fits to ./mastDownload/HST/hst_13477_03_wfc3_uvis_f814w_ic8503wl/hst_13477_03_wfc3_uvis_f814w_ic8503wl_flc.fits ... [Done]\n",
      "Downloading URL https://mast.stsci.edu/api/v0.1/Download/file?uri=mast:HST/product/hst_15654_22_wfc3_uvis_f275w_idxr22eq_flc.fits to ./mastDownload/HST/hst_15654_22_wfc3_uvis_f275w_idxr22eq/hst_15654_22_wfc3_uvis_f275w_idxr22eq_flc.fits ... [Done]\n",
      "Downloading URL https://mast.stsci.edu/api/v0.1/Download/file?uri=mast:HST/product/hst_15654_22_wfc3_uvis_f275w_idxr22f3_flc.fits to ./mastDownload/HST/hst_15654_22_wfc3_uvis_f275w_idxr22f3/hst_15654_22_wfc3_uvis_f275w_idxr22f3_flc.fits ... [Done]\n",
      "Downloading URL https://mast.stsci.edu/api/v0.1/Download/file?uri=mast:HST/product/hst_15654_22_wfc3_uvis_f275w_idxr22fg_flc.fits to ./mastDownload/HST/hst_15654_22_wfc3_uvis_f275w_idxr22fg/hst_15654_22_wfc3_uvis_f275w_idxr22fg_flc.fits ... [Done]\n",
      "Downloading URL https://mast.stsci.edu/api/v0.1/Download/file?uri=mast:HST/product/hst_15654_22_wfc3_uvis_f336w_idxr22eo_flc.fits to ./mastDownload/HST/hst_15654_22_wfc3_uvis_f336w_idxr22eo/hst_15654_22_wfc3_uvis_f336w_idxr22eo_flc.fits ... [Done]\n",
      "Downloading URL https://mast.stsci.edu/api/v0.1/Download/file?uri=mast:HST/product/hst_15654_22_wfc3_uvis_f336w_idxr22f1_flc.fits to ./mastDownload/HST/hst_15654_22_wfc3_uvis_f336w_idxr22f1/hst_15654_22_wfc3_uvis_f336w_idxr22f1_flc.fits ... [Done]\n",
      "Downloading URL https://mast.stsci.edu/api/v0.1/Download/file?uri=mast:HST/product/hst_15654_22_wfc3_uvis_f336w_idxr22fe_flc.fits to ./mastDownload/HST/hst_15654_22_wfc3_uvis_f336w_idxr22fe/hst_15654_22_wfc3_uvis_f336w_idxr22fe_flc.fits ... [Done]\n",
      "Downloading URL https://mast.stsci.edu/api/v0.1/Download/file?uri=mast:HST/product/hst_15654_22_wfc3_uvis_f438w_idxr22em_flc.fits to ./mastDownload/HST/hst_15654_22_wfc3_uvis_f438w_idxr22em/hst_15654_22_wfc3_uvis_f438w_idxr22em_flc.fits ... [Done]\n",
      "Downloading URL https://mast.stsci.edu/api/v0.1/Download/file?uri=mast:HST/product/hst_15654_22_wfc3_uvis_f438w_idxr22ez_flc.fits to ./mastDownload/HST/hst_15654_22_wfc3_uvis_f438w_idxr22ez/hst_15654_22_wfc3_uvis_f438w_idxr22ez_flc.fits ... [Done]\n",
      "Downloading URL https://mast.stsci.edu/api/v0.1/Download/file?uri=mast:HST/product/hst_15654_22_wfc3_uvis_f438w_idxr22fc_flc.fits to ./mastDownload/HST/hst_15654_22_wfc3_uvis_f438w_idxr22fc/hst_15654_22_wfc3_uvis_f438w_idxr22fc_flc.fits ... [Done]\n",
      "Downloading URL https://mast.stsci.edu/api/v0.1/Download/file?uri=mast:HST/product/hst_15654_22_wfc3_uvis_f555w_idxr22eu_flc.fits to ./mastDownload/HST/hst_15654_22_wfc3_uvis_f555w_idxr22eu/hst_15654_22_wfc3_uvis_f555w_idxr22eu_flc.fits ... [Done]\n",
      "Downloading URL https://mast.stsci.edu/api/v0.1/Download/file?uri=mast:HST/product/hst_15654_22_wfc3_uvis_f555w_idxr22f7_flc.fits to ./mastDownload/HST/hst_15654_22_wfc3_uvis_f555w_idxr22f7/hst_15654_22_wfc3_uvis_f555w_idxr22f7_flc.fits ... [Done]\n",
      "Downloading URL https://mast.stsci.edu/api/v0.1/Download/file?uri=mast:HST/product/hst_15654_22_wfc3_uvis_f555w_idxr22fk_flc.fits to ./mastDownload/HST/hst_15654_22_wfc3_uvis_f555w_idxr22fk/hst_15654_22_wfc3_uvis_f555w_idxr22fk_flc.fits ... [Done]\n",
      "Downloading URL https://mast.stsci.edu/api/v0.1/Download/file?uri=mast:HST/product/hst_15654_22_wfc3_uvis_f814w_idxr22ek_flc.fits to ./mastDownload/HST/hst_15654_22_wfc3_uvis_f814w_idxr22ek/hst_15654_22_wfc3_uvis_f814w_idxr22ek_flc.fits ... [Done]\n",
      "Downloading URL https://mast.stsci.edu/api/v0.1/Download/file?uri=mast:HST/product/hst_15654_22_wfc3_uvis_f814w_idxr22ew_flc.fits to ./mastDownload/HST/hst_15654_22_wfc3_uvis_f814w_idxr22ew/hst_15654_22_wfc3_uvis_f814w_idxr22ew_flc.fits ... [Done]\n",
      "Downloading URL https://mast.stsci.edu/api/v0.1/Download/file?uri=mast:HST/product/hst_15654_22_wfc3_uvis_f814w_idxr22f9_flc.fits to ./mastDownload/HST/hst_15654_22_wfc3_uvis_f814w_idxr22f9/hst_15654_22_wfc3_uvis_f814w_idxr22f9_flc.fits ... [Done]\n",
      "Done\n"
     ]
    }
   ],
   "source": [
    "print(\"Downloading data.\\n This may take several minutes... \\n\")\n",
    "products = Observations.get_product_list(obs_table)\n",
    "data_prod = ['FLC']       # other options are ['FLT','DRC','DRZ']\n",
    "data_type = ['HAP-SVM']   # other options are ['CALACS','CALWF3','CALWP2']\n",
    "\n",
    "Observations.download_products(products, project=data_type, \n",
    "                               productSubGroupDescription=data_prod)\n",
    "print(\"Done\")\n"
   ]
  },
  {
   "cell_type": "code",
   "execution_count": 10,
   "id": "3f57a16d-66a5-4a2c-8715-bedb53c14421",
   "metadata": {},
   "outputs": [
    {
     "name": "stdout",
     "output_type": "stream",
     "text": [
      "Done\n"
     ]
    }
   ],
   "source": [
    "# Gathering the FLC file names\n",
    "input_flcs = glob.glob(os.path.join('mastDownload','HST','*','*.fits'))\n",
    "\n",
    "# Moving files from mastDownload directory into current directory\n",
    "for flc in input_flcs:\n",
    "  shutil.copy(flc, os.path.basename(flc))\n",
    "\n",
    "shutil.rmtree('mastDownload') # removes the extra directories\n",
    "print(\"Done\")"
   ]
  },
  {
   "cell_type": "code",
   "execution_count": 12,
   "id": "f1d75732-d3a2-4449-808d-54f44350c7c7",
   "metadata": {},
   "outputs": [
    {
     "name": "stdout",
     "output_type": "stream",
     "text": [
      "Done\n"
     ]
    }
   ],
   "source": [
    "# The filename format searched below will need to be changed based on the \n",
    "# names of the files downloaded above\n",
    "flc_files = glob.glob(\"hst*_acs_wfc_*_j*_flc.fits\")\n",
    "flc_files.sort()       # Alphabetizing files\n",
    "\n",
    "for i,f in enumerate(flc_files):\n",
    "    try: hdu = fits.open(f)\n",
    "    except: print(f,\"not good. Please remove.\")\n",
    "\n",
    "print(\"Done\")"
   ]
  },
  {
   "cell_type": "code",
   "execution_count": null,
   "id": "5d1fbbbe-ab04-47fd-bc09-3f866119579b",
   "metadata": {},
   "outputs": [],
   "source": [
    "from drizzlepac import tweakreg\n",
    "import glob\n",
    "\n",
    "flc_files = glob.glob(\"hst*_wfc3_uvis_f814w_i*_flc.fits\")\n",
    "flc_files.sort()\n",
    "reffile = 'hst_13477_03_wfc3_uvis_f814w_ic8503wl_flc.fits'"
   ]
  },
  {
   "cell_type": "code",
   "execution_count": null,
   "id": "680a7078-855d-4ef4-aac2-2089e40ab87b",
   "metadata": {},
   "outputs": [],
   "source": [
    "tweakreg.TweakReg(flc_files, refimage=reffile, \n",
    "                  imagefindcfg={'threshold':100, 'conv_width':3.5},\n",
    "                  expand_refcat=True, writecat=True, \n",
    "                  enforce_user_order=False, \n",
    "                  fitgeometry='rscale', # allows shift, rotation & rescale\n",
    "                  minobj=3, sigma=3.0, nclip=3, \n",
    "                  searchrad=1.0, searchunits='arcseconds', \n",
    "                  peakmax=70000, ylimit=0.3, interactive=False, \n",
    "                  shiftfile=True, reusename=True, \n",
    "                  outshifts='M66_shifts_acs_f555w.txt', \n",
    "                  updatehdr=False)"
   ]
  },
  {
   "cell_type": "code",
   "execution_count": null,
   "id": "9f7f93bc-18b1-4341-af5f-c369ef832421",
   "metadata": {},
   "outputs": [],
   "source": [
    "Woohoo! It worked! Let's see how the shifts look like:"
   ]
  },
  {
   "cell_type": "code",
   "execution_count": 2,
   "id": "7f7a56f7-d5bf-48e5-bd73-2160701c7c6e",
   "metadata": {},
   "outputs": [
    {
     "name": "stdout",
     "output_type": "stream",
     "text": [
      "/Users/undergradstudent/Research/XRB-Analysis/HST/M66\n"
     ]
    }
   ],
   "source": [
    "cd /Users/undergradstudent/Research/XRB-Analysis/HST/M66"
   ]
  },
  {
   "cell_type": "code",
   "execution_count": 3,
   "id": "3acdf5cb-89d2-4425-a532-7d844f4174d4",
   "metadata": {},
   "outputs": [],
   "source": [
    "from astropy.table import Table\n",
    "\n",
    "shift_table = Table.read('M66_shifts_acs_f555w.txt',\n",
    "                         format='ascii.no_header',\n",
    "                         names=['file', 'dx', 'dy', 'rot',\n",
    "                                'scale', 'xrms', 'yrms'])\n",
    "                                \n",
    "formats = ['.2f', '.2f', '.3f', '.5f', '.2f', '.2f']\n",
    "for i, col in enumerate(shift_table.colnames[1:]):\n",
    "    shift_table[col].format = formats[i]"
   ]
  },
  {
   "cell_type": "code",
   "execution_count": 4,
   "id": "53b59b06-c729-49b2-b775-7488825b5592",
   "metadata": {},
   "outputs": [
    {
     "data": {
      "text/html": [
       "<div><i>Table length=10</i>\n",
       "<table id=\"table4430625248\" class=\"table-striped table-bordered table-condensed\">\n",
       "<thead><tr><th>file</th><th>dx</th><th>dy</th><th>rot</th><th>scale</th><th>xrms</th><th>yrms</th></tr></thead>\n",
       "<thead><tr><th>str46</th><th>float64</th><th>float64</th><th>float64</th><th>float64</th><th>float64</th><th>float64</th></tr></thead>\n",
       "<tr><td>hst_12968_01_wfc3_uvis_f814w_ic0h01mx_flc.fits</td><td>0.36</td><td>0.75</td><td>0.008</td><td>1.00005</td><td>0.34</td><td>0.19</td></tr>\n",
       "<tr><td>hst_12968_01_wfc3_uvis_f814w_ic0h01mz_flc.fits</td><td>0.44</td><td>0.10</td><td>359.995</td><td>1.00023</td><td>0.32</td><td>0.14</td></tr>\n",
       "<tr><td>hst_12968_01_wfc3_uvis_f814w_ic0h01n7_flc.fits</td><td>0.56</td><td>0.60</td><td>0.001</td><td>1.00010</td><td>0.34</td><td>0.33</td></tr>\n",
       "<tr><td>hst_12968_01_wfc3_uvis_f814w_ic0h01n8_flc.fits</td><td>0.63</td><td>0.64</td><td>359.997</td><td>1.00007</td><td>0.33</td><td>0.29</td></tr>\n",
       "<tr><td>hst_13477_03_wfc3_uvis_f814w_ic8503wh_flc.fits</td><td>0.79</td><td>0.81</td><td>0.000</td><td>0.99999</td><td>0.41</td><td>0.42</td></tr>\n",
       "<tr><td>hst_13477_03_wfc3_uvis_f814w_ic8503wj_flc.fits</td><td>0.69</td><td>0.71</td><td>0.002</td><td>0.99999</td><td>0.50</td><td>0.51</td></tr>\n",
       "<tr><td>hst_13477_03_wfc3_uvis_f814w_ic8503wl_flc.fits</td><td>0.00</td><td>0.00</td><td>0.000</td><td>1.00000</td><td>0.00</td><td>0.00</td></tr>\n",
       "<tr><td>hst_15654_22_wfc3_uvis_f814w_idxr22ek_flc.fits</td><td>0.82</td><td>0.80</td><td>0.002</td><td>0.99999</td><td>0.48</td><td>0.42</td></tr>\n",
       "<tr><td>hst_15654_22_wfc3_uvis_f814w_idxr22ew_flc.fits</td><td>0.76</td><td>0.90</td><td>0.003</td><td>1.00000</td><td>0.44</td><td>0.41</td></tr>\n",
       "<tr><td>hst_15654_22_wfc3_uvis_f814w_idxr22f9_flc.fits</td><td>0.83</td><td>0.84</td><td>0.002</td><td>1.00000</td><td>0.43</td><td>0.41</td></tr>\n",
       "</table></div>"
      ],
      "text/plain": [
       "<Table length=10>\n",
       "                     file                         dx   ...   xrms    yrms \n",
       "                    str46                      float64 ... float64 float64\n",
       "---------------------------------------------- ------- ... ------- -------\n",
       "hst_12968_01_wfc3_uvis_f814w_ic0h01mx_flc.fits    0.36 ...    0.34    0.19\n",
       "hst_12968_01_wfc3_uvis_f814w_ic0h01mz_flc.fits    0.44 ...    0.32    0.14\n",
       "hst_12968_01_wfc3_uvis_f814w_ic0h01n7_flc.fits    0.56 ...    0.34    0.33\n",
       "hst_12968_01_wfc3_uvis_f814w_ic0h01n8_flc.fits    0.63 ...    0.33    0.29\n",
       "hst_13477_03_wfc3_uvis_f814w_ic8503wh_flc.fits    0.79 ...    0.41    0.42\n",
       "hst_13477_03_wfc3_uvis_f814w_ic8503wj_flc.fits    0.69 ...    0.50    0.51\n",
       "hst_13477_03_wfc3_uvis_f814w_ic8503wl_flc.fits    0.00 ...    0.00    0.00\n",
       "hst_15654_22_wfc3_uvis_f814w_idxr22ek_flc.fits    0.82 ...    0.48    0.42\n",
       "hst_15654_22_wfc3_uvis_f814w_idxr22ew_flc.fits    0.76 ...    0.44    0.41\n",
       "hst_15654_22_wfc3_uvis_f814w_idxr22f9_flc.fits    0.83 ...    0.43    0.41"
      ]
     },
     "execution_count": 4,
     "metadata": {},
     "output_type": "execute_result"
    }
   ],
   "source": [
    "shift_table"
   ]
  },
  {
   "cell_type": "code",
   "execution_count": null,
   "id": "9437dcf8-cc0b-4a7d-8c5b-37c2f510333e",
   "metadata": {},
   "outputs": [],
   "source": [
    "tweakreg.TweakReg(flc_files, refimage=reffile, \n",
    "                  imagefindcfg={'threshold':100, 'conv_width':3.5},\n",
    "                  expand_refcat=False, writecat=False, \n",
    "                  enforce_user_order=False, \n",
    "                  fitgeometry='shift', # allows shift, rotation & rescale\n",
    "                  minobj=3, sigma=3.0, nclip=3, \n",
    "                  searchrad=1.0, searchunits='arcseconds', \n",
    "                  peakmax=70000, ylimit=0.3, interactive=False, \n",
    "                  shiftfile=True, reusename=True, \n",
    "                  outshifts='M66_shifts_acs_f555w.txt', \n",
    "                  updatehdr=False)\n",
    "# started at 3:53 pm"
   ]
  },
  {
   "cell_type": "code",
   "execution_count": 6,
   "id": "22b6b977-9f02-41fa-add8-e43854265306",
   "metadata": {},
   "outputs": [
    {
     "data": {
      "text/plain": [
       "'/Users/undergradstudent/Research/XRB-Analysis/HST/M66'"
      ]
     },
     "execution_count": 6,
     "metadata": {},
     "output_type": "execute_result"
    }
   ],
   "source": [
    "pwd"
   ]
  },
  {
   "cell_type": "code",
   "execution_count": 7,
   "id": "edaa9a7e-a654-41d5-9986-19b18c5abdfd",
   "metadata": {},
   "outputs": [],
   "source": [
    "from astropy.table import Table\n",
    "\n",
    "shift_table = Table.read('M66_shifts_acs_f555w.txt',\n",
    "                         format='ascii.no_header',\n",
    "                         names=['file', 'dx', 'dy', 'rot',\n",
    "                                'scale', 'xrms', 'yrms'])\n",
    "                                \n",
    "formats = ['.2f', '.2f', '.3f', '.5f', '.2f', '.2f']\n",
    "for i, col in enumerate(shift_table.colnames[1:]):\n",
    "    shift_table[col].format = formats[i]"
   ]
  },
  {
   "cell_type": "code",
   "execution_count": 8,
   "id": "df2984fe-feb3-40ce-a9f3-6caf2da477cd",
   "metadata": {},
   "outputs": [
    {
     "data": {
      "text/html": [
       "<div><i>Table length=10</i>\n",
       "<table id=\"table4435375888\" class=\"table-striped table-bordered table-condensed\">\n",
       "<thead><tr><th>file</th><th>dx</th><th>dy</th><th>rot</th><th>scale</th><th>xrms</th><th>yrms</th></tr></thead>\n",
       "<thead><tr><th>str46</th><th>float64</th><th>float64</th><th>float64</th><th>float64</th><th>float64</th><th>float64</th></tr></thead>\n",
       "<tr><td>hst_12968_01_wfc3_uvis_f814w_ic0h01mx_flc.fits</td><td>1.04</td><td>0.75</td><td>0.000</td><td>1.00000</td><td>0.43</td><td>0.61</td></tr>\n",
       "<tr><td>hst_12968_01_wfc3_uvis_f814w_ic0h01mz_flc.fits</td><td>0.97</td><td>0.88</td><td>0.000</td><td>1.00000</td><td>0.45</td><td>0.41</td></tr>\n",
       "<tr><td>hst_12968_01_wfc3_uvis_f814w_ic0h01n7_flc.fits</td><td>0.89</td><td>0.94</td><td>0.000</td><td>1.00000</td><td>0.45</td><td>0.48</td></tr>\n",
       "<tr><td>hst_12968_01_wfc3_uvis_f814w_ic0h01n8_flc.fits</td><td>0.62</td><td>1.00</td><td>0.000</td><td>1.00000</td><td>0.55</td><td>0.41</td></tr>\n",
       "<tr><td>hst_13477_03_wfc3_uvis_f814w_ic8503wh_flc.fits</td><td>0.48</td><td>0.49</td><td>0.000</td><td>1.00000</td><td>0.51</td><td>0.51</td></tr>\n",
       "<tr><td>hst_13477_03_wfc3_uvis_f814w_ic8503wj_flc.fits</td><td>0.70</td><td>0.68</td><td>0.000</td><td>1.00000</td><td>0.50</td><td>0.51</td></tr>\n",
       "<tr><td>hst_13477_03_wfc3_uvis_f814w_ic8503wl_flc.fits</td><td>0.00</td><td>0.00</td><td>0.000</td><td>1.00000</td><td>0.00</td><td>0.00</td></tr>\n",
       "<tr><td>hst_15654_22_wfc3_uvis_f814w_idxr22ek_flc.fits</td><td>0.94</td><td>0.70</td><td>0.000</td><td>1.00000</td><td>0.52</td><td>0.50</td></tr>\n",
       "<tr><td>hst_15654_22_wfc3_uvis_f814w_idxr22ew_flc.fits</td><td>0.72</td><td>0.87</td><td>0.000</td><td>1.00000</td><td>0.51</td><td>0.52</td></tr>\n",
       "<tr><td>hst_15654_22_wfc3_uvis_f814w_idxr22f9_flc.fits</td><td>0.92</td><td>0.59</td><td>0.000</td><td>1.00000</td><td>0.47</td><td>0.50</td></tr>\n",
       "</table></div>"
      ],
      "text/plain": [
       "<Table length=10>\n",
       "                     file                         dx   ...   xrms    yrms \n",
       "                    str46                      float64 ... float64 float64\n",
       "---------------------------------------------- ------- ... ------- -------\n",
       "hst_12968_01_wfc3_uvis_f814w_ic0h01mx_flc.fits    1.04 ...    0.43    0.61\n",
       "hst_12968_01_wfc3_uvis_f814w_ic0h01mz_flc.fits    0.97 ...    0.45    0.41\n",
       "hst_12968_01_wfc3_uvis_f814w_ic0h01n7_flc.fits    0.89 ...    0.45    0.48\n",
       "hst_12968_01_wfc3_uvis_f814w_ic0h01n8_flc.fits    0.62 ...    0.55    0.41\n",
       "hst_13477_03_wfc3_uvis_f814w_ic8503wh_flc.fits    0.48 ...    0.51    0.51\n",
       "hst_13477_03_wfc3_uvis_f814w_ic8503wj_flc.fits    0.70 ...    0.50    0.51\n",
       "hst_13477_03_wfc3_uvis_f814w_ic8503wl_flc.fits    0.00 ...    0.00    0.00\n",
       "hst_15654_22_wfc3_uvis_f814w_idxr22ek_flc.fits    0.94 ...    0.52    0.50\n",
       "hst_15654_22_wfc3_uvis_f814w_idxr22ew_flc.fits    0.72 ...    0.51    0.52\n",
       "hst_15654_22_wfc3_uvis_f814w_idxr22f9_flc.fits    0.92 ...    0.47    0.50"
      ]
     },
     "execution_count": 8,
     "metadata": {},
     "output_type": "execute_result"
    }
   ],
   "source": [
    "shift_table"
   ]
  },
  {
   "cell_type": "code",
   "execution_count": null,
   "id": "bb1c043a-fee4-4b30-aed7-732b1117d553",
   "metadata": {},
   "outputs": [],
   "source": [
    "from drizzlepac.astrodrizzle import AstroDrizzle as adriz\n",
    "\n",
    "adriz(flc_files, output='M66_mosaic_acs_f814w',\n",
    "      preserve=False, clean=True, context=False,\n",
    "      skymethod='match', # renormalizes the brightness of each field\n",
    "      driz_sep_bits='4096', driz_cr_corr=True,\n",
    "      final_bits='4096', final_wcs=True, final_rot=0,  # places North pointed up\n",
    "      configobj=None, overwrite=True, build=False)"
   ]
  },
  {
   "cell_type": "markdown",
   "id": "af38818c-9bd2-45fb-9aef-4208b3be0f77",
   "metadata": {},
   "source": [
    "The drizzled image looks amazing!"
   ]
  },
  {
   "cell_type": "code",
   "execution_count": 2,
   "id": "c7954e3d-6918-4704-b038-dac00dd1c3e6",
   "metadata": {},
   "outputs": [
    {
     "name": "stdout",
     "output_type": "stream",
     "text": [
      "/Users/undergradstudent/Research/XRB-Analysis/HST/M66\n"
     ]
    }
   ],
   "source": [
    "cd /Users/undergradstudent/Research/XRB-Analysis/HST/M66"
   ]
  },
  {
   "cell_type": "code",
   "execution_count": 7,
   "id": "ad3b8a2e-1a0f-4052-ba23-26ee96df1011",
   "metadata": {},
   "outputs": [],
   "source": [
    "import glob\n",
    "flc_files = glob.glob(\"hst*_wfc3_uvis_f555w_i*_flc.fits\")\n",
    "flc_files.sort()\n",
    "reffile = 'hst_13477_03_wfc3_uvis_f814w_ic8503wl_flc.fits'"
   ]
  },
  {
   "cell_type": "code",
   "execution_count": null,
   "id": "2dc48f8f-1257-42a1-99bd-51b4579d9851",
   "metadata": {},
   "outputs": [],
   "source": [
    "from drizzlepac import tweakreg\n",
    "\n",
    "tweakreg.TweakReg(flc_files, refimage=reffile, \n",
    "                  imagefindcfg={'threshold':100, 'conv_width':3.5},\n",
    "                  expand_refcat=False, writecat=False, \n",
    "                  enforce_user_order=False, \n",
    "                  fitgeometry='rscale', # allows shift, rotation & rescale\n",
    "                  minobj=3, sigma=3.0, nclip=3, \n",
    "                  searchrad=1.0, searchunits='arcseconds', \n",
    "                  peakmax=70000, ylimit=0.3, interactive=False, \n",
    "                  shiftfile=True, reusename=True, \n",
    "                  outshifts='M66_shifts_acs_f555w.txt', \n",
    "                  updatehdr=False)"
   ]
  },
  {
   "cell_type": "code",
   "execution_count": 11,
   "id": "eecd6034-08f6-4a21-b73d-4080c8c8bf9e",
   "metadata": {},
   "outputs": [
    {
     "data": {
      "text/html": [
       "<div><i>Table length=10</i>\n",
       "<table id=\"table4662444208\" class=\"table-striped table-bordered table-condensed\">\n",
       "<thead><tr><th>file</th><th>dx</th><th>dy</th><th>rot</th><th>scale</th><th>xrms</th><th>yrms</th></tr></thead>\n",
       "<thead><tr><th>str46</th><th>float64</th><th>float64</th><th>float64</th><th>float64</th><th>float64</th><th>float64</th></tr></thead>\n",
       "<tr><td>hst_12968_01_wfc3_uvis_f555w_ic0h01mn_flc.fits</td><td>0.46</td><td>1.09</td><td>0.009</td><td>1.00007</td><td>0.57</td><td>0.38</td></tr>\n",
       "<tr><td>hst_12968_01_wfc3_uvis_f555w_ic0h01mo_flc.fits</td><td>0.91</td><td>0.87</td><td>359.989</td><td>0.99977</td><td>0.46</td><td>0.44</td></tr>\n",
       "<tr><td>hst_12968_01_wfc3_uvis_f555w_ic0h01mv_flc.fits</td><td>1.30</td><td>0.01</td><td>359.970</td><td>1.00011</td><td>0.41</td><td>0.51</td></tr>\n",
       "<tr><td>hst_12968_01_wfc3_uvis_f555w_ic0h01mw_flc.fits</td><td>-2.12</td><td>0.72</td><td>0.059</td><td>1.00067</td><td>0.44</td><td>0.48</td></tr>\n",
       "<tr><td>hst_13477_03_wfc3_uvis_f555w_ic8503wc_flc.fits</td><td>0.32</td><td>0.50</td><td>0.004</td><td>1.00001</td><td>0.46</td><td>0.49</td></tr>\n",
       "<tr><td>hst_13477_03_wfc3_uvis_f555w_ic8503wd_flc.fits</td><td>0.66</td><td>0.70</td><td>0.002</td><td>0.99994</td><td>0.52</td><td>0.50</td></tr>\n",
       "<tr><td>hst_13477_03_wfc3_uvis_f555w_ic8503wf_flc.fits</td><td>0.58</td><td>0.63</td><td>0.002</td><td>0.99997</td><td>0.51</td><td>0.51</td></tr>\n",
       "<tr><td>hst_15654_22_wfc3_uvis_f555w_idxr22eu_flc.fits</td><td>0.69</td><td>0.75</td><td>0.002</td><td>1.00001</td><td>0.52</td><td>0.52</td></tr>\n",
       "<tr><td>hst_15654_22_wfc3_uvis_f555w_idxr22f7_flc.fits</td><td>0.93</td><td>0.68</td><td>0.004</td><td>0.99994</td><td>0.49</td><td>0.51</td></tr>\n",
       "<tr><td>hst_15654_22_wfc3_uvis_f555w_idxr22fk_flc.fits</td><td>0.70</td><td>0.66</td><td>0.000</td><td>1.00004</td><td>0.52</td><td>0.48</td></tr>\n",
       "</table></div>"
      ],
      "text/plain": [
       "<Table length=10>\n",
       "                     file                         dx   ...   xrms    yrms \n",
       "                    str46                      float64 ... float64 float64\n",
       "---------------------------------------------- ------- ... ------- -------\n",
       "hst_12968_01_wfc3_uvis_f555w_ic0h01mn_flc.fits    0.46 ...    0.57    0.38\n",
       "hst_12968_01_wfc3_uvis_f555w_ic0h01mo_flc.fits    0.91 ...    0.46    0.44\n",
       "hst_12968_01_wfc3_uvis_f555w_ic0h01mv_flc.fits    1.30 ...    0.41    0.51\n",
       "hst_12968_01_wfc3_uvis_f555w_ic0h01mw_flc.fits   -2.12 ...    0.44    0.48\n",
       "hst_13477_03_wfc3_uvis_f555w_ic8503wc_flc.fits    0.32 ...    0.46    0.49\n",
       "hst_13477_03_wfc3_uvis_f555w_ic8503wd_flc.fits    0.66 ...    0.52    0.50\n",
       "hst_13477_03_wfc3_uvis_f555w_ic8503wf_flc.fits    0.58 ...    0.51    0.51\n",
       "hst_15654_22_wfc3_uvis_f555w_idxr22eu_flc.fits    0.69 ...    0.52    0.52\n",
       "hst_15654_22_wfc3_uvis_f555w_idxr22f7_flc.fits    0.93 ...    0.49    0.51\n",
       "hst_15654_22_wfc3_uvis_f555w_idxr22fk_flc.fits    0.70 ...    0.52    0.48"
      ]
     },
     "execution_count": 11,
     "metadata": {},
     "output_type": "execute_result"
    }
   ],
   "source": [
    "from astropy.table import Table\n",
    "\n",
    "shift_table = Table.read('M66_shifts_acs_f555w.txt',\n",
    "                         format='ascii.no_header',\n",
    "                         names=['file', 'dx', 'dy', 'rot',\n",
    "                                'scale', 'xrms', 'yrms'])\n",
    "                                \n",
    "formats = ['.2f', '.2f', '.3f', '.5f', '.2f', '.2f']\n",
    "for i, col in enumerate(shift_table.colnames[1:]):\n",
    "    shift_table[col].format = formats[i]\n",
    "\n",
    "shift_table"
   ]
  },
  {
   "cell_type": "markdown",
   "id": "a60d1651-5707-408e-8608-1c8111dd3b3b",
   "metadata": {},
   "source": [
    "Since the rotation is quite small, I will rerun tweakreg with `fitgeometry='shift'`"
   ]
  },
  {
   "cell_type": "code",
   "execution_count": null,
   "id": "603aed52-91d9-4af2-ab7c-716d6d52419a",
   "metadata": {},
   "outputs": [],
   "source": [
    "tweakreg.TweakReg(flc_files, refimage=reffile, \n",
    "                  imagefindcfg={'threshold':100, 'conv_width':3.5},\n",
    "                  expand_refcat=False, writecat=False, \n",
    "                  enforce_user_order=False, \n",
    "                  fitgeometry='shift', # allows shift, rotation & rescale\n",
    "                  minobj=3, sigma=3.0, nclip=3, \n",
    "                  searchrad=1.0, searchunits='arcseconds', \n",
    "                  peakmax=70000, ylimit=0.3, interactive=False, \n",
    "                  shiftfile=True, reusename=True, \n",
    "                  outshifts='M66_shifts_acs_f555w.txt', \n",
    "                  updatehdr=False)"
   ]
  },
  {
   "cell_type": "code",
   "execution_count": 12,
   "id": "8f8640e2-a075-4e98-acd1-bd0cc08032ae",
   "metadata": {},
   "outputs": [
    {
     "data": {
      "text/html": [
       "<div><i>Table length=10</i>\n",
       "<table id=\"table4655271088\" class=\"table-striped table-bordered table-condensed\">\n",
       "<thead><tr><th>file</th><th>dx</th><th>dy</th><th>rot</th><th>scale</th><th>xrms</th><th>yrms</th></tr></thead>\n",
       "<thead><tr><th>str46</th><th>float64</th><th>float64</th><th>float64</th><th>float64</th><th>float64</th><th>float64</th></tr></thead>\n",
       "<tr><td>hst_12968_01_wfc3_uvis_f555w_ic0h01mn_flc.fits</td><td>0.81</td><td>1.03</td><td>0.000</td><td>1.00000</td><td>0.56</td><td>0.40</td></tr>\n",
       "<tr><td>hst_12968_01_wfc3_uvis_f555w_ic0h01mo_flc.fits</td><td>0.32</td><td>0.66</td><td>0.000</td><td>1.00000</td><td>0.48</td><td>0.44</td></tr>\n",
       "<tr><td>hst_12968_01_wfc3_uvis_f555w_ic0h01mv_flc.fits</td><td>0.55</td><td>0.89</td><td>0.000</td><td>1.00000</td><td>0.48</td><td>0.49</td></tr>\n",
       "<tr><td>hst_12968_01_wfc3_uvis_f555w_ic0h01mw_flc.fits</td><td>0.57</td><td>0.65</td><td>0.000</td><td>1.00000</td><td>0.51</td><td>0.53</td></tr>\n",
       "<tr><td>hst_13477_03_wfc3_uvis_f555w_ic8503wc_flc.fits</td><td>0.37</td><td>0.44</td><td>0.000</td><td>1.00000</td><td>0.46</td><td>0.50</td></tr>\n",
       "<tr><td>hst_13477_03_wfc3_uvis_f555w_ic8503wd_flc.fits</td><td>0.63</td><td>0.64</td><td>0.000</td><td>1.00000</td><td>0.52</td><td>0.51</td></tr>\n",
       "<tr><td>hst_13477_03_wfc3_uvis_f555w_ic8503wf_flc.fits</td><td>0.57</td><td>0.60</td><td>0.000</td><td>1.00000</td><td>0.51</td><td>0.51</td></tr>\n",
       "<tr><td>hst_15654_22_wfc3_uvis_f555w_idxr22eu_flc.fits</td><td>0.71</td><td>0.73</td><td>0.000</td><td>1.00000</td><td>0.52</td><td>0.52</td></tr>\n",
       "<tr><td>hst_15654_22_wfc3_uvis_f555w_idxr22f7_flc.fits</td><td>0.89</td><td>0.62</td><td>0.000</td><td>1.00000</td><td>0.49</td><td>0.51</td></tr>\n",
       "<tr><td>hst_15654_22_wfc3_uvis_f555w_idxr22fk_flc.fits</td><td>0.73</td><td>0.66</td><td>0.000</td><td>1.00000</td><td>0.52</td><td>0.48</td></tr>\n",
       "</table></div>"
      ],
      "text/plain": [
       "<Table length=10>\n",
       "                     file                         dx   ...   xrms    yrms \n",
       "                    str46                      float64 ... float64 float64\n",
       "---------------------------------------------- ------- ... ------- -------\n",
       "hst_12968_01_wfc3_uvis_f555w_ic0h01mn_flc.fits    0.81 ...    0.56    0.40\n",
       "hst_12968_01_wfc3_uvis_f555w_ic0h01mo_flc.fits    0.32 ...    0.48    0.44\n",
       "hst_12968_01_wfc3_uvis_f555w_ic0h01mv_flc.fits    0.55 ...    0.48    0.49\n",
       "hst_12968_01_wfc3_uvis_f555w_ic0h01mw_flc.fits    0.57 ...    0.51    0.53\n",
       "hst_13477_03_wfc3_uvis_f555w_ic8503wc_flc.fits    0.37 ...    0.46    0.50\n",
       "hst_13477_03_wfc3_uvis_f555w_ic8503wd_flc.fits    0.63 ...    0.52    0.51\n",
       "hst_13477_03_wfc3_uvis_f555w_ic8503wf_flc.fits    0.57 ...    0.51    0.51\n",
       "hst_15654_22_wfc3_uvis_f555w_idxr22eu_flc.fits    0.71 ...    0.52    0.52\n",
       "hst_15654_22_wfc3_uvis_f555w_idxr22f7_flc.fits    0.89 ...    0.49    0.51\n",
       "hst_15654_22_wfc3_uvis_f555w_idxr22fk_flc.fits    0.73 ...    0.52    0.48"
      ]
     },
     "execution_count": 12,
     "metadata": {},
     "output_type": "execute_result"
    }
   ],
   "source": [
    "from astropy.table import Table\n",
    "\n",
    "shift_table = Table.read('M66_shifts_acs_f555w.txt',\n",
    "                         format='ascii.no_header',\n",
    "                         names=['file', 'dx', 'dy', 'rot',\n",
    "                                'scale', 'xrms', 'yrms'])\n",
    "                                \n",
    "formats = ['.2f', '.2f', '.3f', '.5f', '.2f', '.2f']\n",
    "for i, col in enumerate(shift_table.colnames[1:]):\n",
    "    shift_table[col].format = formats[i]\n",
    "\n",
    "shift_table"
   ]
  },
  {
   "cell_type": "code",
   "execution_count": null,
   "id": "4bacf555-270c-42e7-9ae5-3d44a004cbf9",
   "metadata": {},
   "outputs": [],
   "source": [
    "from drizzlepac.astrodrizzle import AstroDrizzle as adriz\n",
    "\n",
    "adriz(flc_files, output='M66_mosaic_acs_f555w',\n",
    "      preserve=False, clean=True, context=False,\n",
    "      skymethod='match', # renormalizes the brightness of each field\n",
    "      driz_sep_bits='4096', driz_cr_corr=True,\n",
    "      final_bits='4096', final_wcs=True, final_rot=0,  # places North pointed up\n",
    "      configobj=None, overwrite=True, build=False)"
   ]
  },
  {
   "cell_type": "markdown",
   "id": "08c84c6c-facb-4d21-99c6-e3c0a3d2d1df",
   "metadata": {},
   "source": [
    "This looks good too!"
   ]
  },
  {
   "cell_type": "code",
   "execution_count": null,
   "id": "e42b56de-a320-40bc-9711-bd0e5519b03f",
   "metadata": {},
   "outputs": [],
   "source": [
    "import glob\n",
    "flc_files = glob.glob(\"hst*_wfc3_uvis_f336w_i*_flc.fits\")\n",
    "flc_files.sort()\n",
    "reffile = 'hst_13477_03_wfc3_uvis_f814w_ic8503wl_flc.fits'\n",
    "\n",
    "from drizzlepac import tweakreg\n",
    "\n",
    "tweakreg.TweakReg(flc_files, refimage=reffile, \n",
    "                  imagefindcfg={'threshold':100, 'conv_width':3.5},\n",
    "                  expand_refcat=False, writecat=False, \n",
    "                  enforce_user_order=False, \n",
    "                  fitgeometry='shift', # allows shift, rotation & rescale\n",
    "                  minobj=3, sigma=3.0, nclip=3, \n",
    "                  searchrad=1.0, searchunits='arcseconds', \n",
    "                  peakmax=70000, ylimit=0.3, interactive=False, \n",
    "                  shiftfile=True, reusename=True, \n",
    "                  outshifts='M66_shifts_acs_f336w.txt', \n",
    "                  updatehdr=False)"
   ]
  },
  {
   "cell_type": "code",
   "execution_count": 13,
   "id": "fa1df4ac-f9c2-4216-af2c-451bafbd6788",
   "metadata": {},
   "outputs": [
    {
     "data": {
      "text/html": [
       "<div><i>Table length=10</i>\n",
       "<table id=\"table4662451888\" class=\"table-striped table-bordered table-condensed\">\n",
       "<thead><tr><th>file</th><th>dx</th><th>dy</th><th>rot</th><th>scale</th><th>xrms</th><th>yrms</th></tr></thead>\n",
       "<thead><tr><th>str46</th><th>float64</th><th>float64</th><th>float64</th><th>float64</th><th>float64</th><th>float64</th></tr></thead>\n",
       "<tr><td>hst_12968_01_wfc3_uvis_f555w_ic0h01mn_flc.fits</td><td>0.81</td><td>1.03</td><td>0.000</td><td>1.00000</td><td>0.56</td><td>0.40</td></tr>\n",
       "<tr><td>hst_12968_01_wfc3_uvis_f555w_ic0h01mo_flc.fits</td><td>0.32</td><td>0.66</td><td>0.000</td><td>1.00000</td><td>0.48</td><td>0.44</td></tr>\n",
       "<tr><td>hst_12968_01_wfc3_uvis_f555w_ic0h01mv_flc.fits</td><td>0.55</td><td>0.89</td><td>0.000</td><td>1.00000</td><td>0.48</td><td>0.49</td></tr>\n",
       "<tr><td>hst_12968_01_wfc3_uvis_f555w_ic0h01mw_flc.fits</td><td>0.57</td><td>0.65</td><td>0.000</td><td>1.00000</td><td>0.51</td><td>0.53</td></tr>\n",
       "<tr><td>hst_13477_03_wfc3_uvis_f555w_ic8503wc_flc.fits</td><td>0.37</td><td>0.44</td><td>0.000</td><td>1.00000</td><td>0.46</td><td>0.50</td></tr>\n",
       "<tr><td>hst_13477_03_wfc3_uvis_f555w_ic8503wd_flc.fits</td><td>0.63</td><td>0.64</td><td>0.000</td><td>1.00000</td><td>0.52</td><td>0.51</td></tr>\n",
       "<tr><td>hst_13477_03_wfc3_uvis_f555w_ic8503wf_flc.fits</td><td>0.57</td><td>0.60</td><td>0.000</td><td>1.00000</td><td>0.51</td><td>0.51</td></tr>\n",
       "<tr><td>hst_15654_22_wfc3_uvis_f555w_idxr22eu_flc.fits</td><td>0.71</td><td>0.73</td><td>0.000</td><td>1.00000</td><td>0.52</td><td>0.52</td></tr>\n",
       "<tr><td>hst_15654_22_wfc3_uvis_f555w_idxr22f7_flc.fits</td><td>0.89</td><td>0.62</td><td>0.000</td><td>1.00000</td><td>0.49</td><td>0.51</td></tr>\n",
       "<tr><td>hst_15654_22_wfc3_uvis_f555w_idxr22fk_flc.fits</td><td>0.73</td><td>0.66</td><td>0.000</td><td>1.00000</td><td>0.52</td><td>0.48</td></tr>\n",
       "</table></div>"
      ],
      "text/plain": [
       "<Table length=10>\n",
       "                     file                         dx   ...   xrms    yrms \n",
       "                    str46                      float64 ... float64 float64\n",
       "---------------------------------------------- ------- ... ------- -------\n",
       "hst_12968_01_wfc3_uvis_f555w_ic0h01mn_flc.fits    0.81 ...    0.56    0.40\n",
       "hst_12968_01_wfc3_uvis_f555w_ic0h01mo_flc.fits    0.32 ...    0.48    0.44\n",
       "hst_12968_01_wfc3_uvis_f555w_ic0h01mv_flc.fits    0.55 ...    0.48    0.49\n",
       "hst_12968_01_wfc3_uvis_f555w_ic0h01mw_flc.fits    0.57 ...    0.51    0.53\n",
       "hst_13477_03_wfc3_uvis_f555w_ic8503wc_flc.fits    0.37 ...    0.46    0.50\n",
       "hst_13477_03_wfc3_uvis_f555w_ic8503wd_flc.fits    0.63 ...    0.52    0.51\n",
       "hst_13477_03_wfc3_uvis_f555w_ic8503wf_flc.fits    0.57 ...    0.51    0.51\n",
       "hst_15654_22_wfc3_uvis_f555w_idxr22eu_flc.fits    0.71 ...    0.52    0.52\n",
       "hst_15654_22_wfc3_uvis_f555w_idxr22f7_flc.fits    0.89 ...    0.49    0.51\n",
       "hst_15654_22_wfc3_uvis_f555w_idxr22fk_flc.fits    0.73 ...    0.52    0.48"
      ]
     },
     "execution_count": 13,
     "metadata": {},
     "output_type": "execute_result"
    }
   ],
   "source": [
    "from astropy.table import Table\n",
    "\n",
    "shift_table = Table.read('M66_shifts_acs_f555w.txt',\n",
    "                         format='ascii.no_header',\n",
    "                         names=['file', 'dx', 'dy', 'rot',\n",
    "                                'scale', 'xrms', 'yrms'])\n",
    "                                \n",
    "formats = ['.2f', '.2f', '.3f', '.5f', '.2f', '.2f']\n",
    "for i, col in enumerate(shift_table.colnames[1:]):\n",
    "    shift_table[col].format = formats[i]\n",
    "\n",
    "shift_table"
   ]
  },
  {
   "cell_type": "code",
   "execution_count": null,
   "id": "73bafe76-53c3-46fe-aff7-a158e0f8ae3b",
   "metadata": {},
   "outputs": [],
   "source": [
    "adriz(flc_files, output='M66_mosaic_acs_f336w',\n",
    "      preserve=False, clean=True, context=False,\n",
    "      skymethod='match', # renormalizes the brightness of each field\n",
    "      driz_sep_bits='4096', driz_cr_corr=True,\n",
    "      final_bits='4096', final_wcs=True, final_rot=0,  # places North pointed up\n",
    "      configobj=None, overwrite=True, build=False)"
   ]
  },
  {
   "cell_type": "code",
   "execution_count": null,
   "id": "7f808bc7-863d-4291-a920-d43b1ad909ae",
   "metadata": {},
   "outputs": [],
   "source": [
    "flc_files = glob.glob(\"hst*_wfc3_uvis_f438w_i*_flc.fits\")\n",
    "flc_files.sort()\n",
    "reffile = 'hst_13477_03_wfc3_uvis_f814w_ic8503wl_flc.fits'\n",
    "\n",
    "tweakreg.TweakReg(flc_files, refimage=reffile, \n",
    "                  imagefindcfg={'threshold':100, 'conv_width':3.5},\n",
    "                  expand_refcat=False, writecat=False, \n",
    "                  enforce_user_order=False, \n",
    "                  fitgeometry='shift', # allows shift, rotation & rescale\n",
    "                  minobj=3, sigma=3.0, nclip=3, \n",
    "                  searchrad=1.0, searchunits='arcseconds', \n",
    "                  peakmax=70000, ylimit=0.3, interactive=False, \n",
    "                  shiftfile=True, reusename=True, \n",
    "                  outshifts='M66_shifts_acs_f438w.txt', \n",
    "                  updatehdr=False)"
   ]
  },
  {
   "cell_type": "code",
   "execution_count": 17,
   "id": "7c1290b2-215d-4c7d-8c68-0aef4fb29522",
   "metadata": {},
   "outputs": [
    {
     "data": {
      "text/html": [
       "<div><i>Table length=7</i>\n",
       "<table id=\"table4662447280\" class=\"table-striped table-bordered table-condensed\">\n",
       "<thead><tr><th>file</th><th>dx</th><th>dy</th><th>rot</th><th>scale</th><th>xrms</th><th>yrms</th></tr></thead>\n",
       "<thead><tr><th>str46</th><th>float64</th><th>float64</th><th>float64</th><th>float64</th><th>float64</th><th>float64</th></tr></thead>\n",
       "<tr><td>hst_12968_01_wfc3_uvis_f438w_ic0h01mj_flc.fits</td><td>0.79</td><td>0.84</td><td>0.000</td><td>1.00000</td><td>0.52</td><td>0.40</td></tr>\n",
       "<tr><td>hst_12968_01_wfc3_uvis_f438w_ic0h01mk_flc.fits</td><td>0.80</td><td>1.29</td><td>0.000</td><td>1.00000</td><td>0.45</td><td>0.54</td></tr>\n",
       "<tr><td>hst_12968_01_wfc3_uvis_f438w_ic0h01ml_flc.fits</td><td>0.44</td><td>0.56</td><td>0.000</td><td>1.00000</td><td>0.55</td><td>0.51</td></tr>\n",
       "<tr><td>hst_12968_01_wfc3_uvis_f438w_ic0h01mm_flc.fits</td><td>1.20</td><td>0.75</td><td>0.000</td><td>1.00000</td><td>0.46</td><td>0.50</td></tr>\n",
       "<tr><td>hst_15654_22_wfc3_uvis_f438w_idxr22em_flc.fits</td><td>0.56</td><td>0.63</td><td>0.000</td><td>1.00000</td><td>0.51</td><td>0.49</td></tr>\n",
       "<tr><td>hst_15654_22_wfc3_uvis_f438w_idxr22ez_flc.fits</td><td>0.47</td><td>0.40</td><td>0.000</td><td>1.00000</td><td>0.54</td><td>0.50</td></tr>\n",
       "<tr><td>hst_15654_22_wfc3_uvis_f438w_idxr22fc_flc.fits</td><td>0.82</td><td>0.79</td><td>0.000</td><td>1.00000</td><td>0.53</td><td>0.50</td></tr>\n",
       "</table></div>"
      ],
      "text/plain": [
       "<Table length=7>\n",
       "                     file                         dx   ...   xrms    yrms \n",
       "                    str46                      float64 ... float64 float64\n",
       "---------------------------------------------- ------- ... ------- -------\n",
       "hst_12968_01_wfc3_uvis_f438w_ic0h01mj_flc.fits    0.79 ...    0.52    0.40\n",
       "hst_12968_01_wfc3_uvis_f438w_ic0h01mk_flc.fits    0.80 ...    0.45    0.54\n",
       "hst_12968_01_wfc3_uvis_f438w_ic0h01ml_flc.fits    0.44 ...    0.55    0.51\n",
       "hst_12968_01_wfc3_uvis_f438w_ic0h01mm_flc.fits    1.20 ...    0.46    0.50\n",
       "hst_15654_22_wfc3_uvis_f438w_idxr22em_flc.fits    0.56 ...    0.51    0.49\n",
       "hst_15654_22_wfc3_uvis_f438w_idxr22ez_flc.fits    0.47 ...    0.54    0.50\n",
       "hst_15654_22_wfc3_uvis_f438w_idxr22fc_flc.fits    0.82 ...    0.53    0.50"
      ]
     },
     "execution_count": 17,
     "metadata": {},
     "output_type": "execute_result"
    }
   ],
   "source": [
    "shift_table = Table.read('M66_shifts_acs_f438w.txt',\n",
    "                         format='ascii.no_header',\n",
    "                         names=['file', 'dx', 'dy', 'rot',\n",
    "                                'scale', 'xrms', 'yrms'])\n",
    "                                \n",
    "formats = ['.2f', '.2f', '.3f', '.5f', '.2f', '.2f']\n",
    "for i, col in enumerate(shift_table.colnames[1:]):\n",
    "    shift_table[col].format = formats[i]\n",
    "\n",
    "shift_table"
   ]
  },
  {
   "cell_type": "code",
   "execution_count": null,
   "id": "4ff2c156-1013-4392-ad3d-ba7c3007a24c",
   "metadata": {},
   "outputs": [],
   "source": [
    "adriz(flc_files, output='M66_mosaic_acs_f438w',\n",
    "      preserve=False, clean=True, context=False,\n",
    "      skymethod='match', # renormalizes the brightness of each field\n",
    "      driz_sep_bits='4096', driz_cr_corr=True,\n",
    "      final_bits='4096', final_wcs=True, final_rot=0,  # places North pointed up\n",
    "      configobj=None, overwrite=True, build=False)"
   ]
  },
  {
   "cell_type": "code",
   "execution_count": null,
   "id": "4a2a0535-6095-4954-8406-784a36a95c9f",
   "metadata": {},
   "outputs": [],
   "source": [
    "flc_files = glob.glob(\"hst*_wfc3_uvis_f275w_i*_flc.fits\")\n",
    "flc_files.sort()\n",
    "reffile = 'hst_13477_03_wfc3_uvis_f814w_ic8503wl_flc.fits'"
   ]
  },
  {
   "cell_type": "code",
   "execution_count": null,
   "id": "6e500535-e9d4-43eb-86d2-24c1ccbfa351",
   "metadata": {},
   "outputs": [],
   "source": [
    "tweakreg.TweakReg(flc_files, refimage=reffile, \n",
    "                  imagefindcfg={'threshold':100, 'conv_width':3.5},\n",
    "                  expand_refcat=False, writecat=False, \n",
    "                  enforce_user_order=False, \n",
    "                  fitgeometry='shift', # allows shift, rotation & rescale\n",
    "                  minobj=3, sigma=3.0, nclip=3, \n",
    "                  searchrad=1.0, searchunits='arcseconds', \n",
    "                  peakmax=70000, ylimit=0.3, interactive=False, \n",
    "                  shiftfile=True, reusename=True, \n",
    "                  outshifts='M66_shifts_acs_f275w.txt', \n",
    "                  updatehdr=False)"
   ]
  },
  {
   "cell_type": "markdown",
   "id": "54021c6e-5d9a-4f83-a15a-1e2125a83b39",
   "metadata": {},
   "source": [
    "This worked! Need to see the outputs!"
   ]
  },
  {
   "cell_type": "code",
   "execution_count": 6,
   "id": "62ecea5d-92f1-4e51-9723-2939699580c0",
   "metadata": {},
   "outputs": [
    {
     "data": {
      "text/html": [
       "<div><i>Table length=10</i>\n",
       "<table id=\"table4462510976\" class=\"table-striped table-bordered table-condensed\">\n",
       "<thead><tr><th>file</th><th>dx</th><th>dy</th><th>rot</th><th>scale</th><th>xrms</th><th>yrms</th></tr></thead>\n",
       "<thead><tr><th>str46</th><th>float64</th><th>float64</th><th>float64</th><th>float64</th><th>float64</th><th>float64</th></tr></thead>\n",
       "<tr><td>hst_12968_01_wfc3_uvis_f555w_ic0h01mn_flc.fits</td><td>0.81</td><td>1.03</td><td>0.000</td><td>1.00000</td><td>0.56</td><td>0.40</td></tr>\n",
       "<tr><td>hst_12968_01_wfc3_uvis_f555w_ic0h01mo_flc.fits</td><td>0.32</td><td>0.66</td><td>0.000</td><td>1.00000</td><td>0.48</td><td>0.44</td></tr>\n",
       "<tr><td>hst_12968_01_wfc3_uvis_f555w_ic0h01mv_flc.fits</td><td>0.55</td><td>0.89</td><td>0.000</td><td>1.00000</td><td>0.48</td><td>0.49</td></tr>\n",
       "<tr><td>hst_12968_01_wfc3_uvis_f555w_ic0h01mw_flc.fits</td><td>0.57</td><td>0.65</td><td>0.000</td><td>1.00000</td><td>0.51</td><td>0.53</td></tr>\n",
       "<tr><td>hst_13477_03_wfc3_uvis_f555w_ic8503wc_flc.fits</td><td>0.37</td><td>0.44</td><td>0.000</td><td>1.00000</td><td>0.46</td><td>0.50</td></tr>\n",
       "<tr><td>hst_13477_03_wfc3_uvis_f555w_ic8503wd_flc.fits</td><td>0.63</td><td>0.64</td><td>0.000</td><td>1.00000</td><td>0.52</td><td>0.51</td></tr>\n",
       "<tr><td>hst_13477_03_wfc3_uvis_f555w_ic8503wf_flc.fits</td><td>0.57</td><td>0.60</td><td>0.000</td><td>1.00000</td><td>0.51</td><td>0.51</td></tr>\n",
       "<tr><td>hst_15654_22_wfc3_uvis_f555w_idxr22eu_flc.fits</td><td>0.71</td><td>0.73</td><td>0.000</td><td>1.00000</td><td>0.52</td><td>0.52</td></tr>\n",
       "<tr><td>hst_15654_22_wfc3_uvis_f555w_idxr22f7_flc.fits</td><td>0.89</td><td>0.62</td><td>0.000</td><td>1.00000</td><td>0.49</td><td>0.51</td></tr>\n",
       "<tr><td>hst_15654_22_wfc3_uvis_f555w_idxr22fk_flc.fits</td><td>0.73</td><td>0.66</td><td>0.000</td><td>1.00000</td><td>0.52</td><td>0.48</td></tr>\n",
       "</table></div>"
      ],
      "text/plain": [
       "<Table length=10>\n",
       "                     file                         dx   ...   xrms    yrms \n",
       "                    str46                      float64 ... float64 float64\n",
       "---------------------------------------------- ------- ... ------- -------\n",
       "hst_12968_01_wfc3_uvis_f555w_ic0h01mn_flc.fits    0.81 ...    0.56    0.40\n",
       "hst_12968_01_wfc3_uvis_f555w_ic0h01mo_flc.fits    0.32 ...    0.48    0.44\n",
       "hst_12968_01_wfc3_uvis_f555w_ic0h01mv_flc.fits    0.55 ...    0.48    0.49\n",
       "hst_12968_01_wfc3_uvis_f555w_ic0h01mw_flc.fits    0.57 ...    0.51    0.53\n",
       "hst_13477_03_wfc3_uvis_f555w_ic8503wc_flc.fits    0.37 ...    0.46    0.50\n",
       "hst_13477_03_wfc3_uvis_f555w_ic8503wd_flc.fits    0.63 ...    0.52    0.51\n",
       "hst_13477_03_wfc3_uvis_f555w_ic8503wf_flc.fits    0.57 ...    0.51    0.51\n",
       "hst_15654_22_wfc3_uvis_f555w_idxr22eu_flc.fits    0.71 ...    0.52    0.52\n",
       "hst_15654_22_wfc3_uvis_f555w_idxr22f7_flc.fits    0.89 ...    0.49    0.51\n",
       "hst_15654_22_wfc3_uvis_f555w_idxr22fk_flc.fits    0.73 ...    0.52    0.48"
      ]
     },
     "execution_count": 6,
     "metadata": {},
     "output_type": "execute_result"
    }
   ],
   "source": [
    "from astropy.table import Table\n",
    "shift_table = Table.read('M66_shifts_acs_f555w.txt',\n",
    "                         format='ascii.no_header',\n",
    "                         names=['file', 'dx', 'dy', 'rot',\n",
    "                                'scale', 'xrms', 'yrms'])\n",
    "                                \n",
    "formats = ['.2f', '.2f', '.3f', '.5f', '.2f', '.2f']\n",
    "for i, col in enumerate(shift_table.colnames[1:]):\n",
    "    shift_table[col].format = formats[i]\n",
    "\n",
    "shift_table"
   ]
  },
  {
   "cell_type": "code",
   "execution_count": null,
   "id": "16ac5071-29c2-4b92-99d2-87d8943e79d7",
   "metadata": {},
   "outputs": [],
   "source": [
    "adriz(flc_files, output='M66_mosaic_acs_f275w',\n",
    "      preserve=False, clean=True, context=False,\n",
    "      skymethod='match', # renormalizes the brightness of each field\n",
    "      driz_sep_bits='4096', driz_cr_corr=True,\n",
    "      final_bits='4096', final_wcs=True, final_rot=0,  # places North pointed up\n",
    "      configobj=None, overwrite=True, build=False)"
   ]
  },
  {
   "cell_type": "markdown",
   "id": "55dc938d-54fc-44d8-9da2-21bc46271b60",
   "metadata": {},
   "source": [
    "Date: 24 April 2025\n",
    "\n",
    "I was successful with creating the mosaics and the alignment also looks pretty good. I need to show these results to Qiana and see if things look good. \n",
    "\n",
    "Since my initial goal was mosaicking was to learn the procedure for creating mosaics, I had not downloaded the Chandra data. That is what I am going to do now. "
   ]
  },
  {
   "cell_type": "markdown",
   "id": "780ddbd5-8689-4afd-a36e-18073ea87e65",
   "metadata": {},
   "source": [
    "# Astrometric Corrections"
   ]
  },
  {
   "cell_type": "markdown",
   "id": "f477c29c-e274-422a-86d5-7fd3ae404093",
   "metadata": {},
   "source": [
    "Date: May 5 <br>\n",
    "I am still experimenting with astrometric corrections to work. "
   ]
  },
  {
   "cell_type": "markdown",
   "id": "2da9c890-9701-4e05-b14e-bff5d1c9059f",
   "metadata": {},
   "source": [
    "My strategy is going to be the following:\n",
    "1. Apply the same change in coordinates to all the chandra sources\n",
    "2. Perform astrometric corrections on those coordinates!"
   ]
  },
  {
   "cell_type": "code",
   "execution_count": 69,
   "id": "5051fe22-a212-488d-9648-230c0db35b66",
   "metadata": {},
   "outputs": [
    {
     "name": "stdout",
     "output_type": "stream",
     "text": [
      "Reading in sources from /Users/undergradstudent/Research/XRB-Analysis/Chandra/M66/cscresults_M66_renamed.frame...\n",
      "Saving /Users/undergradstudent/Research/XRB-Analysis/Chandra/M66/M66_cscsources_shifted.reg\n"
     ]
    }
   ],
   "source": [
    "# Creating the region file of all the sources with the shifted coordinates\n",
    "M66_CSC = LoadSources(chandradir+\"/cscresults_M66_renamed.frame\")\n",
    "M66_unique = FindUnique(M66_CSC, header=\"CSC ID\")\n",
    "M66_unique[\"RA\"] = M66_unique[\"RA\"] - 0.000008\n",
    "M66_unique[\"Dec\"] = M66_unique[\"Dec\"] + 0.000027\n",
    "WriteReg(M66_unique, outfile=chandradir+\"/M66_cscsources_shifted.reg\", idname=\"CSC ID\", \n",
    "         radius=5, width=2, color=\"hotpink\", showlabel=True)"
   ]
  },
  {
   "cell_type": "markdown",
   "id": "58c6e49c-11c1-4f82-87f8-a03e1c5ac3e2",
   "metadata": {},
   "source": [
    "This looks pretty good on DS9!"
   ]
  },
  {
   "cell_type": "code",
   "execution_count": 70,
   "id": "88b1a9e4-a2a5-4310-b276-ef9f60e412ed",
   "metadata": {},
   "outputs": [
    {
     "name": "stdout",
     "output_type": "stream",
     "text": [
      "4 calibrators to match...\n",
      "4 calibrators found.\n",
      "Saving /Users/undergradstudent/Research/XRB-Analysis/Chandra/M66/M66_calibrators.reg\n"
     ]
    }
   ],
   "source": [
    "M66_calibrators = ['2CXO J112018.9+130135',\n",
    "                   '2CXO J112018.3+125900',\n",
    "                   '2CXO J112014.8+125814',\n",
    "                   '2CXO J112013.0+125736']\n",
    "\n",
    "print(len(M66_calibrators), \"calibrators to match...\")\n",
    "\n",
    "# Using DataFrameMod.RemoveElse() to remove all but the sources above from the DataFrame\n",
    "M66_calibrators = RemoveElse(M66_unique, keep=M66_calibrators, header=\"CSC ID\")\n",
    "print(len(M66_calibrators), \"calibrators found.\")\n",
    "\n",
    "# Saving these as a region file, in case we want to double-check\n",
    "WriteReg(M66_calibrators, outfile=chandradir+\"/M66_calibrators.reg\",\n",
    "         radius=25, width=2)"
   ]
  },
  {
   "cell_type": "code",
   "execution_count": 72,
   "id": "d9b64742-3237-4daf-963f-9271aaaa82be",
   "metadata": {},
   "outputs": [
    {
     "name": "stdout",
     "output_type": "stream",
     "text": [
      "Retrieving coordinates from /Users/undergradstudent/Research/XRB-Analysis/HST/M66/M66_daofind_f555w_wfc3_fk5.reg\n"
     ]
    },
    {
     "data": {
      "image/png": "[encoded data removed]",
      "text/plain": [
       "<Figure size 640x480 with 1 Axes>"
      ]
     },
     "metadata": {},
     "output_type": "display_data"
    },
    {
     "name": "stdout",
     "output_type": "stream",
     "text": [
      "Median separation: 2.367180177845239e-05\n"
     ]
    },
    {
     "name": "stdin",
     "output_type": "stream",
     "text": [
      "Input min and max separation: 0.9e-5, 5.4e-5\n"
     ]
    },
    {
     "data": {
      "image/png": "[encoded data removed]",
      "text/plain": [
       "<Figure size 600x400 with 2 Axes>"
      ]
     },
     "metadata": {},
     "output_type": "display_data"
    },
    {
     "name": "stdout",
     "output_type": "stream",
     "text": [
      "Median offsets in x and y (deg): 1.1251252786337318e-05 -2.0901841101483853e-05\n"
     ]
    },
    {
     "data": {
      "image/png": "[encoded data removed]",
      "text/plain": [
       "<Figure size 600x400 with 2 Axes>"
      ]
     },
     "metadata": {},
     "output_type": "display_data"
    },
    {
     "name": "stdout",
     "output_type": "stream",
     "text": [
      "\n",
      "RESULTS OF ASTROMETRY CORRECTION\n",
      "\n",
      "Median offsets in x and y:\n",
      " 1.1251252786337318e-05 -2.0901841101483853e-05 degrees\n",
      " 0.040504510030814345 -0.07524662796534187 arcsecs\n",
      "\n",
      "Standard deviation in x and y offsets:\n",
      " 2.305326276541564e-06 4.036772933702082e-07 degrees\n",
      " 0.00829917459554963 0.0014532382561327495 arcsecs\n",
      "\n",
      "Saving /Users/undergradstudent/Research/XRB-Analysis/HST/M66/M66_astrocorrect.reg\n",
      "Check region file for correct assessments.\n"
     ]
    },
    {
     "data": {
      "text/plain": [
       "(np.float64(1.1251252786337318e-05),\n",
       " np.float64(-2.0901841101483853e-05),\n",
       " np.float64(2.305326276541564e-06),\n",
       " np.float64(4.036772933702082e-07))"
      ]
     },
     "execution_count": 72,
     "metadata": {},
     "output_type": "execute_result"
    }
   ],
   "source": [
    "# Perform astrometric corrections\n",
    "# Setting up the base and the catalog coordinates for CorrectAstrometry\n",
    "base_coords = GetCoords(hstdir+\"/M66_daofind_f555w_wfc3_fk5.reg\")\n",
    "cat_coords = [M66_calibrators[\"RA\"].values.tolist(), \n",
    "              M66_calibrators[\"Dec\"].values.tolist()]\n",
    "\n",
    "# Running CorrectAstrometry\n",
    "CorrectAstrometry(base_coords, cat_coords, returnshifts=True, \\\n",
    "                  savebasereg=hstdir+\"/M66_astrocorrect.reg\")"
   ]
  },
  {
   "cell_type": "markdown",
   "id": "000754a9-29c1-45db-9aae-35b4d2930cad",
   "metadata": {},
   "source": [
    "## Calculating Positional Uncertainty"
   ]
  },
  {
   "cell_type": "code",
   "execution_count": 82,
   "id": "495abee0-68a7-45f4-b8c7-40a7a6a2fa49",
   "metadata": {},
   "outputs": [],
   "source": [
    "sig1, sig2 = CalcPU(M66_unique, std=[0.0083,0.014], sig2search=\"Err Ellipse Major\") # std in arcsecs"
   ]
  },
  {
   "cell_type": "code",
   "execution_count": 83,
   "id": "c419d7c1-23ba-45bb-bb44-d2c2d0c2a976",
   "metadata": {},
   "outputs": [
    {
     "data": {
      "text/html": [
       "<div>\n",
       "<style scoped>\n",
       "    .dataframe tbody tr th:only-of-type {\n",
       "        vertical-align: middle;\n",
       "    }\n",
       "\n",
       "    .dataframe tbody tr th {\n",
       "        vertical-align: top;\n",
       "    }\n",
       "\n",
       "    .dataframe thead th {\n",
       "        text-align: right;\n",
       "    }\n",
       "</style>\n",
       "<table border=\"1\" class=\"dataframe\">\n",
       "  <thead>\n",
       "    <tr style=\"text-align: right;\">\n",
       "      <th></th>\n",
       "      <th>Separation</th>\n",
       "      <th>CSC ID</th>\n",
       "      <th>RA</th>\n",
       "      <th>Dec</th>\n",
       "      <th>Err Ellipse Major</th>\n",
       "      <th>Err Ellipse Minor</th>\n",
       "      <th>Err Ellipse Angle</th>\n",
       "      <th>Significance</th>\n",
       "      <th>Likelihood</th>\n",
       "      <th>conf_flag</th>\n",
       "      <th>...</th>\n",
       "      <th>flux_aper_avg_w</th>\n",
       "      <th>flux_aper_avg_lolim_w</th>\n",
       "      <th>flux_aper_avg_hilim_w</th>\n",
       "      <th>Theta</th>\n",
       "      <th>HS Ratio</th>\n",
       "      <th>Counts</th>\n",
       "      <th>Counts lolim</th>\n",
       "      <th>Counts hilim</th>\n",
       "      <th>1Sig</th>\n",
       "      <th>2Sig</th>\n",
       "    </tr>\n",
       "  </thead>\n",
       "  <tbody>\n",
       "    <tr>\n",
       "      <th>0</th>\n",
       "      <td>0.603512</td>\n",
       "      <td>2CXO J112014.9+125929</td>\n",
       "      <td>170.062420</td>\n",
       "      <td>12.991522</td>\n",
       "      <td>0.311932</td>\n",
       "      <td>0.311917</td>\n",
       "      <td>0.000000</td>\n",
       "      <td>9.567092</td>\n",
       "      <td>TRUE</td>\n",
       "      <td>True</td>\n",
       "      <td>...</td>\n",
       "      <td>NaN</td>\n",
       "      <td>NaN</td>\n",
       "      <td>NaN</td>\n",
       "      <td>0.420311</td>\n",
       "      <td>0.029981</td>\n",
       "      <td>173.048934</td>\n",
       "      <td>154.988228</td>\n",
       "      <td>191.109641</td>\n",
       "      <td>0.065813</td>\n",
       "      <td>0.145823</td>\n",
       "    </tr>\n",
       "    <tr>\n",
       "      <th>1</th>\n",
       "      <td>1.154310</td>\n",
       "      <td>2CXO J112015.0+125928</td>\n",
       "      <td>170.062870</td>\n",
       "      <td>12.991356</td>\n",
       "      <td>0.317501</td>\n",
       "      <td>0.317501</td>\n",
       "      <td>0.000000</td>\n",
       "      <td>7.701153</td>\n",
       "      <td>TRUE</td>\n",
       "      <td>True</td>\n",
       "      <td>...</td>\n",
       "      <td>NaN</td>\n",
       "      <td>NaN</td>\n",
       "      <td>NaN</td>\n",
       "      <td>0.412041</td>\n",
       "      <td>-0.277327</td>\n",
       "      <td>126.386565</td>\n",
       "      <td>109.441688</td>\n",
       "      <td>142.201784</td>\n",
       "      <td>0.071113</td>\n",
       "      <td>0.161211</td>\n",
       "    </tr>\n",
       "    <tr>\n",
       "      <th>2</th>\n",
       "      <td>4.249587</td>\n",
       "      <td>2CXO J112014.9+125933</td>\n",
       "      <td>170.062251</td>\n",
       "      <td>12.992660</td>\n",
       "      <td>0.299684</td>\n",
       "      <td>0.298357</td>\n",
       "      <td>5.587902</td>\n",
       "      <td>12.795398</td>\n",
       "      <td>TRUE</td>\n",
       "      <td>False</td>\n",
       "      <td>...</td>\n",
       "      <td>NaN</td>\n",
       "      <td>NaN</td>\n",
       "      <td>NaN</td>\n",
       "      <td>0.488407</td>\n",
       "      <td>0.224859</td>\n",
       "      <td>226.842541</td>\n",
       "      <td>209.119065</td>\n",
       "      <td>244.566017</td>\n",
       "      <td>0.063602</td>\n",
       "      <td>0.140304</td>\n",
       "    </tr>\n",
       "    <tr>\n",
       "      <th>3</th>\n",
       "      <td>4.484088</td>\n",
       "      <td>2CXO J112015.2+125932X</td>\n",
       "      <td>170.063657</td>\n",
       "      <td>12.992216</td>\n",
       "      <td>3.446421</td>\n",
       "      <td>3.446421</td>\n",
       "      <td>0.000000</td>\n",
       "      <td>39.744111</td>\n",
       "      <td>TRUE</td>\n",
       "      <td>NaN</td>\n",
       "      <td>...</td>\n",
       "      <td>NaN</td>\n",
       "      <td>NaN</td>\n",
       "      <td>NaN</td>\n",
       "      <td>0.466503</td>\n",
       "      <td>NaN</td>\n",
       "      <td>3329.616280</td>\n",
       "      <td>3231.522180</td>\n",
       "      <td>3427.710381</td>\n",
       "      <td>1.723288</td>\n",
       "      <td>3.446575</td>\n",
       "    </tr>\n",
       "    <tr>\n",
       "      <th>4</th>\n",
       "      <td>5.940189</td>\n",
       "      <td>2CXO J112015.3+125932</td>\n",
       "      <td>170.064111</td>\n",
       "      <td>12.992257</td>\n",
       "      <td>0.413187</td>\n",
       "      <td>0.343140</td>\n",
       "      <td>64.093176</td>\n",
       "      <td>5.142857</td>\n",
       "      <td>TRUE</td>\n",
       "      <td>False</td>\n",
       "      <td>...</td>\n",
       "      <td>NaN</td>\n",
       "      <td>NaN</td>\n",
       "      <td>NaN</td>\n",
       "      <td>0.477466</td>\n",
       "      <td>0.199875</td>\n",
       "      <td>39.229231</td>\n",
       "      <td>31.383385</td>\n",
       "      <td>46.639197</td>\n",
       "      <td>0.121715</td>\n",
       "      <td>0.288759</td>\n",
       "    </tr>\n",
       "    <tr>\n",
       "      <th>...</th>\n",
       "      <td>...</td>\n",
       "      <td>...</td>\n",
       "      <td>...</td>\n",
       "      <td>...</td>\n",
       "      <td>...</td>\n",
       "      <td>...</td>\n",
       "      <td>...</td>\n",
       "      <td>...</td>\n",
       "      <td>...</td>\n",
       "      <td>...</td>\n",
       "      <td>...</td>\n",
       "      <td>...</td>\n",
       "      <td>...</td>\n",
       "      <td>...</td>\n",
       "      <td>...</td>\n",
       "      <td>...</td>\n",
       "      <td>...</td>\n",
       "      <td>...</td>\n",
       "      <td>...</td>\n",
       "      <td>...</td>\n",
       "      <td>...</td>\n",
       "    </tr>\n",
       "    <tr>\n",
       "      <th>83</th>\n",
       "      <td>231.679093</td>\n",
       "      <td>2CXO J112030.5+130013</td>\n",
       "      <td>170.127449</td>\n",
       "      <td>13.003690</td>\n",
       "      <td>1.402157</td>\n",
       "      <td>0.820192</td>\n",
       "      <td>1.489236</td>\n",
       "      <td>3.575758</td>\n",
       "      <td>TRUE</td>\n",
       "      <td>False</td>\n",
       "      <td>...</td>\n",
       "      <td>NaN</td>\n",
       "      <td>NaN</td>\n",
       "      <td>NaN</td>\n",
       "      <td>3.984317</td>\n",
       "      <td>0.201124</td>\n",
       "      <td>18.342335</td>\n",
       "      <td>13.057255</td>\n",
       "      <td>23.316527</td>\n",
       "      <td>0.428885</td>\n",
       "      <td>1.054849</td>\n",
       "    </tr>\n",
       "    <tr>\n",
       "      <th>84</th>\n",
       "      <td>237.496980</td>\n",
       "      <td>2CXO J112008.5+130307</td>\n",
       "      <td>170.035391</td>\n",
       "      <td>13.051941</td>\n",
       "      <td>0.774353</td>\n",
       "      <td>0.647498</td>\n",
       "      <td>139.851620</td>\n",
       "      <td>4.000000</td>\n",
       "      <td>TRUE</td>\n",
       "      <td>False</td>\n",
       "      <td>...</td>\n",
       "      <td>NaN</td>\n",
       "      <td>NaN</td>\n",
       "      <td>NaN</td>\n",
       "      <td>4.338261</td>\n",
       "      <td>0.463460</td>\n",
       "      <td>24.421586</td>\n",
       "      <td>18.316189</td>\n",
       "      <td>30.526982</td>\n",
       "      <td>0.412499</td>\n",
       "      <td>1.004848</td>\n",
       "    </tr>\n",
       "    <tr>\n",
       "      <th>85</th>\n",
       "      <td>240.218881</td>\n",
       "      <td>2CXO J112019.6+130320</td>\n",
       "      <td>170.081728</td>\n",
       "      <td>13.055597</td>\n",
       "      <td>0.563631</td>\n",
       "      <td>0.427724</td>\n",
       "      <td>157.623228</td>\n",
       "      <td>10.427182</td>\n",
       "      <td>TRUE</td>\n",
       "      <td>False</td>\n",
       "      <td>...</td>\n",
       "      <td>NaN</td>\n",
       "      <td>NaN</td>\n",
       "      <td>NaN</td>\n",
       "      <td>4.414767</td>\n",
       "      <td>0.763273</td>\n",
       "      <td>150.478203</td>\n",
       "      <td>136.047662</td>\n",
       "      <td>164.908744</td>\n",
       "      <td>0.169920</td>\n",
       "      <td>0.357868</td>\n",
       "    </tr>\n",
       "    <tr>\n",
       "      <th>86</th>\n",
       "      <td>246.797558</td>\n",
       "      <td>2CXO J112027.8+125649</td>\n",
       "      <td>170.116105</td>\n",
       "      <td>12.947026</td>\n",
       "      <td>1.754478</td>\n",
       "      <td>1.143646</td>\n",
       "      <td>33.705932</td>\n",
       "      <td>3.294118</td>\n",
       "      <td>TRUE</td>\n",
       "      <td>False</td>\n",
       "      <td>...</td>\n",
       "      <td>NaN</td>\n",
       "      <td>NaN</td>\n",
       "      <td>NaN</td>\n",
       "      <td>3.872333</td>\n",
       "      <td>-0.408495</td>\n",
       "      <td>17.434501</td>\n",
       "      <td>12.141885</td>\n",
       "      <td>22.727118</td>\n",
       "      <td>0.426337</td>\n",
       "      <td>1.050268</td>\n",
       "    </tr>\n",
       "    <tr>\n",
       "      <th>87</th>\n",
       "      <td>249.864798</td>\n",
       "      <td>2CXO J112025.4+130247</td>\n",
       "      <td>170.105993</td>\n",
       "      <td>13.046565</td>\n",
       "      <td>1.073411</td>\n",
       "      <td>0.672588</td>\n",
       "      <td>169.752370</td>\n",
       "      <td>4.324324</td>\n",
       "      <td>TRUE</td>\n",
       "      <td>False</td>\n",
       "      <td>...</td>\n",
       "      <td>NaN</td>\n",
       "      <td>NaN</td>\n",
       "      <td>NaN</td>\n",
       "      <td>4.518050</td>\n",
       "      <td>-0.077452</td>\n",
       "      <td>28.149005</td>\n",
       "      <td>21.463617</td>\n",
       "      <td>34.482532</td>\n",
       "      <td>0.405042</td>\n",
       "      <td>0.982000</td>\n",
       "    </tr>\n",
       "  </tbody>\n",
       "</table>\n",
       "<p>88 rows × 31 columns</p>\n",
       "</div>"
      ],
      "text/plain": [
       "    Separation                  CSC ID          RA        Dec  \\\n",
       "0     0.603512   2CXO J112014.9+125929  170.062420  12.991522   \n",
       "1     1.154310   2CXO J112015.0+125928  170.062870  12.991356   \n",
       "2     4.249587   2CXO J112014.9+125933  170.062251  12.992660   \n",
       "3     4.484088  2CXO J112015.2+125932X  170.063657  12.992216   \n",
       "4     5.940189   2CXO J112015.3+125932  170.064111  12.992257   \n",
       "..         ...                     ...         ...        ...   \n",
       "83  231.679093   2CXO J112030.5+130013  170.127449  13.003690   \n",
       "84  237.496980   2CXO J112008.5+130307  170.035391  13.051941   \n",
       "85  240.218881   2CXO J112019.6+130320  170.081728  13.055597   \n",
       "86  246.797558   2CXO J112027.8+125649  170.116105  12.947026   \n",
       "87  249.864798   2CXO J112025.4+130247  170.105993  13.046565   \n",
       "\n",
       "    Err Ellipse Major  Err Ellipse Minor  Err Ellipse Angle  Significance  \\\n",
       "0            0.311932           0.311917           0.000000      9.567092   \n",
       "1            0.317501           0.317501           0.000000      7.701153   \n",
       "2            0.299684           0.298357           5.587902     12.795398   \n",
       "3            3.446421           3.446421           0.000000     39.744111   \n",
       "4            0.413187           0.343140          64.093176      5.142857   \n",
       "..                ...                ...                ...           ...   \n",
       "83           1.402157           0.820192           1.489236      3.575758   \n",
       "84           0.774353           0.647498         139.851620      4.000000   \n",
       "85           0.563631           0.427724         157.623228     10.427182   \n",
       "86           1.754478           1.143646          33.705932      3.294118   \n",
       "87           1.073411           0.672588         169.752370      4.324324   \n",
       "\n",
       "   Likelihood conf_flag  ... flux_aper_avg_w  flux_aper_avg_lolim_w  \\\n",
       "0        TRUE      True  ...             NaN                    NaN   \n",
       "1        TRUE      True  ...             NaN                    NaN   \n",
       "2        TRUE     False  ...             NaN                    NaN   \n",
       "3        TRUE       NaN  ...             NaN                    NaN   \n",
       "4        TRUE     False  ...             NaN                    NaN   \n",
       "..        ...       ...  ...             ...                    ...   \n",
       "83       TRUE     False  ...             NaN                    NaN   \n",
       "84       TRUE     False  ...             NaN                    NaN   \n",
       "85       TRUE     False  ...             NaN                    NaN   \n",
       "86       TRUE     False  ...             NaN                    NaN   \n",
       "87       TRUE     False  ...             NaN                    NaN   \n",
       "\n",
       "    flux_aper_avg_hilim_w     Theta  HS Ratio       Counts  Counts lolim  \\\n",
       "0                     NaN  0.420311  0.029981   173.048934    154.988228   \n",
       "1                     NaN  0.412041 -0.277327   126.386565    109.441688   \n",
       "2                     NaN  0.488407  0.224859   226.842541    209.119065   \n",
       "3                     NaN  0.466503       NaN  3329.616280   3231.522180   \n",
       "4                     NaN  0.477466  0.199875    39.229231     31.383385   \n",
       "..                    ...       ...       ...          ...           ...   \n",
       "83                    NaN  3.984317  0.201124    18.342335     13.057255   \n",
       "84                    NaN  4.338261  0.463460    24.421586     18.316189   \n",
       "85                    NaN  4.414767  0.763273   150.478203    136.047662   \n",
       "86                    NaN  3.872333 -0.408495    17.434501     12.141885   \n",
       "87                    NaN  4.518050 -0.077452    28.149005     21.463617   \n",
       "\n",
       "    Counts hilim      1Sig      2Sig  \n",
       "0     191.109641  0.065813  0.145823  \n",
       "1     142.201784  0.071113  0.161211  \n",
       "2     244.566017  0.063602  0.140304  \n",
       "3    3427.710381  1.723288  3.446575  \n",
       "4      46.639197  0.121715  0.288759  \n",
       "..           ...       ...       ...  \n",
       "83     23.316527  0.428885  1.054849  \n",
       "84     30.526982  0.412499  1.004848  \n",
       "85    164.908744  0.169920  0.357868  \n",
       "86     22.727118  0.426337  1.050268  \n",
       "87     34.482532  0.405042  0.982000  \n",
       "\n",
       "[88 rows x 31 columns]"
      ]
     },
     "metadata": {},
     "output_type": "display_data"
    }
   ],
   "source": [
    "M66_unique['1Sig'] = sig1  # Saves sig1 to a new header called '1Sig'\n",
    "M66_unique['2Sig'] = sig2 \n",
    "\n",
    "display(M66_unique)\n",
    "\n",
    "M66_unique.to_csv(chandradir+'/M66_csc_astrocorrected.frame')"
   ]
  },
  {
   "cell_type": "markdown",
   "id": "ea59b151-d23a-440b-a7a5-94c7de84f4b4",
   "metadata": {},
   "source": [
    "## Selecting the best 2-$\\sigma$ radius per source"
   ]
  },
  {
   "cell_type": "code",
   "execution_count": 84,
   "id": "6a05c976-fc5d-4acf-94d0-b1ae9f33b23d",
   "metadata": {},
   "outputs": [
    {
     "data": {
      "text/html": [
       "<div>\n",
       "<style scoped>\n",
       "    .dataframe tbody tr th:only-of-type {\n",
       "        vertical-align: middle;\n",
       "    }\n",
       "\n",
       "    .dataframe tbody tr th {\n",
       "        vertical-align: top;\n",
       "    }\n",
       "\n",
       "    .dataframe thead th {\n",
       "        text-align: right;\n",
       "    }\n",
       "</style>\n",
       "<table border=\"1\" class=\"dataframe\">\n",
       "  <thead>\n",
       "    <tr style=\"text-align: right;\">\n",
       "      <th></th>\n",
       "      <th>Separation</th>\n",
       "      <th>CSC ID</th>\n",
       "      <th>RA</th>\n",
       "      <th>Dec</th>\n",
       "      <th>Err Ellipse Major</th>\n",
       "      <th>Err Ellipse Minor</th>\n",
       "      <th>Err Ellipse Angle</th>\n",
       "      <th>Significance</th>\n",
       "      <th>Likelihood</th>\n",
       "      <th>conf_flag</th>\n",
       "      <th>...</th>\n",
       "      <th>flux_aper_avg_w</th>\n",
       "      <th>flux_aper_avg_lolim_w</th>\n",
       "      <th>flux_aper_avg_hilim_w</th>\n",
       "      <th>Theta</th>\n",
       "      <th>HS Ratio</th>\n",
       "      <th>Counts</th>\n",
       "      <th>Counts lolim</th>\n",
       "      <th>Counts hilim</th>\n",
       "      <th>1Sig</th>\n",
       "      <th>2Sig</th>\n",
       "    </tr>\n",
       "  </thead>\n",
       "  <tbody>\n",
       "    <tr>\n",
       "      <th>0</th>\n",
       "      <td>0.603512</td>\n",
       "      <td>2CXO J112014.9+125929</td>\n",
       "      <td>170.062420</td>\n",
       "      <td>12.991522</td>\n",
       "      <td>0.311932</td>\n",
       "      <td>0.311917</td>\n",
       "      <td>0.000000</td>\n",
       "      <td>9.567092</td>\n",
       "      <td>TRUE</td>\n",
       "      <td>True</td>\n",
       "      <td>...</td>\n",
       "      <td>NaN</td>\n",
       "      <td>NaN</td>\n",
       "      <td>NaN</td>\n",
       "      <td>0.420311</td>\n",
       "      <td>0.029981</td>\n",
       "      <td>173.048934</td>\n",
       "      <td>154.988228</td>\n",
       "      <td>191.109641</td>\n",
       "      <td>0.065813</td>\n",
       "      <td>0.145823</td>\n",
       "    </tr>\n",
       "    <tr>\n",
       "      <th>1</th>\n",
       "      <td>1.154310</td>\n",
       "      <td>2CXO J112015.0+125928</td>\n",
       "      <td>170.062870</td>\n",
       "      <td>12.991356</td>\n",
       "      <td>0.317501</td>\n",
       "      <td>0.317501</td>\n",
       "      <td>0.000000</td>\n",
       "      <td>7.701153</td>\n",
       "      <td>TRUE</td>\n",
       "      <td>True</td>\n",
       "      <td>...</td>\n",
       "      <td>NaN</td>\n",
       "      <td>NaN</td>\n",
       "      <td>NaN</td>\n",
       "      <td>0.412041</td>\n",
       "      <td>-0.277327</td>\n",
       "      <td>126.386565</td>\n",
       "      <td>109.441688</td>\n",
       "      <td>142.201784</td>\n",
       "      <td>0.071113</td>\n",
       "      <td>0.161211</td>\n",
       "    </tr>\n",
       "    <tr>\n",
       "      <th>2</th>\n",
       "      <td>4.249587</td>\n",
       "      <td>2CXO J112014.9+125933</td>\n",
       "      <td>170.062251</td>\n",
       "      <td>12.992660</td>\n",
       "      <td>0.299684</td>\n",
       "      <td>0.298357</td>\n",
       "      <td>5.587902</td>\n",
       "      <td>12.795398</td>\n",
       "      <td>TRUE</td>\n",
       "      <td>False</td>\n",
       "      <td>...</td>\n",
       "      <td>NaN</td>\n",
       "      <td>NaN</td>\n",
       "      <td>NaN</td>\n",
       "      <td>0.488407</td>\n",
       "      <td>0.224859</td>\n",
       "      <td>226.842541</td>\n",
       "      <td>209.119065</td>\n",
       "      <td>244.566017</td>\n",
       "      <td>0.063602</td>\n",
       "      <td>0.140304</td>\n",
       "    </tr>\n",
       "    <tr>\n",
       "      <th>3</th>\n",
       "      <td>4.484088</td>\n",
       "      <td>2CXO J112015.2+125932X</td>\n",
       "      <td>170.063657</td>\n",
       "      <td>12.992216</td>\n",
       "      <td>3.446421</td>\n",
       "      <td>3.446421</td>\n",
       "      <td>0.000000</td>\n",
       "      <td>39.744111</td>\n",
       "      <td>TRUE</td>\n",
       "      <td>NaN</td>\n",
       "      <td>...</td>\n",
       "      <td>NaN</td>\n",
       "      <td>NaN</td>\n",
       "      <td>NaN</td>\n",
       "      <td>0.466503</td>\n",
       "      <td>NaN</td>\n",
       "      <td>3329.616280</td>\n",
       "      <td>3231.522180</td>\n",
       "      <td>3427.710381</td>\n",
       "      <td>1.723288</td>\n",
       "      <td>3.446575</td>\n",
       "    </tr>\n",
       "    <tr>\n",
       "      <th>4</th>\n",
       "      <td>5.940189</td>\n",
       "      <td>2CXO J112015.3+125932</td>\n",
       "      <td>170.064111</td>\n",
       "      <td>12.992257</td>\n",
       "      <td>0.413187</td>\n",
       "      <td>0.343140</td>\n",
       "      <td>64.093176</td>\n",
       "      <td>5.142857</td>\n",
       "      <td>TRUE</td>\n",
       "      <td>False</td>\n",
       "      <td>...</td>\n",
       "      <td>NaN</td>\n",
       "      <td>NaN</td>\n",
       "      <td>NaN</td>\n",
       "      <td>0.477466</td>\n",
       "      <td>0.199875</td>\n",
       "      <td>39.229231</td>\n",
       "      <td>31.383385</td>\n",
       "      <td>46.639197</td>\n",
       "      <td>0.121715</td>\n",
       "      <td>0.288759</td>\n",
       "    </tr>\n",
       "    <tr>\n",
       "      <th>...</th>\n",
       "      <td>...</td>\n",
       "      <td>...</td>\n",
       "      <td>...</td>\n",
       "      <td>...</td>\n",
       "      <td>...</td>\n",
       "      <td>...</td>\n",
       "      <td>...</td>\n",
       "      <td>...</td>\n",
       "      <td>...</td>\n",
       "      <td>...</td>\n",
       "      <td>...</td>\n",
       "      <td>...</td>\n",
       "      <td>...</td>\n",
       "      <td>...</td>\n",
       "      <td>...</td>\n",
       "      <td>...</td>\n",
       "      <td>...</td>\n",
       "      <td>...</td>\n",
       "      <td>...</td>\n",
       "      <td>...</td>\n",
       "      <td>...</td>\n",
       "    </tr>\n",
       "    <tr>\n",
       "      <th>83</th>\n",
       "      <td>231.679093</td>\n",
       "      <td>2CXO J112030.5+130013</td>\n",
       "      <td>170.127449</td>\n",
       "      <td>13.003690</td>\n",
       "      <td>1.402157</td>\n",
       "      <td>0.820192</td>\n",
       "      <td>1.489236</td>\n",
       "      <td>3.575758</td>\n",
       "      <td>TRUE</td>\n",
       "      <td>False</td>\n",
       "      <td>...</td>\n",
       "      <td>NaN</td>\n",
       "      <td>NaN</td>\n",
       "      <td>NaN</td>\n",
       "      <td>3.984317</td>\n",
       "      <td>0.201124</td>\n",
       "      <td>18.342335</td>\n",
       "      <td>13.057255</td>\n",
       "      <td>23.316527</td>\n",
       "      <td>0.428885</td>\n",
       "      <td>1.054849</td>\n",
       "    </tr>\n",
       "    <tr>\n",
       "      <th>84</th>\n",
       "      <td>237.496980</td>\n",
       "      <td>2CXO J112008.5+130307</td>\n",
       "      <td>170.035391</td>\n",
       "      <td>13.051941</td>\n",
       "      <td>0.774353</td>\n",
       "      <td>0.647498</td>\n",
       "      <td>139.851620</td>\n",
       "      <td>4.000000</td>\n",
       "      <td>TRUE</td>\n",
       "      <td>False</td>\n",
       "      <td>...</td>\n",
       "      <td>NaN</td>\n",
       "      <td>NaN</td>\n",
       "      <td>NaN</td>\n",
       "      <td>4.338261</td>\n",
       "      <td>0.463460</td>\n",
       "      <td>24.421586</td>\n",
       "      <td>18.316189</td>\n",
       "      <td>30.526982</td>\n",
       "      <td>0.412499</td>\n",
       "      <td>1.004848</td>\n",
       "    </tr>\n",
       "    <tr>\n",
       "      <th>85</th>\n",
       "      <td>240.218881</td>\n",
       "      <td>2CXO J112019.6+130320</td>\n",
       "      <td>170.081728</td>\n",
       "      <td>13.055597</td>\n",
       "      <td>0.563631</td>\n",
       "      <td>0.427724</td>\n",
       "      <td>157.623228</td>\n",
       "      <td>10.427182</td>\n",
       "      <td>TRUE</td>\n",
       "      <td>False</td>\n",
       "      <td>...</td>\n",
       "      <td>NaN</td>\n",
       "      <td>NaN</td>\n",
       "      <td>NaN</td>\n",
       "      <td>4.414767</td>\n",
       "      <td>0.763273</td>\n",
       "      <td>150.478203</td>\n",
       "      <td>136.047662</td>\n",
       "      <td>164.908744</td>\n",
       "      <td>0.169920</td>\n",
       "      <td>0.357868</td>\n",
       "    </tr>\n",
       "    <tr>\n",
       "      <th>86</th>\n",
       "      <td>246.797558</td>\n",
       "      <td>2CXO J112027.8+125649</td>\n",
       "      <td>170.116105</td>\n",
       "      <td>12.947026</td>\n",
       "      <td>1.754478</td>\n",
       "      <td>1.143646</td>\n",
       "      <td>33.705932</td>\n",
       "      <td>3.294118</td>\n",
       "      <td>TRUE</td>\n",
       "      <td>False</td>\n",
       "      <td>...</td>\n",
       "      <td>NaN</td>\n",
       "      <td>NaN</td>\n",
       "      <td>NaN</td>\n",
       "      <td>3.872333</td>\n",
       "      <td>-0.408495</td>\n",
       "      <td>17.434501</td>\n",
       "      <td>12.141885</td>\n",
       "      <td>22.727118</td>\n",
       "      <td>0.426337</td>\n",
       "      <td>1.050268</td>\n",
       "    </tr>\n",
       "    <tr>\n",
       "      <th>87</th>\n",
       "      <td>249.864798</td>\n",
       "      <td>2CXO J112025.4+130247</td>\n",
       "      <td>170.105993</td>\n",
       "      <td>13.046565</td>\n",
       "      <td>1.073411</td>\n",
       "      <td>0.672588</td>\n",
       "      <td>169.752370</td>\n",
       "      <td>4.324324</td>\n",
       "      <td>TRUE</td>\n",
       "      <td>False</td>\n",
       "      <td>...</td>\n",
       "      <td>NaN</td>\n",
       "      <td>NaN</td>\n",
       "      <td>NaN</td>\n",
       "      <td>4.518050</td>\n",
       "      <td>-0.077452</td>\n",
       "      <td>28.149005</td>\n",
       "      <td>21.463617</td>\n",
       "      <td>34.482532</td>\n",
       "      <td>0.405042</td>\n",
       "      <td>0.982000</td>\n",
       "    </tr>\n",
       "  </tbody>\n",
       "</table>\n",
       "<p>88 rows × 31 columns</p>\n",
       "</div>"
      ],
      "text/plain": [
       "    Separation                  CSC ID          RA        Dec  \\\n",
       "0     0.603512   2CXO J112014.9+125929  170.062420  12.991522   \n",
       "1     1.154310   2CXO J112015.0+125928  170.062870  12.991356   \n",
       "2     4.249587   2CXO J112014.9+125933  170.062251  12.992660   \n",
       "3     4.484088  2CXO J112015.2+125932X  170.063657  12.992216   \n",
       "4     5.940189   2CXO J112015.3+125932  170.064111  12.992257   \n",
       "..         ...                     ...         ...        ...   \n",
       "83  231.679093   2CXO J112030.5+130013  170.127449  13.003690   \n",
       "84  237.496980   2CXO J112008.5+130307  170.035391  13.051941   \n",
       "85  240.218881   2CXO J112019.6+130320  170.081728  13.055597   \n",
       "86  246.797558   2CXO J112027.8+125649  170.116105  12.947026   \n",
       "87  249.864798   2CXO J112025.4+130247  170.105993  13.046565   \n",
       "\n",
       "    Err Ellipse Major  Err Ellipse Minor  Err Ellipse Angle  Significance  \\\n",
       "0            0.311932           0.311917           0.000000      9.567092   \n",
       "1            0.317501           0.317501           0.000000      7.701153   \n",
       "2            0.299684           0.298357           5.587902     12.795398   \n",
       "3            3.446421           3.446421           0.000000     39.744111   \n",
       "4            0.413187           0.343140          64.093176      5.142857   \n",
       "..                ...                ...                ...           ...   \n",
       "83           1.402157           0.820192           1.489236      3.575758   \n",
       "84           0.774353           0.647498         139.851620      4.000000   \n",
       "85           0.563631           0.427724         157.623228     10.427182   \n",
       "86           1.754478           1.143646          33.705932      3.294118   \n",
       "87           1.073411           0.672588         169.752370      4.324324   \n",
       "\n",
       "   Likelihood conf_flag  ... flux_aper_avg_w  flux_aper_avg_lolim_w  \\\n",
       "0        TRUE      True  ...             NaN                    NaN   \n",
       "1        TRUE      True  ...             NaN                    NaN   \n",
       "2        TRUE     False  ...             NaN                    NaN   \n",
       "3        TRUE       NaN  ...             NaN                    NaN   \n",
       "4        TRUE     False  ...             NaN                    NaN   \n",
       "..        ...       ...  ...             ...                    ...   \n",
       "83       TRUE     False  ...             NaN                    NaN   \n",
       "84       TRUE     False  ...             NaN                    NaN   \n",
       "85       TRUE     False  ...             NaN                    NaN   \n",
       "86       TRUE     False  ...             NaN                    NaN   \n",
       "87       TRUE     False  ...             NaN                    NaN   \n",
       "\n",
       "    flux_aper_avg_hilim_w     Theta  HS Ratio       Counts  Counts lolim  \\\n",
       "0                     NaN  0.420311  0.029981   173.048934    154.988228   \n",
       "1                     NaN  0.412041 -0.277327   126.386565    109.441688   \n",
       "2                     NaN  0.488407  0.224859   226.842541    209.119065   \n",
       "3                     NaN  0.466503       NaN  3329.616280   3231.522180   \n",
       "4                     NaN  0.477466  0.199875    39.229231     31.383385   \n",
       "..                    ...       ...       ...          ...           ...   \n",
       "83                    NaN  3.984317  0.201124    18.342335     13.057255   \n",
       "84                    NaN  4.338261  0.463460    24.421586     18.316189   \n",
       "85                    NaN  4.414767  0.763273   150.478203    136.047662   \n",
       "86                    NaN  3.872333 -0.408495    17.434501     12.141885   \n",
       "87                    NaN  4.518050 -0.077452    28.149005     21.463617   \n",
       "\n",
       "    Counts hilim      1Sig      2Sig  \n",
       "0     191.109641  0.065813  0.145823  \n",
       "1     142.201784  0.071113  0.161211  \n",
       "2     244.566017  0.063602  0.140304  \n",
       "3    3427.710381  1.723288  3.446575  \n",
       "4      46.639197  0.121715  0.288759  \n",
       "..           ...       ...       ...  \n",
       "83     23.316527  0.428885  1.054849  \n",
       "84     30.526982  0.412499  1.004848  \n",
       "85    164.908744  0.169920  0.357868  \n",
       "86     22.727118  0.426337  1.050268  \n",
       "87     34.482532  0.405042  0.982000  \n",
       "\n",
       "[88 rows x 31 columns]"
      ]
     },
     "metadata": {},
     "output_type": "display_data"
    }
   ],
   "source": [
    "# Pulling the ID of each unique CSC source\n",
    "ids = FindUnique(M66_unique, header=\"CSC ID\")[\"CSC ID\"].values.tolist()\n",
    "\n",
    "# Building an empty DataFrame, which I will fill below\n",
    "M66_best = BuildFrame()\n",
    "\n",
    "for i in ids: # for each unique ID pulled from CSC...\n",
    "    \n",
    "    # Search for all instances (i.e. observations) of each source\n",
    "    Temp = Find(M66_unique, \"CSC ID = \" + i)\n",
    "    \n",
    "    # Try to avoid sources where counts = NaN (invalid observations) \n",
    "    if len(Find(Temp, [\"Counts != NaN\", \"Theta != NaN\"])) > 0: \n",
    "        Temp = Find(Temp, [\"Counts != NaN\", \"Theta != NaN\"])\n",
    "    \n",
    "    # Specifically focus on those with a valid number of counts\n",
    "    if len(Find(Temp, \"Counts > 0\")) > 0: \n",
    "        Temp = Find(Temp, [\"Counts > 0\"])\n",
    "        \n",
    "    # Otherwise, all instances with counts = 0 have the same measurements, \n",
    "    # so it doesn't matter which row is chosen for the best radii\n",
    "    else: pass;\n",
    "    \n",
    "    # Take the source with the smallest 2sig. \n",
    "    # If there's more than one, take the first on the list.\n",
    "    Tempbest = Find(Temp, \"2Sig =< \" + str(min(Temp[\"2Sig\"]))).iloc[:1]\n",
    "    \n",
    "    # Add the chosen source observation to the new DataFrame\n",
    "    M66_best = pd.concat([M66_best, Tempbest], ignore_index=True)\n",
    "\n",
    "# Saving results to a DataFrame file\n",
    "# This file contains only rows from M101_CSC that has the \n",
    "# best 2sigma radius, based on the search performed above\n",
    "M66_best.to_csv(chandradir+\"/M66_csc_bestrads.frame\")\n",
    "\n",
    "display(M66_best)"
   ]
  },
  {
   "cell_type": "markdown",
   "id": "e50fcafd-0f74-4d0e-a175-e58c07b6f1f7",
   "metadata": {},
   "source": [
    "## Saving the positional uncertainties as region files"
   ]
  },
  {
   "cell_type": "code",
   "execution_count": 85,
   "id": "8edc4939-dc7f-48bc-949e-88ee9f381f03",
   "metadata": {},
   "outputs": [
    {
     "name": "stdout",
     "output_type": "stream",
     "text": [
      "Saving /Users/undergradstudent/Research/XRB-Analysis/Chandra/M66/M66_bestrads_2sig.reg\n",
      "Saving /Users/undergradstudent/Research/XRB-Analysis/Chandra/M66/M66_bestrads_1sig.reg\n"
     ]
    }
   ],
   "source": [
    "# Saving the 1 and 2 sigma region files for DS9 use.\n",
    "# The 2sig region files have the CSC ID printed above each source.\n",
    "WriteReg(M66_best, radius=M66_best['2Sig'].values.tolist(), radunit='arcsec', \\\n",
    "         idname=\"CSC ID\", showlabel=True, outfile=chandradir+'/M66_bestrads_2sig.reg')\n",
    "WriteReg(M66_best, radius=M66_best['1Sig'].values.tolist(), radunit='arcsec', \\\n",
    "         outfile=chandradir+'/M66_bestrads_1sig.reg')"
   ]
  },
  {
   "cell_type": "code",
   "execution_count": null,
   "id": "86544c68-80d5-4109-8585-2c8386f2ad53",
   "metadata": {},
   "outputs": [],
   "source": []
  }
 ],
 "metadata": {
  "kernelspec": {
   "display_name": "Python 3 (ipykernel)",
   "language": "python",
   "name": "python3"
  },
  "language_info": {
   "codemirror_mode": {
    "name": "ipython",
    "version": 3
   },
   "file_extension": ".py",
   "mimetype": "text/x-python",
   "name": "python",
   "nbconvert_exporter": "python",
   "pygments_lexer": "ipython3",
   "version": "3.12.10"
  }
 },
 "nbformat": 4,
 "nbformat_minor": 5
}
