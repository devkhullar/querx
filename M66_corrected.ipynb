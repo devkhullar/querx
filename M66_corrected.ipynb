{
 "cells": [
  {
   "cell_type": "markdown",
   "id": "97c5314f-b3d8-4959-ab0b-b21344482353",
   "metadata": {},
   "source": [
    "# Analysis of NGC 3627 with Optical + X-ray wavelength data"
   ]
  },
  {
   "cell_type": "code",
   "execution_count": 23,
   "id": "3fcca0e2-7353-499e-b6ec-47f327127e1f",
   "metadata": {},
   "outputs": [],
   "source": [
    "import numpy as np\n",
    "import pandas as pd\n",
    "import matplotlib.pyplot as plt\n",
    "\n",
    "from astroquery.mast import Observations\n",
    "\n",
    "from astropy.io import fits\n",
    "from astropy.stats import sigma_clipped_stats, mad_std\n",
    "\n",
    "from photutils.detection import DAOStarFinder\n",
    "\n",
    "import shutil\n",
    "import glob\n",
    "import os \n",
    "\n",
    "cd = os.chdir\n",
    "hstdir = \"/Users/undergradstudent/Research/XRB-Analysis/Galaxies/M66/HST/\""
   ]
  },
  {
   "cell_type": "markdown",
   "id": "ee961cfb-65b4-4635-88bf-813e2b2caf55",
   "metadata": {
    "jp-MarkdownHeadingCollapsed": true
   },
   "source": [
    "# Mosaicking\n",
    "## Querying data with astroquery"
   ]
  },
  {
   "cell_type": "code",
   "execution_count": 7,
   "id": "67f240cf-aa16-4057-a0e3-799c90e99536",
   "metadata": {},
   "outputs": [
    {
     "name": "stdout",
     "output_type": "stream",
     "text": [
      "Finding observations for WFC3/UVIS images...\n",
      "Done\n"
     ]
    }
   ],
   "source": [
    "filters = [\"F275W\", \"F336W\", \"F438W\", \"F555W\", \"F814W\"]\n",
    "obs_id = [13364, 13477, 15654, 12968]\n",
    "\n",
    "print(\"Finding observations for WFC3/UVIS images...\")\n",
    "obs_table = Observations.query_criteria(objectname=\"M66\", obs_collection=\"HST\",\n",
    "                                        filters=filters,\n",
    "                                        proposal_id=obs_id, instrument_name=\"WFC3/UVIS\")\n",
    "print(\"Done\")"
   ]
  },
  {
   "cell_type": "code",
   "execution_count": 8,
   "id": "b3df96fe-b072-423c-b107-948714674b8e",
   "metadata": {
    "scrolled": true
   },
   "outputs": [
    {
     "data": {
      "text/html": [
       "<div><i>Table masked=True length=32</i>\n",
       "<table id=\"table5202989600\" class=\"table-striped table-bordered table-condensed\">\n",
       "<thead><tr><th>intentType</th><th>obs_collection</th><th>provenance_name</th><th>instrument_name</th><th>project</th><th>filters</th><th>wavelength_region</th><th>target_name</th><th>target_classification</th><th>obs_id</th><th>s_ra</th><th>s_dec</th><th>dataproduct_type</th><th>proposal_pi</th><th>calib_level</th><th>t_min</th><th>t_max</th><th>t_exptime</th><th>em_min</th><th>em_max</th><th>obs_title</th><th>t_obs_release</th><th>proposal_id</th><th>proposal_type</th><th>sequence_number</th><th>s_region</th><th>jpegURL</th><th>dataURL</th><th>dataRights</th><th>mtFlag</th><th>srcDen</th><th>obsid</th><th>objID</th><th>objID1</th><th>distance</th></tr></thead>\n",
       "<thead><tr><th>str7</th><th>str3</th><th>str7</th><th>str9</th><th>str3</th><th>str5</th><th>str7</th><th>str9</th><th>str41</th><th>str35</th><th>float64</th><th>float64</th><th>str5</th><th>str20</th><th>int64</th><th>float64</th><th>float64</th><th>float64</th><th>float64</th><th>float64</th><th>str90</th><th>float64</th><th>str5</th><th>str3</th><th>int64</th><th>str912</th><th>str60</th><th>str61</th><th>str6</th><th>bool</th><th>float64</th><th>str8</th><th>str9</th><th>str9</th><th>float64</th></tr></thead>\n",
       "<tr><td>science</td><td>HST</td><td>CALWF3</td><td>WFC3/UVIS</td><td>HST</td><td>F275W</td><td>UV</td><td>NGC-3627</td><td>GALAXY;SPIRAL</td><td>idxr22060</td><td>170.0646666667</td><td>13.00013888889</td><td>image</td><td>Lee, Janice</td><td>3</td><td>58798.6967849537</td><td>58798.854620335645</td><td>2190.0</td><td>243.20000000000002</td><td>305.8</td><td>PHANGS-HST: Linking Stars and Gas throughout the Scales of Star Formation</td><td>58799.06275462</td><td>15654</td><td>GO</td><td>--</td><td>POLYGON 170.08698664 13.00556577 170.07985413 13.02716006 170.07982858651627 13.027153744369755 170.0796716 13.02762899 170.07964579535579 13.027622609763295 170.07948883 13.02809779 170.0343843 13.01694125 170.04152047 12.99534819 170.0415462823843 12.995354576975101 170.04170331 12.99487939 170.04172886131559 12.99488571238917 170.04188588 12.99441055 170.08698664 13.00556577 170.08698664 13.00556577</td><td>mast:HST/product/idxr22060_drz.jpg</td><td>mast:HST/product/idxr22060_drz.fits</td><td>PUBLIC</td><td>False</td><td>nan</td><td>26250740</td><td>770402919</td><td>770402919</td><td>28.036980630951845</td></tr>\n",
       "<tr><td>science</td><td>HST</td><td>HAP-SVM</td><td>WFC3/UVIS</td><td>HAP</td><td>F814W</td><td>OPTICAL</td><td>SN-2009HD</td><td>EXT-STAR;SUPERNOVA TYPE II</td><td>hst_12968_01_wfc3_uvis_f814w_ic0h01</td><td>170.0707916667</td><td>12.97952777778</td><td>image</td><td>Maund, Justyn Robert</td><td>3</td><td>56595.03795848</td><td>56595.06025013</td><td>1668.0</td><td>702.5</td><td>961.2</td><td>--</td><td>56960.19879628</td><td>12968</td><td>HAP</td><td>--</td><td>POLYGON 170.06672226868847 12.972905586295301 170.0635257891145 12.983812019710173 170.0749104903491 12.98612326584507 170.07801614877064 12.975216695838752 170.06672226868847 12.972905586295301</td><td>mast:HST/product/hst_12968_01_wfc3_uvis_f814w_ic0h01_drc.jpg</td><td>mast:HST/product/hst_12968_01_wfc3_uvis_f814w_ic0h01_drc.fits</td><td>PUBLIC</td><td>False</td><td>nan</td><td>26583220</td><td>656236841</td><td>656236841</td><td>27.75725548690898</td></tr>\n",
       "<tr><td>science</td><td>HST</td><td>HAP-SVM</td><td>WFC3/UVIS</td><td>HAP</td><td>F814W</td><td>OPTICAL</td><td>NGC3627</td><td>GALAXY;SPIRAL</td><td>hst_13364_12_wfc3_uvis_f814w_icdm12</td><td>170.06225</td><td>12.96494722222</td><td>image</td><td>Calzetti, Daniela</td><td>3</td><td>56696.73943426</td><td>56696.75373961</td><td>980.0</td><td>702.5</td><td>961.2</td><td>--</td><td>56697.09958337</td><td>13364</td><td>HAP</td><td>--</td><td>POLYGON 170.09587933272053 12.960105704016119 170.05863460197395 12.933661530475247 170.05809257526263 12.93424481735564 170.05776510697393 12.934156767914493 170.04302769524398 12.950961599666966 170.04318577063316 12.951280772110136 170.04299377906062 12.951456847177832 170.0426775854856 12.951379785249223 170.02768964516855 12.968425858592644 170.06500406874247 12.995633812326867 170.06530902619218 12.995380680884194 170.06580600422274 12.995721846164919 170.0807816559278 12.978277394498823 170.080634809219 12.977958243932939 170.08081550140184 12.97779314765865 170.0811091531106 12.977881170777074 170.09583423770147 12.960677998656557 170.095642216588 12.960413890106555 170.09587933272053 12.960105704016119</td><td>mast:HST/product/hst_13364_12_wfc3_uvis_f814w_icdm12_drc.jpg</td><td>mast:HST/product/hst_13364_12_wfc3_uvis_f814w_icdm12_drc.fits</td><td>PUBLIC</td><td>False</td><td>nan</td><td>26606940</td><td>653027433</td><td>653027433</td><td>0.0</td></tr>\n",
       "<tr><td>science</td><td>HST</td><td>CALWF3</td><td>WFC3/UVIS</td><td>HST</td><td>F275W</td><td>UV</td><td>NGC3627</td><td>GALAXY;SPIRAL</td><td>icdm12030</td><td>170.06225</td><td>12.96494722222</td><td>image</td><td>Calzetti, Daniela</td><td>3</td><td>56696.5926053588</td><td>56696.62305667824</td><td>2361.0</td><td>243.20000000000002</td><td>305.8</td><td>LEGUS: Legacy ExtraGalactic UV Survey</td><td>56696.8609953</td><td>13364</td><td>GO</td><td>--</td><td>POLYGON 170.09580969 12.960652099999949 170.08097361000009 12.977782859999929 170.08045708738919 12.977413690610373 170.08042303021929 12.977453011541211 170.08079944000002 12.977725710000051 170.08050660602714 12.978063037290891 170.08076328 12.97824899000004 170.06572730999986 12.995567879999875 170.06521380355662 12.995195839564763 170.06495993000001 12.995488229999875 170.02762464999995 12.96843275999999 170.04266164000018 12.951116050000078 170.04291838622683 12.951302132547198 170.04305495352725 12.951144845321066 170.04290102000007 12.951034779999947 170.05773811999998 12.933906199999985 170.05799697429296 12.93409127567079 170.0585415000001 12.933462589999994 170.09584581000001 12.960128829999974 170.09555209690177 12.960468002900058 170.09580969 12.960652099999949 170.09580969 12.960652099999949</td><td>mast:HST/product/icdm12030_drz.jpg</td><td>mast:HST/product/icdm12030_drz.fits</td><td>PUBLIC</td><td>False</td><td>nan</td><td>24813354</td><td>760221178</td><td>760221178</td><td>0.0</td></tr>\n",
       "<tr><td>science</td><td>HST</td><td>CALWF3</td><td>WFC3/UVIS</td><td>HST</td><td>F555W</td><td>OPTICAL</td><td>SN-1997BS</td><td>EXT-STAR;LUMINOUS BLUE VARIABLE;SUPERNOVA</td><td>ic8503010</td><td>170.059375</td><td>12.97211111111</td><td>image</td><td>Kochanek, Chris S.</td><td>3</td><td>56624.92212581018</td><td>56624.9380400463</td><td>1119.0</td><td>441.7</td><td>659.1</td><td>Unmasking the Supernova Impostors</td><td>56993.52687491</td><td>13477</td><td>GO</td><td>--</td><td>POLYGON 170.07746067 12.98958244 170.06925182 13.01081048 170.06922662676394 13.010802953277336 170.0692173 13.01082707 170.06919211226554 13.010819544920846 170.06918279 13.01084365 170.02469652 12.99754846 170.03290874 12.97632182 170.03293392014197 12.976329347672694 170.03294325 12.97630523 170.0329684391055 12.976312760352224 170.03297777 12.97628864 170.07746067 12.98958244 170.07746067 12.98958244</td><td>mast:HST/product/ic8503010_drz.jpg</td><td>mast:HST/product/ic8503010_drz.fits</td><td>PUBLIC</td><td>False</td><td>nan</td><td>24810938</td><td>766019247</td><td>766019247</td><td>0.0</td></tr>\n",
       "<tr><td>science</td><td>HST</td><td>HAP-SVM</td><td>WFC3/UVIS</td><td>HAP</td><td>F438W</td><td>OPTICAL</td><td>NGC-3627</td><td>GALAXY;SPIRAL</td><td>hst_15654_22_wfc3_uvis_f438w_idxr22</td><td>170.0646666667</td><td>13.00013888889</td><td>image</td><td>Lee, Janice</td><td>3</td><td>58798.64000237</td><td>58798.83825476</td><td>1050.0</td><td>394.6</td><td>468.1</td><td>--</td><td>58799.04572917</td><td>15654</td><td>HAP</td><td>--</td><td>POLYGON 170.0343906367454 13.01692615724887 170.07958589854613 13.028241125914994 170.094017276723 12.983766436226457 170.0492021138689 12.973059290303489 170.0343906367454 13.01692615724887</td><td>mast:HST/product/hst_15654_22_wfc3_uvis_f438w_idxr22_drc.jpg</td><td>mast:HST/product/hst_15654_22_wfc3_uvis_f438w_idxr22_drc.fits</td><td>PUBLIC</td><td>False</td><td>nan</td><td>26689617</td><td>660111522</td><td>660111522</td><td>0.0</td></tr>\n",
       "<tr><td>science</td><td>HST</td><td>HAP-SVM</td><td>WFC3/UVIS</td><td>HAP</td><td>F555W</td><td>OPTICAL</td><td>SN-2009HD</td><td>EXT-STAR;SUPERNOVA TYPE II</td><td>hst_12968_01_wfc3_uvis_f555w_ic0h01</td><td>170.0707916667</td><td>12.97952777778</td><td>image</td><td>Maund, Justyn Robert</td><td>3</td><td>56594.98504182</td><td>56595.03676605</td><td>1340.0</td><td>441.7</td><td>659.1</td><td>--</td><td>56960.19863424</td><td>12968</td><td>HAP</td><td>--</td><td>POLYGON 170.07798226639588 12.975194685627338 170.06666579903072 12.972938602024174 170.0635257891145 12.983812019710173 170.07484272452695 12.986167289060173 170.07798226639588 12.975194685627338</td><td>mast:HST/product/hst_12968_01_wfc3_uvis_f555w_ic0h01_drc.jpg</td><td>mast:HST/product/hst_12968_01_wfc3_uvis_f555w_ic0h01_drc.fits</td><td>PUBLIC</td><td>False</td><td>nan</td><td>26583210</td><td>656236786</td><td>656236786</td><td>27.744534966031452</td></tr>\n",
       "<tr><td>science</td><td>HST</td><td>HAP-SVM</td><td>WFC3/UVIS</td><td>HAP</td><td>F336W</td><td>OPTICAL</td><td>NGC3627</td><td>GALAXY;SPIRAL</td><td>hst_13364_12_wfc3_uvis_f336w_icdm12</td><td>170.06225</td><td>12.96494722222</td><td>image</td><td>Calzetti, Daniela</td><td>3</td><td>56696.6552676</td><td>56696.67123961</td><td>1110.0</td><td>305.8</td><td>367.3</td><td>--</td><td>56696.94539342</td><td>13364</td><td>HAP</td><td>--</td><td>POLYGON 170.09587933272053 12.960105704016119 170.05863460197395 12.933661530475247 170.05809257526263 12.93424481735564 170.05773123005582 12.93420078958274 170.04299381343537 12.951005619438776 170.04318577063316 12.951280772110136 170.04299377906062 12.951456847177832 170.04268887917473 12.951368780524264 170.0277009387766 12.96842586006943 170.064891119366 12.995556774752023 170.0650605431135 12.995644817214684 170.06532032117627 12.99539168629164 170.06580600439307 12.995732851717417 170.08079294998566 12.978277393686412 170.08064610326238 12.977958243126867 170.08080420819957 12.97780415402661 170.08112044715043 12.977881169950564 170.0957890736521 12.960744037813907 170.09565350983263 12.96041388865505 170.09587933272053 12.960105704016119</td><td>mast:HST/product/hst_13364_12_wfc3_uvis_f336w_icdm12_drc.jpg</td><td>mast:HST/product/hst_13364_12_wfc3_uvis_f336w_icdm12_drc.fits</td><td>PUBLIC</td><td>False</td><td>nan</td><td>26606978</td><td>653027656</td><td>653027656</td><td>0.0</td></tr>\n",
       "<tr><td>science</td><td>HST</td><td>HAP-SVM</td><td>WFC3/UVIS</td><td>HAP</td><td>F555W</td><td>OPTICAL</td><td>SN-1997BS</td><td>EXT-STAR;LUMINOUS BLUE VARIABLE;SUPERNOVA</td><td>hst_13477_03_wfc3_uvis_f555w_ic8503</td><td>170.059375</td><td>12.97211111111</td><td>image</td><td>Kochanek, Chris S.</td><td>3</td><td>56624.92212581</td><td>56624.93804005</td><td>1119.0</td><td>441.7</td><td>659.1</td><td>--</td><td>56993.52687491</td><td>13477</td><td>HAP</td><td>--</td><td>POLYGON 170.08556816863143 12.968101427747222 170.04136574357466 12.955336380566251 170.0331538695855 12.976213354780937 170.07759679743853 12.989254906992011 170.08556816863143 12.968101427747222 POLYGON 170.0774612962857 12.989629107426513 170.0330860823033 12.976477482383954 170.02475983473963 12.997607311042032 170.06922876049643 13.011035481795268 170.0774612962857 12.989629107426513</td><td>mast:HST/product/hst_13477_03_wfc3_uvis_f555w_ic8503_drc.jpg</td><td>mast:HST/product/hst_13477_03_wfc3_uvis_f555w_ic8503_drc.fits</td><td>PUBLIC</td><td>False</td><td>nan</td><td>26595970</td><td>658533718</td><td>658533718</td><td>0.0</td></tr>\n",
       "<tr><td>...</td><td>...</td><td>...</td><td>...</td><td>...</td><td>...</td><td>...</td><td>...</td><td>...</td><td>...</td><td>...</td><td>...</td><td>...</td><td>...</td><td>...</td><td>...</td><td>...</td><td>...</td><td>...</td><td>...</td><td>...</td><td>...</td><td>...</td><td>...</td><td>...</td><td>...</td><td>...</td><td>...</td><td>...</td><td>...</td><td>...</td><td>...</td><td>...</td><td>...</td><td>...</td></tr>\n",
       "<tr><td>science</td><td>HST</td><td>HAP-SVM</td><td>WFC3/UVIS</td><td>HAP</td><td>F814W</td><td>OPTICAL</td><td>SN-1997BS</td><td>EXT-STAR;LUMINOUS BLUE VARIABLE;SUPERNOVA</td><td>hst_13477_03_wfc3_uvis_f814w_ic8503</td><td>170.059375</td><td>12.97211111111</td><td>image</td><td>Kochanek, Chris S.</td><td>3</td><td>56624.9397184</td><td>56624.95563264</td><td>1119.0</td><td>702.5</td><td>961.2</td><td>--</td><td>56993.52850692</td><td>13477</td><td>HAP</td><td>--</td><td>POLYGON 170.08553428516305 12.968079420565589 170.04135445055843 12.955336379970447 170.03313128361194 12.976191341768887 170.07759679644647 12.989243901437192 170.08553428516305 12.968079420565589 POLYGON 170.0774274086267 12.989585088089008 170.0330634943515 12.976477480475678 170.02470336546767 12.997563282247476 170.06920616878077 13.0110244774552 170.0693755969627 13.010936423889579 170.0774274086267 12.989585088089008</td><td>mast:HST/product/hst_13477_03_wfc3_uvis_f814w_ic8503_drc.jpg</td><td>mast:HST/product/hst_13477_03_wfc3_uvis_f814w_ic8503_drc.fits</td><td>PUBLIC</td><td>False</td><td>nan</td><td>26595787</td><td>658533651</td><td>658533651</td><td>0.0</td></tr>\n",
       "<tr><td>science</td><td>HST</td><td>HAP-SVM</td><td>WFC3/UVIS</td><td>HAP</td><td>F555W</td><td>OPTICAL</td><td>NGC-3627</td><td>GALAXY;SPIRAL</td><td>hst_15654_22_wfc3_uvis_f555w_idxr22</td><td>170.0646666667</td><td>13.00013888889</td><td>image</td><td>Lee, Janice</td><td>3</td><td>58798.70707422</td><td>58798.85915735</td><td>670.0</td><td>441.7</td><td>659.1</td><td>--</td><td>58799.04819447</td><td>15654</td><td>HAP</td><td>--</td><td>POLYGON 170.09393820342657 12.983656389668942 170.0492021138689 12.973059290303489 170.03437934225622 13.016915150402802 170.07958589786654 13.0282301203622 170.09393820342657 12.983656389668942</td><td>mast:HST/product/hst_15654_22_wfc3_uvis_f555w_idxr22_drc.jpg</td><td>mast:HST/product/hst_15654_22_wfc3_uvis_f555w_idxr22_drc.fits</td><td>PUBLIC</td><td>False</td><td>nan</td><td>26689610</td><td>660111518</td><td>660111518</td><td>0.0</td></tr>\n",
       "<tr><td>science</td><td>HST</td><td>HAP-SVM</td><td>WFC3/UVIS</td><td>HAP</td><td>F814W</td><td>OPTICAL</td><td>NGC-3627</td><td>GALAXY;SPIRAL</td><td>hst_15654_22_wfc3_uvis_f814w_idxr22</td><td>170.0646666667</td><td>13.00013888889</td><td>image</td><td>Lee, Janice</td><td>3</td><td>58798.63511793</td><td>58798.83236328</td><td>830.0</td><td>702.5</td><td>961.2</td><td>--</td><td>58799.04800929</td><td>15654</td><td>HAP</td><td>--</td><td>POLYGON 170.03446970216183 13.01697018849757 170.07957460221428 13.028241126578223 170.09400598637433 12.983799454170457 170.0938252564902 12.983623385790667 170.0492134083566 12.97304828539981 170.03446970216183 13.01697018849757</td><td>mast:HST/product/hst_15654_22_wfc3_uvis_f814w_idxr22_drc.jpg</td><td>mast:HST/product/hst_15654_22_wfc3_uvis_f814w_idxr22_drc.fits</td><td>PUBLIC</td><td>False</td><td>nan</td><td>26689624</td><td>660111529</td><td>660111529</td><td>0.0</td></tr>\n",
       "<tr><td>science</td><td>HST</td><td>HAP-SVM</td><td>WFC3/UVIS</td><td>HAP</td><td>F275W</td><td>OPTICAL</td><td>NGC-3627</td><td>GALAXY;SPIRAL</td><td>hst_15654_22_wfc3_uvis_f275w_idxr22</td><td>170.0646666667</td><td>13.00013888889</td><td>image</td><td>Lee, Janice</td><td>3</td><td>58798.69678497</td><td>58798.85462031</td><td>2190.0</td><td>243.20000000000002</td><td>305.8</td><td>--</td><td>58799.06275462</td><td>15654</td><td>HAP</td><td>--</td><td>POLYGON 170.03440193255994 13.016926158541075 170.07958589786654 13.0282301203622 170.09402856838855 12.983744423835384 170.0492134083566 12.97304828539981 170.03440193255994 13.016926158541075</td><td>mast:HST/product/hst_15654_22_wfc3_uvis_f275w_idxr22_drc.jpg</td><td>mast:HST/product/hst_15654_22_wfc3_uvis_f275w_idxr22_drc.fits</td><td>PUBLIC</td><td>False</td><td>nan</td><td>26699073</td><td>660111535</td><td>660111535</td><td>0.0</td></tr>\n",
       "<tr><td>science</td><td>HST</td><td>CALWF3</td><td>WFC3/UVIS</td><td>HST</td><td>F814W</td><td>OPTICAL</td><td>SN-2009HD</td><td>EXT-STAR;SUPERNOVA TYPE II</td><td>ic0h01040</td><td>170.0707916667</td><td>12.97952777778</td><td>image</td><td>Maund, Justyn Robert</td><td>3</td><td>56595.037958483794</td><td>56595.06025011574</td><td>1668.0</td><td>702.5</td><td>961.2</td><td>Stellar Forensics IV: A post-explosion view of the progenitors of core-collapse supernovae</td><td>56960.19879628</td><td>12968</td><td>GO</td><td>--</td><td>POLYGON 170.07803536 12.97525864 170.07489937 12.98614844 170.0748551487867 12.986139366052878 170.07485056 12.9861553 170.06354823 12.98383586 170.06355584176407 12.983809433528524 170.06353921 12.98380602 170.06667567 12.97291635 170.06671989037648 12.972925425722734 170.06672448 12.97290949 170.07802634 12.97522879 170.07801872710667 12.975255227069676 170.07803536 12.97525864 170.07803536 12.97525864</td><td>mast:HST/product/ic0h01040_drz.jpg</td><td>mast:HST/product/ic0h01040_drz.fits</td><td>PUBLIC</td><td>False</td><td>nan</td><td>24808517</td><td>755619047</td><td>755619047</td><td>27.68408894925479</td></tr>\n",
       "<tr><td>science</td><td>HST</td><td>CALWF3</td><td>WFC3/UVIS</td><td>HST</td><td>F438W</td><td>OPTICAL</td><td>SN-2009HD</td><td>EXT-STAR;SUPERNOVA TYPE II</td><td>ic0h01020</td><td>170.0707916667</td><td>12.97952777778</td><td>image</td><td>Maund, Justyn Robert</td><td>3</td><td>56594.96158109954</td><td>56594.98369903935</td><td>1632.0</td><td>394.6</td><td>468.1</td><td>Stellar Forensics IV: A post-explosion view of the progenitors of core-collapse supernovae</td><td>56960.19846068</td><td>12968</td><td>GO</td><td>--</td><td>POLYGON 170.07803536 12.97525864 170.07489937 12.98614844 170.0748551487867 12.986139366052878 170.07485056 12.9861553 170.06354823 12.98383586 170.06355584176407 12.983809433528524 170.06353921 12.98380602 170.06667567 12.97291635 170.06671989037648 12.972925425722734 170.06672448 12.97290949 170.07802634 12.97522879 170.07801872710667 12.975255227069676 170.07803536 12.97525864 170.07803536 12.97525864</td><td>mast:HST/product/ic0h01020_drz.jpg</td><td>mast:HST/product/ic0h01020_drz.fits</td><td>PUBLIC</td><td>False</td><td>nan</td><td>24808515</td><td>765924476</td><td>765924476</td><td>27.68408894925479</td></tr>\n",
       "<tr><td>science</td><td>HST</td><td>HAP-SVM</td><td>WFC3/UVIS</td><td>HAP</td><td>F336W</td><td>OPTICAL</td><td>NGC-3627</td><td>GALAXY;SPIRAL</td><td>hst_15654_22_wfc3_uvis_f336w_idxr22</td><td>170.0646666667</td><td>13.00013888889</td><td>image</td><td>Lee, Janice</td><td>3</td><td>58798.64587052</td><td>58798.84435402</td><td>1110.0</td><td>305.8</td><td>367.3</td><td>--</td><td>58799.05510415</td><td>15654</td><td>HAP</td><td>--</td><td>POLYGON 170.0343906367454 13.01692615724887 170.07958589854613 13.028241125914994 170.09402856970846 12.983755429388774 170.0492134083566 12.97304828539981 170.0343906367454 13.01692615724887</td><td>mast:HST/product/hst_15654_22_wfc3_uvis_f336w_idxr22_drc.jpg</td><td>mast:HST/product/hst_15654_22_wfc3_uvis_f336w_idxr22_drc.fits</td><td>PUBLIC</td><td>False</td><td>nan</td><td>26694396</td><td>660111537</td><td>660111537</td><td>0.0</td></tr>\n",
       "<tr><td>science</td><td>HST</td><td>HAP-SVM</td><td>WFC3/UVIS</td><td>HAP</td><td>F275W</td><td>OPTICAL</td><td>NGC3627</td><td>GALAXY;SPIRAL</td><td>hst_13364_12_wfc3_uvis_f275w_icdm12</td><td>170.06225</td><td>12.96494722222</td><td>image</td><td>Calzetti, Daniela</td><td>3</td><td>56696.59260537</td><td>56696.62305665</td><td>2361.0</td><td>243.20000000000002</td><td>305.8</td><td>--</td><td>56696.8609953</td><td>13364</td><td>HAP</td><td>--</td><td>POLYGON 170.09584544703424 12.960061686183025 170.05863460212075 12.93365052492264 170.05808128320157 12.934244817189352 170.05778769164075 12.934123751615688 170.04299381427379 12.95099461388419 170.04314059597414 12.951324791092743 170.04301636557966 12.95144584325479 170.04271146740095 12.951335765518273 170.02768964516855 12.968425858592644 170.06499277376136 12.995622806905837 170.06530902619218 12.995380680884194 170.06581729907344 12.995721845998315 170.0807703635341 12.978299406419861 170.0806573956516 12.977936231211135 170.08081550140184 12.97779314765865 170.0810978607639 12.97790318271225 170.09583423919963 12.960689004210382 170.09564221807767 12.960424895660397 170.09584544703424 12.960061686183025</td><td>mast:HST/product/hst_13364_12_wfc3_uvis_f275w_icdm12_drc.jpg</td><td>mast:HST/product/hst_13364_12_wfc3_uvis_f275w_icdm12_drc.fits</td><td>PUBLIC</td><td>False</td><td>nan</td><td>26606966</td><td>653027580</td><td>653027580</td><td>0.0</td></tr>\n",
       "<tr><td>science</td><td>HST</td><td>HAP-SVM</td><td>WFC3/UVIS</td><td>HAP</td><td>F336W</td><td>OPTICAL</td><td>SN-2009HD</td><td>EXT-STAR;SUPERNOVA TYPE II</td><td>hst_12968_01_wfc3_uvis_f336w_ic0h01</td><td>170.0707916667</td><td>12.97952777778</td><td>image</td><td>Maund, Justyn Robert</td><td>3</td><td>56594.89851404</td><td>56594.92942828</td><td>2392.0</td><td>305.8</td><td>367.3</td><td>--</td><td>56960.19840281</td><td>12968</td><td>HAP</td><td>--</td><td>POLYGON 170.0667335625037 12.97290558648143 170.06354837972714 12.983745987024202 170.06431638430823 12.984054163453663 170.06416953529725 12.98487957631174 170.07547522958097 12.987157779119643 170.0785808784788 12.976328241315265 170.0778128797848 12.976009101179297 170.0780161490793 12.975227701394397 170.0667335625037 12.97290558648143</td><td>mast:HST/product/hst_12968_01_wfc3_uvis_f336w_ic0h01_drc.jpg</td><td>mast:HST/product/hst_12968_01_wfc3_uvis_f336w_ic0h01_drc.fits</td><td>PUBLIC</td><td>False</td><td>nan</td><td>26583186</td><td>656236664</td><td>656236664</td><td>24.461193653384154</td></tr>\n",
       "<tr><td>science</td><td>HST</td><td>CALWF3</td><td>WFC3/UVIS</td><td>HST</td><td>F438W</td><td>OPTICAL</td><td>NGC3627</td><td>GALAXY;SPIRAL</td><td>icdm12050</td><td>170.06225</td><td>12.96494722222</td><td>image</td><td>Calzetti, Daniela</td><td>3</td><td>56696.67306836806</td><td>56696.687258136575</td><td>956.0</td><td>394.6</td><td>468.1</td><td>LEGUS: Legacy ExtraGalactic UV Survey</td><td>56696.9454513</td><td>13364</td><td>GO</td><td>--</td><td>POLYGON 170.09580969 12.960652099999949 170.08097361000009 12.977782859999929 170.08045708738919 12.977413690610373 170.08042303021929 12.977453011541211 170.08079944000002 12.977725710000051 170.08050660602714 12.978063037290891 170.08076328 12.97824899000004 170.06572730999986 12.995567879999875 170.06521380355662 12.995195839564763 170.06495993000001 12.995488229999875 170.02762464999995 12.96843275999999 170.04266164000018 12.951116050000078 170.04291838622683 12.951302132547198 170.04305495352725 12.951144845321066 170.04290102000007 12.951034779999947 170.05773811999998 12.933906199999985 170.05799697429296 12.93409127567079 170.0585415000001 12.933462589999994 170.09584581000001 12.960128829999974 170.09555209690177 12.960468002900058 170.09580969 12.960652099999949 170.09580969 12.960652099999949</td><td>mast:HST/product/icdm12050_drz.jpg</td><td>mast:HST/product/icdm12050_drz.fits</td><td>PUBLIC</td><td>False</td><td>nan</td><td>24813356</td><td>770884879</td><td>770884879</td><td>0.0</td></tr>\n",
       "</table></div>"
      ],
      "text/plain": [
       "<Table masked=True length=32>\n",
       "intentType obs_collection provenance_name ...   objID1       distance     \n",
       "   str7         str3            str7      ...    str9        float64      \n",
       "---------- -------------- --------------- ... --------- ------------------\n",
       "   science            HST          CALWF3 ... 770402919 28.036980630951845\n",
       "   science            HST         HAP-SVM ... 656236841  27.75725548690898\n",
       "   science            HST         HAP-SVM ... 653027433                0.0\n",
       "   science            HST          CALWF3 ... 760221178                0.0\n",
       "   science            HST          CALWF3 ... 766019247                0.0\n",
       "   science            HST         HAP-SVM ... 660111522                0.0\n",
       "   science            HST         HAP-SVM ... 656236786 27.744534966031452\n",
       "   science            HST         HAP-SVM ... 653027656                0.0\n",
       "   science            HST         HAP-SVM ... 658533718                0.0\n",
       "       ...            ...             ... ...       ...                ...\n",
       "   science            HST         HAP-SVM ... 658533651                0.0\n",
       "   science            HST         HAP-SVM ... 660111518                0.0\n",
       "   science            HST         HAP-SVM ... 660111529                0.0\n",
       "   science            HST         HAP-SVM ... 660111535                0.0\n",
       "   science            HST          CALWF3 ... 755619047  27.68408894925479\n",
       "   science            HST          CALWF3 ... 765924476  27.68408894925479\n",
       "   science            HST         HAP-SVM ... 660111537                0.0\n",
       "   science            HST         HAP-SVM ... 653027580                0.0\n",
       "   science            HST         HAP-SVM ... 656236664 24.461193653384154\n",
       "   science            HST          CALWF3 ... 770884879                0.0"
      ]
     },
     "execution_count": 8,
     "metadata": {},
     "output_type": "execute_result"
    }
   ],
   "source": [
    "obs_table"
   ]
  },
  {
   "cell_type": "code",
   "execution_count": 9,
   "id": "44c52072-6612-4e62-9a91-7ac8b233a080",
   "metadata": {},
   "outputs": [
    {
     "name": "stdout",
     "output_type": "stream",
     "text": [
      "Downloading data.\n",
      "This may take several minutes... \n",
      "\n",
      "INFO: 52 of 104 products were duplicates. Only returning 52 unique product(s). [astroquery.mast.utils]\n",
      "Downloading URL https://mast.stsci.edu/api/v0.1/Download/file?uri=mast:HST/product/hst_12968_01_wfc3_uvis_f336w_ic0h01mf_flc.fits to ./mastDownload/HST/hst_12968_01_wfc3_uvis_f336w_ic0h01mf/hst_12968_01_wfc3_uvis_f336w_ic0h01mf_flc.fits ... [Done]\n",
      "Downloading URL https://mast.stsci.edu/api/v0.1/Download/file?uri=mast:HST/product/hst_12968_01_wfc3_uvis_f336w_ic0h01mg_flc.fits to ./mastDownload/HST/hst_12968_01_wfc3_uvis_f336w_ic0h01mg/hst_12968_01_wfc3_uvis_f336w_ic0h01mg_flc.fits ... [Done]\n",
      "Downloading URL https://mast.stsci.edu/api/v0.1/Download/file?uri=mast:HST/product/hst_12968_01_wfc3_uvis_f336w_ic0h01mh_flc.fits to ./mastDownload/HST/hst_12968_01_wfc3_uvis_f336w_ic0h01mh/hst_12968_01_wfc3_uvis_f336w_ic0h01mh_flc.fits ... [Done]\n",
      "Downloading URL https://mast.stsci.edu/api/v0.1/Download/file?uri=mast:HST/product/hst_12968_01_wfc3_uvis_f336w_ic0h01mi_flc.fits to ./mastDownload/HST/hst_12968_01_wfc3_uvis_f336w_ic0h01mi/hst_12968_01_wfc3_uvis_f336w_ic0h01mi_flc.fits ... [Done]\n",
      "Downloading URL https://mast.stsci.edu/api/v0.1/Download/file?uri=mast:HST/product/hst_12968_01_wfc3_uvis_f438w_ic0h01mj_flc.fits to ./mastDownload/HST/hst_12968_01_wfc3_uvis_f438w_ic0h01mj/hst_12968_01_wfc3_uvis_f438w_ic0h01mj_flc.fits ... [Done]\n",
      "Downloading URL https://mast.stsci.edu/api/v0.1/Download/file?uri=mast:HST/product/hst_12968_01_wfc3_uvis_f438w_ic0h01mk_flc.fits to ./mastDownload/HST/hst_12968_01_wfc3_uvis_f438w_ic0h01mk/hst_12968_01_wfc3_uvis_f438w_ic0h01mk_flc.fits ... [Done]\n",
      "Downloading URL https://mast.stsci.edu/api/v0.1/Download/file?uri=mast:HST/product/hst_12968_01_wfc3_uvis_f438w_ic0h01ml_flc.fits to ./mastDownload/HST/hst_12968_01_wfc3_uvis_f438w_ic0h01ml/hst_12968_01_wfc3_uvis_f438w_ic0h01ml_flc.fits ... [Done]\n",
      "Downloading URL https://mast.stsci.edu/api/v0.1/Download/file?uri=mast:HST/product/hst_12968_01_wfc3_uvis_f438w_ic0h01mm_flc.fits to ./mastDownload/HST/hst_12968_01_wfc3_uvis_f438w_ic0h01mm/hst_12968_01_wfc3_uvis_f438w_ic0h01mm_flc.fits ... [Done]\n",
      "Downloading URL https://mast.stsci.edu/api/v0.1/Download/file?uri=mast:HST/product/hst_12968_01_wfc3_uvis_f555w_ic0h01mn_flc.fits to ./mastDownload/HST/hst_12968_01_wfc3_uvis_f555w_ic0h01mn/hst_12968_01_wfc3_uvis_f555w_ic0h01mn_flc.fits ... [Done]\n",
      "Downloading URL https://mast.stsci.edu/api/v0.1/Download/file?uri=mast:HST/product/hst_12968_01_wfc3_uvis_f555w_ic0h01mo_flc.fits to ./mastDownload/HST/hst_12968_01_wfc3_uvis_f555w_ic0h01mo/hst_12968_01_wfc3_uvis_f555w_ic0h01mo_flc.fits ... [Done]\n",
      "Downloading URL https://mast.stsci.edu/api/v0.1/Download/file?uri=mast:HST/product/hst_12968_01_wfc3_uvis_f555w_ic0h01mv_flc.fits to ./mastDownload/HST/hst_12968_01_wfc3_uvis_f555w_ic0h01mv/hst_12968_01_wfc3_uvis_f555w_ic0h01mv_flc.fits ... [Done]\n",
      "Downloading URL https://mast.stsci.edu/api/v0.1/Download/file?uri=mast:HST/product/hst_12968_01_wfc3_uvis_f555w_ic0h01mw_flc.fits to ./mastDownload/HST/hst_12968_01_wfc3_uvis_f555w_ic0h01mw/hst_12968_01_wfc3_uvis_f555w_ic0h01mw_flc.fits ... [Done]\n",
      "Downloading URL https://mast.stsci.edu/api/v0.1/Download/file?uri=mast:HST/product/hst_12968_01_wfc3_uvis_f814w_ic0h01mx_flc.fits to ./mastDownload/HST/hst_12968_01_wfc3_uvis_f814w_ic0h01mx/hst_12968_01_wfc3_uvis_f814w_ic0h01mx_flc.fits ... [Done]\n",
      "Downloading URL https://mast.stsci.edu/api/v0.1/Download/file?uri=mast:HST/product/hst_12968_01_wfc3_uvis_f814w_ic0h01mz_flc.fits to ./mastDownload/HST/hst_12968_01_wfc3_uvis_f814w_ic0h01mz/hst_12968_01_wfc3_uvis_f814w_ic0h01mz_flc.fits ... [Done]\n",
      "Downloading URL https://mast.stsci.edu/api/v0.1/Download/file?uri=mast:HST/product/hst_12968_01_wfc3_uvis_f814w_ic0h01n7_flc.fits to ./mastDownload/HST/hst_12968_01_wfc3_uvis_f814w_ic0h01n7/hst_12968_01_wfc3_uvis_f814w_ic0h01n7_flc.fits ... [Done]\n",
      "Downloading URL https://mast.stsci.edu/api/v0.1/Download/file?uri=mast:HST/product/hst_12968_01_wfc3_uvis_f814w_ic0h01n8_flc.fits to ./mastDownload/HST/hst_12968_01_wfc3_uvis_f814w_ic0h01n8/hst_12968_01_wfc3_uvis_f814w_ic0h01n8_flc.fits ... [Done]\n",
      "Downloading URL https://mast.stsci.edu/api/v0.1/Download/file?uri=mast:HST/product/hst_13364_12_wfc3_uvis_f275w_icdm12jg_flc.fits to ./mastDownload/HST/hst_13364_12_wfc3_uvis_f275w_icdm12jg/hst_13364_12_wfc3_uvis_f275w_icdm12jg_flc.fits ... [Done]\n",
      "Downloading URL https://mast.stsci.edu/api/v0.1/Download/file?uri=mast:HST/product/hst_13364_12_wfc3_uvis_f275w_icdm12ji_flc.fits to ./mastDownload/HST/hst_13364_12_wfc3_uvis_f275w_icdm12ji/hst_13364_12_wfc3_uvis_f275w_icdm12ji_flc.fits ... [Done]\n",
      "Downloading URL https://mast.stsci.edu/api/v0.1/Download/file?uri=mast:HST/product/hst_13364_12_wfc3_uvis_f275w_icdm12jm_flc.fits to ./mastDownload/HST/hst_13364_12_wfc3_uvis_f275w_icdm12jm/hst_13364_12_wfc3_uvis_f275w_icdm12jm_flc.fits ... [Done]\n",
      "Downloading URL https://mast.stsci.edu/api/v0.1/Download/file?uri=mast:HST/product/hst_13364_12_wfc3_uvis_f336w_icdm12jr_flc.fits to ./mastDownload/HST/hst_13364_12_wfc3_uvis_f336w_icdm12jr/hst_13364_12_wfc3_uvis_f336w_icdm12jr_flc.fits ... [Done]\n",
      "Downloading URL https://mast.stsci.edu/api/v0.1/Download/file?uri=mast:HST/product/hst_13364_12_wfc3_uvis_f336w_icdm12jt_flc.fits to ./mastDownload/HST/hst_13364_12_wfc3_uvis_f336w_icdm12jt/hst_13364_12_wfc3_uvis_f336w_icdm12jt_flc.fits ... [Done]\n",
      "Downloading URL https://mast.stsci.edu/api/v0.1/Download/file?uri=mast:HST/product/hst_13364_12_wfc3_uvis_f336w_icdm12jv_flc.fits to ./mastDownload/HST/hst_13364_12_wfc3_uvis_f336w_icdm12jv/hst_13364_12_wfc3_uvis_f336w_icdm12jv_flc.fits ... [Done]\n",
      "Downloading URL https://mast.stsci.edu/api/v0.1/Download/file?uri=mast:HST/product/hst_13364_12_wfc3_uvis_f438w_icdm12jx_flc.fits to ./mastDownload/HST/hst_13364_12_wfc3_uvis_f438w_icdm12jx/hst_13364_12_wfc3_uvis_f438w_icdm12jx_flc.fits ... [Done]\n",
      "Downloading URL https://mast.stsci.edu/api/v0.1/Download/file?uri=mast:HST/product/hst_13364_12_wfc3_uvis_f438w_icdm12jz_flc.fits to ./mastDownload/HST/hst_13364_12_wfc3_uvis_f438w_icdm12jz/hst_13364_12_wfc3_uvis_f438w_icdm12jz_flc.fits ... [Done]\n",
      "Downloading URL https://mast.stsci.edu/api/v0.1/Download/file?uri=mast:HST/product/hst_13364_12_wfc3_uvis_f438w_icdm12k1_flc.fits to ./mastDownload/HST/hst_13364_12_wfc3_uvis_f438w_icdm12k1/hst_13364_12_wfc3_uvis_f438w_icdm12k1_flc.fits ... [Done]\n",
      "Downloading URL https://mast.stsci.edu/api/v0.1/Download/file?uri=mast:HST/product/hst_13364_12_wfc3_uvis_f555w_icdm12k4_flc.fits to ./mastDownload/HST/hst_13364_12_wfc3_uvis_f555w_icdm12k4/hst_13364_12_wfc3_uvis_f555w_icdm12k4_flc.fits ... [Done]\n",
      "Downloading URL https://mast.stsci.edu/api/v0.1/Download/file?uri=mast:HST/product/hst_13364_12_wfc3_uvis_f555w_icdm12k6_flc.fits to ./mastDownload/HST/hst_13364_12_wfc3_uvis_f555w_icdm12k6/hst_13364_12_wfc3_uvis_f555w_icdm12k6_flc.fits ... [Done]\n",
      "Downloading URL https://mast.stsci.edu/api/v0.1/Download/file?uri=mast:HST/product/hst_13364_12_wfc3_uvis_f555w_icdm12k8_flc.fits to ./mastDownload/HST/hst_13364_12_wfc3_uvis_f555w_icdm12k8/hst_13364_12_wfc3_uvis_f555w_icdm12k8_flc.fits ... [Done]\n",
      "Downloading URL https://mast.stsci.edu/api/v0.1/Download/file?uri=mast:HST/product/hst_13364_12_wfc3_uvis_f814w_icdm12ka_flc.fits to ./mastDownload/HST/hst_13364_12_wfc3_uvis_f814w_icdm12ka/hst_13364_12_wfc3_uvis_f814w_icdm12ka_flc.fits ... [Done]\n",
      "Downloading URL https://mast.stsci.edu/api/v0.1/Download/file?uri=mast:HST/product/hst_13364_12_wfc3_uvis_f814w_icdm12kc_flc.fits to ./mastDownload/HST/hst_13364_12_wfc3_uvis_f814w_icdm12kc/hst_13364_12_wfc3_uvis_f814w_icdm12kc_flc.fits ... [Done]\n",
      "Downloading URL https://mast.stsci.edu/api/v0.1/Download/file?uri=mast:HST/product/hst_13364_12_wfc3_uvis_f814w_icdm12ke_flc.fits to ./mastDownload/HST/hst_13364_12_wfc3_uvis_f814w_icdm12ke/hst_13364_12_wfc3_uvis_f814w_icdm12ke_flc.fits ... [Done]\n",
      "Downloading URL https://mast.stsci.edu/api/v0.1/Download/file?uri=mast:HST/product/hst_13477_03_wfc3_uvis_f555w_ic8503wc_flc.fits to ./mastDownload/HST/hst_13477_03_wfc3_uvis_f555w_ic8503wc/hst_13477_03_wfc3_uvis_f555w_ic8503wc_flc.fits ... [Done]\n",
      "Downloading URL https://mast.stsci.edu/api/v0.1/Download/file?uri=mast:HST/product/hst_13477_03_wfc3_uvis_f555w_ic8503wd_flc.fits to ./mastDownload/HST/hst_13477_03_wfc3_uvis_f555w_ic8503wd/hst_13477_03_wfc3_uvis_f555w_ic8503wd_flc.fits ... [Done]\n",
      "Downloading URL https://mast.stsci.edu/api/v0.1/Download/file?uri=mast:HST/product/hst_13477_03_wfc3_uvis_f555w_ic8503wf_flc.fits to ./mastDownload/HST/hst_13477_03_wfc3_uvis_f555w_ic8503wf/hst_13477_03_wfc3_uvis_f555w_ic8503wf_flc.fits ... [Done]\n",
      "Downloading URL https://mast.stsci.edu/api/v0.1/Download/file?uri=mast:HST/product/hst_13477_03_wfc3_uvis_f814w_ic8503wh_flc.fits to ./mastDownload/HST/hst_13477_03_wfc3_uvis_f814w_ic8503wh/hst_13477_03_wfc3_uvis_f814w_ic8503wh_flc.fits ... [Done]\n",
      "Downloading URL https://mast.stsci.edu/api/v0.1/Download/file?uri=mast:HST/product/hst_13477_03_wfc3_uvis_f814w_ic8503wj_flc.fits to ./mastDownload/HST/hst_13477_03_wfc3_uvis_f814w_ic8503wj/hst_13477_03_wfc3_uvis_f814w_ic8503wj_flc.fits ... [Done]\n",
      "Downloading URL https://mast.stsci.edu/api/v0.1/Download/file?uri=mast:HST/product/hst_13477_03_wfc3_uvis_f814w_ic8503wl_flc.fits to ./mastDownload/HST/hst_13477_03_wfc3_uvis_f814w_ic8503wl/hst_13477_03_wfc3_uvis_f814w_ic8503wl_flc.fits ... [Done]\n",
      "Downloading URL https://mast.stsci.edu/api/v0.1/Download/file?uri=mast:HST/product/hst_15654_22_wfc3_uvis_f275w_idxr22eq_flc.fits to ./mastDownload/HST/hst_15654_22_wfc3_uvis_f275w_idxr22eq/hst_15654_22_wfc3_uvis_f275w_idxr22eq_flc.fits ... [Done]\n",
      "Downloading URL https://mast.stsci.edu/api/v0.1/Download/file?uri=mast:HST/product/hst_15654_22_wfc3_uvis_f275w_idxr22f3_flc.fits to ./mastDownload/HST/hst_15654_22_wfc3_uvis_f275w_idxr22f3/hst_15654_22_wfc3_uvis_f275w_idxr22f3_flc.fits ... [Done]\n",
      "Downloading URL https://mast.stsci.edu/api/v0.1/Download/file?uri=mast:HST/product/hst_15654_22_wfc3_uvis_f275w_idxr22fg_flc.fits to ./mastDownload/HST/hst_15654_22_wfc3_uvis_f275w_idxr22fg/hst_15654_22_wfc3_uvis_f275w_idxr22fg_flc.fits ... [Done]\n",
      "Downloading URL https://mast.stsci.edu/api/v0.1/Download/file?uri=mast:HST/product/hst_15654_22_wfc3_uvis_f336w_idxr22eo_flc.fits to ./mastDownload/HST/hst_15654_22_wfc3_uvis_f336w_idxr22eo/hst_15654_22_wfc3_uvis_f336w_idxr22eo_flc.fits ... [Done]\n",
      "Downloading URL https://mast.stsci.edu/api/v0.1/Download/file?uri=mast:HST/product/hst_15654_22_wfc3_uvis_f336w_idxr22f1_flc.fits to ./mastDownload/HST/hst_15654_22_wfc3_uvis_f336w_idxr22f1/hst_15654_22_wfc3_uvis_f336w_idxr22f1_flc.fits ... [Done]\n",
      "Downloading URL https://mast.stsci.edu/api/v0.1/Download/file?uri=mast:HST/product/hst_15654_22_wfc3_uvis_f336w_idxr22fe_flc.fits to ./mastDownload/HST/hst_15654_22_wfc3_uvis_f336w_idxr22fe/hst_15654_22_wfc3_uvis_f336w_idxr22fe_flc.fits ... [Done]\n",
      "Downloading URL https://mast.stsci.edu/api/v0.1/Download/file?uri=mast:HST/product/hst_15654_22_wfc3_uvis_f438w_idxr22em_flc.fits to ./mastDownload/HST/hst_15654_22_wfc3_uvis_f438w_idxr22em/hst_15654_22_wfc3_uvis_f438w_idxr22em_flc.fits ... [Done]\n",
      "Downloading URL https://mast.stsci.edu/api/v0.1/Download/file?uri=mast:HST/product/hst_15654_22_wfc3_uvis_f438w_idxr22ez_flc.fits to ./mastDownload/HST/hst_15654_22_wfc3_uvis_f438w_idxr22ez/hst_15654_22_wfc3_uvis_f438w_idxr22ez_flc.fits ... [Done]\n",
      "Downloading URL https://mast.stsci.edu/api/v0.1/Download/file?uri=mast:HST/product/hst_15654_22_wfc3_uvis_f438w_idxr22fc_flc.fits to ./mastDownload/HST/hst_15654_22_wfc3_uvis_f438w_idxr22fc/hst_15654_22_wfc3_uvis_f438w_idxr22fc_flc.fits ... [Done]\n",
      "Downloading URL https://mast.stsci.edu/api/v0.1/Download/file?uri=mast:HST/product/hst_15654_22_wfc3_uvis_f555w_idxr22eu_flc.fits to ./mastDownload/HST/hst_15654_22_wfc3_uvis_f555w_idxr22eu/hst_15654_22_wfc3_uvis_f555w_idxr22eu_flc.fits ... [Done]\n",
      "Downloading URL https://mast.stsci.edu/api/v0.1/Download/file?uri=mast:HST/product/hst_15654_22_wfc3_uvis_f555w_idxr22f7_flc.fits to ./mastDownload/HST/hst_15654_22_wfc3_uvis_f555w_idxr22f7/hst_15654_22_wfc3_uvis_f555w_idxr22f7_flc.fits ... [Done]\n",
      "Downloading URL https://mast.stsci.edu/api/v0.1/Download/file?uri=mast:HST/product/hst_15654_22_wfc3_uvis_f555w_idxr22fk_flc.fits to ./mastDownload/HST/hst_15654_22_wfc3_uvis_f555w_idxr22fk/hst_15654_22_wfc3_uvis_f555w_idxr22fk_flc.fits ... [Done]\n",
      "Downloading URL https://mast.stsci.edu/api/v0.1/Download/file?uri=mast:HST/product/hst_15654_22_wfc3_uvis_f814w_idxr22ek_flc.fits to ./mastDownload/HST/hst_15654_22_wfc3_uvis_f814w_idxr22ek/hst_15654_22_wfc3_uvis_f814w_idxr22ek_flc.fits ... [Done]\n",
      "Downloading URL https://mast.stsci.edu/api/v0.1/Download/file?uri=mast:HST/product/hst_15654_22_wfc3_uvis_f814w_idxr22ew_flc.fits to ./mastDownload/HST/hst_15654_22_wfc3_uvis_f814w_idxr22ew/hst_15654_22_wfc3_uvis_f814w_idxr22ew_flc.fits ... [Done]\n",
      "Downloading URL https://mast.stsci.edu/api/v0.1/Download/file?uri=mast:HST/product/hst_15654_22_wfc3_uvis_f814w_idxr22f9_flc.fits to ./mastDownload/HST/hst_15654_22_wfc3_uvis_f814w_idxr22f9/hst_15654_22_wfc3_uvis_f814w_idxr22f9_flc.fits ... [Done]\n",
      "Done\n",
      "CPU times: user 20.9 s, sys: 17.5 s, total: 38.3 s\n",
      "Wall time: 4min 6s\n"
     ]
    }
   ],
   "source": [
    "%%time\n",
    "cd(hstdir)\n",
    "print(\"Downloading data.\\nThis may take several minutes... \\n\")\n",
    "products = Observations.get_product_list(obs_table)\n",
    "data_prod = ['FLC']       \n",
    "data_type = ['HAP-SVM']   \n",
    "\n",
    "Observations.download_products(products, project=data_type, \n",
    "                               productSubGroupDescription=data_prod)\n",
    "print(\"Done\")\n"
   ]
  },
  {
   "cell_type": "code",
   "execution_count": null,
   "id": "9fa6c435-1cae-450c-9679-9482e09c5e2b",
   "metadata": {},
   "outputs": [],
   "source": []
  },
  {
   "cell_type": "code",
   "execution_count": 11,
   "id": "1b2b2d6a-8d60-414b-8fe4-72175ed6cfd2",
   "metadata": {},
   "outputs": [
    {
     "name": "stdout",
     "output_type": "stream",
     "text": [
      "Done\n"
     ]
    }
   ],
   "source": [
    "# Gathering the FLC file names\n",
    "input_flcs = glob.glob(os.path.join('mastDownload','HST','*','*.fits'))\n",
    "\n",
    "# Moving files from mastDownload directory into current directory\n",
    "for flc in input_flcs:\n",
    "  shutil.copy(flc, os.path.basename(flc))\n",
    "\n",
    "shutil.rmtree('mastDownload') # removes the extra directories\n",
    "print(\"Done\")"
   ]
  },
  {
   "cell_type": "code",
   "execution_count": 13,
   "id": "464d30cc-40ab-4123-bfd0-4d701cb5f2fd",
   "metadata": {},
   "outputs": [],
   "source": [
    "flc_files = glob.glob(\"hst*_acs_wfc_*_j*_flc.fits\")\n",
    "flc_files.sort()       # Alphabetizing files\n",
    "\n",
    "for i,f in enumerate(flc_files):\n",
    "    try: hdu = fits.open(f)\n",
    "    except: print(f,\"not good. Please remove.\")"
   ]
  },
  {
   "cell_type": "markdown",
   "id": "c7037a96-658f-43f8-8738-87fdfa8e8b7c",
   "metadata": {
    "jp-MarkdownHeadingCollapsed": true
   },
   "source": [
    "## F555W\n",
    "The following code will be run in a python terminal"
   ]
  },
  {
   "cell_type": "code",
   "execution_count": null,
   "id": "70d4a126-95df-40f2-92de-48206007434b",
   "metadata": {
    "scrolled": true
   },
   "outputs": [],
   "source": [
    "from drizzlepac.astrodrizzle import AstroDrizzle as adriz\n",
    "\n",
    "flc_files = glob.glob(\"*f555w*flc*.fits\")\n",
    "flc_files.sort()\n",
    "\n",
    "adriz(flc_files, output='M66_mosaic_uvis_f555w',\n",
    "      preserve=True, clean=True, context=False,\n",
    "      skymethod='globalmin+match', # renormalizes the brightness of each field\n",
    "      driz_cr=True, driz_cr_corr=False,\n",
    "      final_wcs=True, final_rot=0,  # places North pointed up\n",
    "      configobj=None, overwrite=False, build=False)  "
   ]
  },
  {
   "cell_type": "markdown",
   "id": "be1b044c-1ae5-4c66-8217-211df2cdf951",
   "metadata": {
    "jp-MarkdownHeadingCollapsed": true
   },
   "source": [
    "# F814W"
   ]
  },
  {
   "cell_type": "code",
   "execution_count": null,
   "id": "fdd64bac-0406-4adc-8bb6-8debe43307fb",
   "metadata": {},
   "outputs": [],
   "source": [
    "flc_files = glob.glob(\"*f814w*flc*.fits\")\n",
    "flc_files.sorqqt()\n",
    "\n",
    "adriz(flc_files, output='M66_mosaic_uvis_f814w',\n",
    "      preserve=True, clean=True, context=False,\n",
    "      skymethod='globalmin+match', # renormalizes the brightness of each field\n",
    "      driz_cr=True, driz_cr_corr=False,\n",
    "      final_wcs=True, final_rot=0,  # places North pointed up\n",
    "      configobj=None, overwrite=False, build=False) "
   ]
  },
  {
   "cell_type": "markdown",
   "id": "43e8774d-225e-46d3-856c-d65ede2e8850",
   "metadata": {
    "jp-MarkdownHeadingCollapsed": true
   },
   "source": [
    "# F438W"
   ]
  },
  {
   "cell_type": "code",
   "execution_count": null,
   "id": "8c3cf17f-c48e-4179-9af8-942b5d010c5c",
   "metadata": {},
   "outputs": [],
   "source": [
    "flc_files = glob.glob(\"*f438w*flc*.fits\")\n",
    "flc_files.sort()\n",
    "\n",
    "adriz(flc_files, output='M66_mosaic_uvis_f438w',\n",
    "      preserve=True, clean=True, context=False,\n",
    "      skymethod='globalmin+match', # renormalizes the brightness of each field\n",
    "      driz_cr=True, driz_cr_corr=False,\n",
    "      final_wcs=True, final_rot=0,  # places North pointed up\n",
    "      configobj=None, overwrite=False, build=False) "
   ]
  },
  {
   "cell_type": "markdown",
   "id": "a9ba4d30-c673-499a-bf70-93cf83b827d0",
   "metadata": {
    "jp-MarkdownHeadingCollapsed": true
   },
   "source": [
    "# F336W"
   ]
  },
  {
   "cell_type": "code",
   "execution_count": null,
   "id": "53d4eeee-e77d-4b70-a746-456f61199c3c",
   "metadata": {},
   "outputs": [],
   "source": [
    "flc_files = glob.glob(\"*f336w*flc*.fits\")\n",
    "flc_files.sort()\n",
    "\n",
    "adriz(flc_files, output='M66_mosaic_uvis_f336w',\n",
    "      preserve=True, clean=True, context=False,\n",
    "      skymethod='globalmin+match', # renormalizes the brightness of each field\n",
    "      driz_cr=True, driz_cr_corr=False,\n",
    "      final_wcs=True, final_rot=0,  # places North pointed up\n",
    "      configobj=None, overwrite=False, build=False) "
   ]
  },
  {
   "cell_type": "markdown",
   "id": "1ec7a4e7-8215-4969-8bde-355b636d7285",
   "metadata": {
    "jp-MarkdownHeadingCollapsed": true
   },
   "source": [
    "# F275W"
   ]
  },
  {
   "cell_type": "code",
   "execution_count": null,
   "id": "99f38e9d-ef1f-4beb-a23e-745c9ac6385a",
   "metadata": {},
   "outputs": [],
   "source": [
    "flc_files = glob.glob(\"*f275w*flc*.fits\")\n",
    "flc_files.sort()\n",
    "\n",
    "adriz(flc_files, output='M66_mosaic_uvis_f275w',\n",
    "      preserve=True, clean=True, context=False,\n",
    "      skymethod='globalmin+match', # renormalizes the brightness of each field\n",
    "      driz_cr=True, driz_cr_corr=False,\n",
    "      final_wcs=True, final_rot=0,  # places North pointed up\n",
    "      configobj=None, overwrite=False, build=False) "
   ]
  },
  {
   "cell_type": "markdown",
   "id": "82eb3511-5df8-4557-b636-fe319057d1e1",
   "metadata": {},
   "source": [
    "# Photometry"
   ]
  },
  {
   "cell_type": "markdown",
   "id": "10561b3d",
   "metadata": {},
   "source": [
    "## F814W"
   ]
  },
  {
   "cell_type": "code",
   "execution_count": null,
   "id": "802c266b",
   "metadata": {},
   "outputs": [],
   "source": [
    "f814w_data = fits.getdata(f814w)\n",
    "f814w_data_sliced = f814w_data[3400:3700, 4400:4700]\n",
    "pixtoarcs = 0.03962\n",
    "f814w_objects = DaoFindObjects(f814w_data_sliced, fwhm=0.10*2, pixtoarcs=pixtoarcs, threshold=2, plot=True)\n",
    "\n",
    "# investigating the daofind sources and extracting their photometry\n",
    "f814w_hdu = fits.open(f814w)\n",
    "apcorr, aperr, apcorr_ext, aperr_ext = RunPhots(f814w_hdu, gal=\"M66\", instrument=\"WFC3\",\n",
    "                                               filter='F814W', fwhm_arcs=0.10*2, threshold=2,\n",
    "                                               num_stars=20, extended_rad=8, reg_correction=[1,1])\n",
    "f814w_hdu.close()\n",
    "\n",
    "# ((np.float64(-0.8588325849729528),),\n",
    "#  np.float64(0.1807607521654574),\n",
    "#  np.float64(-0.3719457463759386),\n",
    "#  np.float64(0.10642947110641915))"
   ]
  },
  {
   "cell_type": "markdown",
   "id": "8d6c7400",
   "metadata": {},
   "source": [
    "## F555W"
   ]
  },
  {
   "cell_type": "code",
   "execution_count": null,
   "id": "a3af42e3",
   "metadata": {},
   "outputs": [],
   "source": [
    "f555w_data = fits.getdata(f555w)\n",
    "f555w_data_sliced = f555w_data[3400:3700, 4400:4700]\n",
    "pixtoarcs = 0.03962\n",
    "fwhm = 0.18 * 2 # originally found 0.18 arcsec through ds9\n",
    "f555w_objects = DaoFindObjects(f555w_data_sliced, fwhm=fwhm, pixtoarcs=pixtoarcs,\n",
    "                               threshold=2, plot=True)\n",
    "\n",
    "#investigating the daofind sources and extracting their photometry\n",
    "f555w_hdu = fits.open(f555w)\n",
    "apcorr555w, aperr555w, apcorr_ext555w, aperr_ext555w = RunPhots(f555w_hdu, gal=\"M66\", instrument=\"WFC3\",\n",
    "                                               filter='F555W', fwhm_arcs=fwhm, threshold=2,\n",
    "                                               num_stars=20, extended_rad=8, reg_correction=[1,1])\n",
    "f555w_hdu.close()\n",
    "\n",
    "# ((np.float64(-0.8814290765714752),),\n",
    "#  np.float64(0.24055442323969883),\n",
    "#  np.float64(-0.3472747023393392),\n",
    "#  np.float64(0.12601848622183956))"
   ]
  },
  {
   "cell_type": "markdown",
   "id": "ca986f01",
   "metadata": {},
   "source": [
    "## F438W"
   ]
  },
  {
   "cell_type": "code",
   "execution_count": null,
   "id": "0071c869",
   "metadata": {},
   "outputs": [],
   "source": [
    "f438w_data = fits.getdata(f438w)\n",
    "f438w_data_sliced = f438w_data[3400:3700, 4400:4700]\n",
    "pixtoarcs = 0.03962\n",
    "fwhm = 0.11 * 2 # originally found 0.18 arcsec through ds9\n",
    "f438w_objects = DaoFindObjects(f438w_data_sliced, fwhm=fwhm, pixtoarcs=pixtoarcs,\n",
    "                               threshold=2, plot=True, vmax=0.09)\n",
    "print(len(f438w_objects)) # found with 195 sources fwhm=0.10\n",
    "\n",
    "#investigating the daofind sources and extracting their photometry\n",
    "f438w_hdu = fits.open(f438w)\n",
    "apcorr438w, aperr438w, apcorr_ext438w, aperr_ext438w = RunPhots(f438w_hdu, gal=\"M66\", instrument=\"WFC3\",\n",
    "                                               filter='F438W', fwhm_arcs=fwhm, threshold=2,\n",
    "                                               num_stars=20, extended_rad=8, reg_correction=[1,1])\n",
    "f438w_hdu.close()\n",
    "\n",
    "# ((np.float64(-0.9175731144364969),),\n",
    "#  np.float64(0.2291917542835823),\n",
    "#  np.float64(-0.4745254777532202),\n",
    "#  np.float64(0.15543813531799572))"
   ]
  },
  {
   "cell_type": "markdown",
   "id": "7a91876f",
   "metadata": {},
   "source": [
    "## F336W"
   ]
  },
  {
   "cell_type": "code",
   "execution_count": null,
   "id": "0a2b5deb",
   "metadata": {},
   "outputs": [],
   "source": [
    "f336w_data = fits.getdata(f336w)\n",
    "f336w_data_sliced = f336w_data[3400:3700, 4400:4700]\n",
    "pixtoarcs = 0.03962\n",
    "fwhm = 0.12 * 2 # originally found 0.18 arcsec through ds9\n",
    "f336w_objects = DaoFindObjects(f336w_data_sliced, fwhm=fwhm, pixtoarcs=pixtoarcs,\n",
    "                               threshold=2, plot=True, vmax=0.05)\n",
    "print(len(f336w_objects)) # found with 195 sources fwhm=0.10\n",
    "\n",
    "# investigating the daofind sources and extracting their photometry\n",
    "f336w_hdu = fits.open(f336w)\n",
    "apcorr336w, aperr336w, apcorr_ext336w, aperr_ext336w = RunPhots(f336w_hdu, gal=\"M66\", instrument=\"WFC3\",\n",
    "                                               filter='F336W', fwhm_arcs=fwhm, threshold=2,\n",
    "                                               num_stars=20, extended_rad=8, reg_correction=[1,1])\n",
    "f336w_hdu.close()\n",
    "\n",
    "# ((np.float64(-0.9540754478692428),),\n",
    "#  np.float64(0.23448030394882666),\n",
    "#  np.float64(-0.43512525755218445),\n",
    "#  np.float64(0.13649683194194648))"
   ]
  },
  {
   "cell_type": "markdown",
   "id": "089275db",
   "metadata": {},
   "source": [
    "## F275W"
   ]
  },
  {
   "cell_type": "code",
   "execution_count": null,
   "id": "cdc37848",
   "metadata": {},
   "outputs": [],
   "source": [
    "f275w_data = fits.getdata(f275w)\n",
    "f275w_data_sliced = f275w_data[4400:5000, 4300:4900]\n",
    "pixtoarcs = 0.03962\n",
    "fwhm = 0.12 * 2 # originally found 0.18 arcsec through ds9\n",
    "f275w_objects = DaoFindObjects(f275w_data_sliced, fwhm=fwhm, pixtoarcs=pixtoarcs,\n",
    "                               threshold=2, plot=True, vmax=0.015)\n",
    "print(len(f275w_objects)) # found with 195 sources fwhm=0.10\n",
    "\n",
    "#investigating the daofind sources and extracting their photometry\n",
    "f275w_hdu = fits.open(f275w)\n",
    "apcorr275w, aperr275w, apcorr_ext275w, aperr_ext275w = RunPhots(f275w_hdu, gal=\"M66\", instrument=\"WFC3\",\n",
    "                                               filter='F275W', fwhm_arcs=fwhm, threshold=2,\n",
    "                                               num_stars=20, extended_rad=8, reg_correction=[1,1])\n",
    "f275w_hdu.close()\n",
    "\n",
    "# ((np.float64(-0.9707309801124901),),\n",
    "#  np.float64(0.25887846989477437),\n",
    "#  np.float64(-0.4419304737417187),\n",
    "#  np.float64(0.1511766174865048))"
   ]
  },
  {
   "cell_type": "markdown",
   "id": "6b385d4d",
   "metadata": {},
   "source": [
    "# Astrometric Corrections"
   ]
  },
  {
   "cell_type": "markdown",
   "id": "4cbf84c7",
   "metadata": {},
   "source": [
    "M66_CSC = LoadSources(chandra_hst_dir+\"cscresults_M66_renamed.frame\")\n",
    "M66_unique = FindUnique(M66_CSC, header=\"CSC ID\")\n",
    "WriteReg(M66_unique, outfile=chandra_hst_dir+\"M66_cscsources.reg\", idheader=\"CSC ID\", \n",
    "         radius=5, radunit=\"arcsec\", width=2, color=\"hotpink\")"
   ]
  },
  {
   "cell_type": "code",
   "execution_count": null,
   "id": "5e79e833",
   "metadata": {},
   "outputs": [],
   "source": [
    "M66_calibrators = [\"2CXO J112014.8+125814\",\n",
    "                   \"2CXO J112018.9+130135\",\n",
    "                   \"2CXO J112019.1+125947\", # Not sure about this (upper left corner)\n",
    "                   \"2CXO J112019.5+125958\", # Not sure about this (upper left corner)\n",
    "                   \"2CXO J112018.8+125924\",\n",
    "                  ] \n",
    "print(f\"{len(M66_calibrators)} calibrators to match\")\n",
    "\n",
    "M66_calibrators = RemoveElse(M66_unique, keep=M66_calibrators, header='CSC ID')\n",
    "print(f\"{len(M66_calibrators)} calibrators found\")\n",
    "\n",
    "WriteReg(M66_calibrators, outfile=chandra_hst_dir+\"M66_calibrators.reg\")"
   ]
  },
  {
   "cell_type": "code",
   "execution_count": null,
   "id": "1562d347",
   "metadata": {},
   "outputs": [],
   "source": [
    "base_coords = GetCoords(hstdir+\"M66_daofind_f555w_wfc3_fk5.reg\")\n",
    "cat_coords = [M66_calibrators[\"RA\"].values.tolist(),\n",
    "              M66_calibrators[\"Dec\"].values.tolist()]\n",
    "\n",
    "CorrectAstrometry(base_coords, cat_coords, returnshifts=True,\n",
    "                 savebasereg=chandra_hst_dir+\"M66_astrocorrect.reg\")\n",
    "\n",
    "# Input min and max separation: 0, 9.6e-5\n",
    "# Min and max x residuals: -3e-5, 2.2e-5\n",
    "# Min and max y residuals: -4.2e-5, 1.6e-5\n",
    "\n",
    "# RESULTS OF ASTROMETRY CORRECTION\n",
    "\n",
    "# Median offsets in x and y:\n",
    "#  -2.018614964072185e-05 3.766607498967289e-05 degrees\n",
    "#  -0.07267013870659866 0.13559786996282241 arcsecs\n",
    "\n",
    "# Standard deviation in x and y offsets:\n",
    "#  1.7643739978865733e-05 1.9961232387211725e-05 degrees\n",
    "#  0.06351746392391663 0.07186043659396221 arcsecs\n",
    "\n",
    "#  (np.float64(-2.018614964072185e-05),\n",
    "#  np.float64(3.766607498967289e-05),\n",
    "#  np.float64(1.7643739978865733e-05),\n",
    "#  np.float64(1.9961232387211725e-05))"
   ]
  },
  {
   "cell_type": "markdown",
   "id": "a0f3918a",
   "metadata": {},
   "source": [
    "Assuming that the above astrometric corrections and its outputs are correct, since the standard deviations in the x and y offsets are bigger than their corresponding median offsets, there is not any correction needed between them. "
   ]
  },
  {
   "cell_type": "markdown",
   "id": "f874752a",
   "metadata": {},
   "source": [
    "## Calculating Positional Uncertainties"
   ]
  },
  {
   "cell_type": "code",
   "execution_count": null,
   "id": "c502845e",
   "metadata": {},
   "outputs": [],
   "source": [
    "sig1, sig2 = CalcPU(M66_CSC, std=[0.06352,0.07186], sig2search='Err Ellipse Major')"
   ]
  },
  {
   "cell_type": "code",
   "execution_count": null,
   "id": "61f38d35",
   "metadata": {},
   "outputs": [],
   "source": [
    "M66_CSC['1Sig'] = sig1  # Saves sig1 to a new header called '1Sig'\n",
    "M66_CSC['2Sig'] = sig2  # Saves sig2 to a new header called '2Sig'\n",
    "\n",
    "# The new DataFrame has 1 and 2sig added at the end of the columns list\n",
    "display(M66_CSC)\n",
    "\n",
    "M66_CSC.to_csv(chandra_hst_dir+'M66_csc_astrocorrected.frame')"
   ]
  },
  {
   "cell_type": "code",
   "execution_count": null,
   "id": "650dee1c",
   "metadata": {},
   "outputs": [],
   "source": [
    "# Pulling the ID of each unique CSC source\n",
    "ids = FindUnique(M66_CSC, header=\"CSC ID\")[\"CSC ID\"].values.tolist()\n",
    "\n",
    "# Building an empty DataFrame, which I will fill below\n",
    "M66_best = BuildFrame()\n",
    "\n",
    "for i in ids: # for each unique ID pulled from CSC...\n",
    "    \n",
    "    # Search for all instances (i.e. observations) of each source\n",
    "    Temp = Find(M66_CSC, \"CSC ID = \" + i)\n",
    "    \n",
    "    # Try to avoid sources where counts = NaN (invalid observations) \n",
    "    if len(Find(Temp, [\"Counts != NaN\", \"Theta != NaN\"])) > 0: \n",
    "        Temp = Find(Temp, [\"Counts != NaN\", \"Theta != NaN\"])\n",
    "    \n",
    "    # Specifically focus on those with a valid number of counts\n",
    "    if len(Find(Temp, \"Counts > 0\")) > 0: \n",
    "        Temp = Find(Temp, [\"Counts > 0\"])\n",
    "        \n",
    "    # Otherwise, all instances with counts = 0 have the same measurements, \n",
    "    # so it doesn't matter which row is chosen for the best radii\n",
    "    else: pass;\n",
    "    \n",
    "    # Take the source with the smallest 2sig. \n",
    "    # If there's more than one, take the first on the list.\n",
    "    Tempbest = Find(Temp, \"2Sig =< \" + str(min(Temp[\"2Sig\"]))).iloc[:1]\n",
    "    \n",
    "    # Add the chosen source observation to the new DataFrame\n",
    "    M66_best = pd.concat([M66_best, Tempbest], ignore_index=True)\n",
    "\n",
    "# Saving results to a DataFrame file\n",
    "# This file contains only rows from M101_CSC that has the \n",
    "# best 2sigma radius, based on the search performed above\n",
    "M66_best.to_csv(chandra_hst_dir+\"M66_csc_bestrads.frame\")\n",
    "\n",
    "display(M66_best)"
   ]
  },
  {
   "cell_type": "code",
   "execution_count": null,
   "id": "84e27faf",
   "metadata": {},
   "outputs": [],
   "source": [
    "# Saving the positional uncertainties as region files\n",
    "WriteReg(M66_best, radius=M66_best['2Sig'].values.tolist(), radunit='arcsec', \\\n",
    "         idheader=\"CSC ID\", outfile=chandra_hst_dir+'M66_bestrads_2sig.reg')\n",
    "WriteReg(M66_best, radius=M66_best['1Sig'].values.tolist(), radunit='arcsec', \\\n",
    "         outfile=chandra_hst_dir+'M66_bestrads_1sig.reg')"
   ]
  },
  {
   "cell_type": "code",
   "execution_count": null,
   "id": "354aeeaf",
   "metadata": {},
   "outputs": [],
   "source": []
  },
  {
   "cell_type": "code",
   "execution_count": null,
   "id": "6d3f2060",
   "metadata": {},
   "outputs": [],
   "source": []
  }
 ],
 "metadata": {
  "kernelspec": {
   "display_name": "Python 3 (ipykernel)",
   "language": "python",
   "name": "python3"
  },
  "language_info": {
   "codemirror_mode": {
    "name": "ipython",
    "version": 3
   },
   "file_extension": ".py",
   "mimetype": "text/x-python",
   "name": "python",
   "nbconvert_exporter": "python",
   "pygments_lexer": "ipython3",
   "version": "3.12.10"
  }
 },
 "nbformat": 4,
 "nbformat_minor": 5
}
