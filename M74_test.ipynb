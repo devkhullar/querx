{
 "cells": [
  {
   "cell_type": "code",
   "execution_count": 1,
   "id": "e81e3705-dad3-4216-aca6-7707fa5b859b",
   "metadata": {},
   "outputs": [],
   "source": [
    "from astroquery.mast import Observations"
   ]
  },
  {
   "cell_type": "code",
   "execution_count": 3,
   "id": "3f37d913-1744-45f3-9f3e-cc131e5ffba9",
   "metadata": {},
   "outputs": [
    {
     "name": "stdout",
     "output_type": "stream",
     "text": [
      "Finding Observations for ACS/WFC images...\n",
      "Done\n",
      "CPU times: user 48 ms, sys: 9.51 ms, total: 57.5 ms\n",
      "Wall time: 1min 5s\n"
     ]
    }
   ],
   "source": [
    "%%time\n",
    "print(\"Finding Observations for ACS/WFC images...\")\n",
    "obs_table = Observations.query_criteria(objectname=\"NGC0628\", obs_collection=\"HST\",\n",
    "                                       filters=[\"F435W\", \"F555W\", \"F658N\", \"F606W\", \"F814W\", \"detection\"],\n",
    "                                        proposal_id=[10402, 15645, 9796, 13804, 11675],\n",
    "                                       instrument_name=\"ACS/WFC\")\n",
    "print(\"Done\")\n",
    "# do not use detection and N filters"
   ]
  },
  {
   "cell_type": "code",
   "execution_count": 12,
   "id": "491e185a-baa8-4eb9-9759-02a56eb7183b",
   "metadata": {},
   "outputs": [
    {
     "name": "stdout",
     "output_type": "stream",
     "text": [
      "Downloading data.\n",
      " This may take several minutes... \n",
      "\n",
      "INFO: 114 of 172 products were duplicates. Only returning 58 unique product(s). [astroquery.mast.utils]\n",
      "Downloading URL https://mast.stsci.edu/api/v0.1/Download/file?uri=mast:HST/product/hst_10402_21_acs_wfc_f435w_j96r21j3_flc.fits to ./mastDownload/HST/hst_10402_21_acs_wfc_f435w_j96r21j3/hst_10402_21_acs_wfc_f435w_j96r21j3_flc.fits ... [Done]\n",
      "Downloading URL https://mast.stsci.edu/api/v0.1/Download/file?uri=mast:HST/product/hst_10402_21_acs_wfc_f435w_j96r21j4_flc.fits to ./mastDownload/HST/hst_10402_21_acs_wfc_f435w_j96r21j4/hst_10402_21_acs_wfc_f435w_j96r21j4_flc.fits ... [Done]\n",
      "Downloading URL https://mast.stsci.edu/api/v0.1/Download/file?uri=mast:HST/product/hst_10402_21_acs_wfc_f555w_j96r21j6_flc.fits to ./mastDownload/HST/hst_10402_21_acs_wfc_f555w_j96r21j6/hst_10402_21_acs_wfc_f555w_j96r21j6_flc.fits ... [Done]\n",
      "Downloading URL https://mast.stsci.edu/api/v0.1/Download/file?uri=mast:HST/product/hst_10402_21_acs_wfc_f555w_j96r21j8_flc.fits to ./mastDownload/HST/hst_10402_21_acs_wfc_f555w_j96r21j8/hst_10402_21_acs_wfc_f555w_j96r21j8_flc.fits ... [Done]\n",
      "Downloading URL https://mast.stsci.edu/api/v0.1/Download/file?uri=mast:HST/product/hst_10402_21_acs_wfc_f658n_j96r21ja_flc.fits to ./mastDownload/HST/hst_10402_21_acs_wfc_f658n_j96r21ja/hst_10402_21_acs_wfc_f658n_j96r21ja_flc.fits ... [Done]\n",
      "Downloading URL https://mast.stsci.edu/api/v0.1/Download/file?uri=mast:HST/product/hst_10402_21_acs_wfc_f658n_j96r21jc_flc.fits to ./mastDownload/HST/hst_10402_21_acs_wfc_f658n_j96r21jc/hst_10402_21_acs_wfc_f658n_j96r21jc_flc.fits ... [Done]\n",
      "Downloading URL https://mast.stsci.edu/api/v0.1/Download/file?uri=mast:HST/product/hst_10402_21_acs_wfc_f814w_j96r21je_flc.fits to ./mastDownload/HST/hst_10402_21_acs_wfc_f814w_j96r21je/hst_10402_21_acs_wfc_f814w_j96r21je_flc.fits ... [Done]\n",
      "Downloading URL https://mast.stsci.edu/api/v0.1/Download/file?uri=mast:HST/product/hst_10402_21_acs_wfc_f814w_j96r21jg_flc.fits to ./mastDownload/HST/hst_10402_21_acs_wfc_f814w_j96r21jg/hst_10402_21_acs_wfc_f814w_j96r21jg_flc.fits ... [Done]\n",
      "Downloading URL https://mast.stsci.edu/api/v0.1/Download/file?uri=mast:HST/product/hst_10402_22_acs_wfc_f435w_j96r22r9_flc.fits to ./mastDownload/HST/hst_10402_22_acs_wfc_f435w_j96r22r9/hst_10402_22_acs_wfc_f435w_j96r22r9_flc.fits ... [Done]\n",
      "Downloading URL https://mast.stsci.edu/api/v0.1/Download/file?uri=mast:HST/product/hst_10402_22_acs_wfc_f435w_j96r22ra_flc.fits to ./mastDownload/HST/hst_10402_22_acs_wfc_f435w_j96r22ra/hst_10402_22_acs_wfc_f435w_j96r22ra_flc.fits ... [Done]\n",
      "Downloading URL https://mast.stsci.edu/api/v0.1/Download/file?uri=mast:HST/product/hst_10402_22_acs_wfc_f555w_j96r22rg_flc.fits to ./mastDownload/HST/hst_10402_22_acs_wfc_f555w_j96r22rg/hst_10402_22_acs_wfc_f555w_j96r22rg_flc.fits ... [Done]\n",
      "Downloading URL https://mast.stsci.edu/api/v0.1/Download/file?uri=mast:HST/product/hst_10402_22_acs_wfc_f814w_j96r22rc_flc.fits to ./mastDownload/HST/hst_10402_22_acs_wfc_f814w_j96r22rc/hst_10402_22_acs_wfc_f814w_j96r22rc_flc.fits ... [Done]\n",
      "Downloading URL https://mast.stsci.edu/api/v0.1/Download/file?uri=mast:HST/product/hst_10402_22_acs_wfc_f814w_j96r22re_flc.fits to ./mastDownload/HST/hst_10402_22_acs_wfc_f814w_j96r22re/hst_10402_22_acs_wfc_f814w_j96r22re_flc.fits ... [Done]\n",
      "Downloading URL https://mast.stsci.edu/api/v0.1/Download/file?uri=mast:HST/product/hst_10402_23_acs_wfc_f435w_j96r23b6_flc.fits to ./mastDownload/HST/hst_10402_23_acs_wfc_f435w_j96r23b6/hst_10402_23_acs_wfc_f435w_j96r23b6_flc.fits ... [Done]\n",
      "Downloading URL https://mast.stsci.edu/api/v0.1/Download/file?uri=mast:HST/product/hst_10402_23_acs_wfc_f435w_j96r23b7_flc.fits to ./mastDownload/HST/hst_10402_23_acs_wfc_f435w_j96r23b7/hst_10402_23_acs_wfc_f435w_j96r23b7_flc.fits ... [Done]\n",
      "Downloading URL https://mast.stsci.edu/api/v0.1/Download/file?uri=mast:HST/product/hst_10402_23_acs_wfc_f555w_j96r23b9_flc.fits to ./mastDownload/HST/hst_10402_23_acs_wfc_f555w_j96r23b9/hst_10402_23_acs_wfc_f555w_j96r23b9_flc.fits ... [Done]\n",
      "Downloading URL https://mast.stsci.edu/api/v0.1/Download/file?uri=mast:HST/product/hst_10402_23_acs_wfc_f555w_j96r23bb_flc.fits to ./mastDownload/HST/hst_10402_23_acs_wfc_f555w_j96r23bb/hst_10402_23_acs_wfc_f555w_j96r23bb_flc.fits ... [Done]\n",
      "Downloading URL https://mast.stsci.edu/api/v0.1/Download/file?uri=mast:HST/product/hst_10402_23_acs_wfc_f658n_j96r23bd_flc.fits to ./mastDownload/HST/hst_10402_23_acs_wfc_f658n_j96r23bd/hst_10402_23_acs_wfc_f658n_j96r23bd_flc.fits ... [Done]\n",
      "Downloading URL https://mast.stsci.edu/api/v0.1/Download/file?uri=mast:HST/product/hst_10402_23_acs_wfc_f658n_j96r23bf_flc.fits to ./mastDownload/HST/hst_10402_23_acs_wfc_f658n_j96r23bf/hst_10402_23_acs_wfc_f658n_j96r23bf_flc.fits ... [Done]\n",
      "Downloading URL https://mast.stsci.edu/api/v0.1/Download/file?uri=mast:HST/product/hst_10402_23_acs_wfc_f814w_j96r23bh_flc.fits to ./mastDownload/HST/hst_10402_23_acs_wfc_f814w_j96r23bh/hst_10402_23_acs_wfc_f814w_j96r23bh_flc.fits ... [Done]\n",
      "Downloading URL https://mast.stsci.edu/api/v0.1/Download/file?uri=mast:HST/product/hst_10402_23_acs_wfc_f814w_j96r23bj_flc.fits to ./mastDownload/HST/hst_10402_23_acs_wfc_f814w_j96r23bj/hst_10402_23_acs_wfc_f814w_j96r23bj_flc.fits ... [Done]\n",
      "Downloading URL https://mast.stsci.edu/api/v0.1/Download/file?uri=mast:HST/product/hst_10402_24_acs_wfc_f435w_j96r24rj_flc.fits to ./mastDownload/HST/hst_10402_24_acs_wfc_f435w_j96r24rj/hst_10402_24_acs_wfc_f435w_j96r24rj_flc.fits ... [Done]\n",
      "Downloading URL https://mast.stsci.edu/api/v0.1/Download/file?uri=mast:HST/product/hst_10402_24_acs_wfc_f435w_j96r24rk_flc.fits to ./mastDownload/HST/hst_10402_24_acs_wfc_f435w_j96r24rk/hst_10402_24_acs_wfc_f435w_j96r24rk_flc.fits ... [Done]\n",
      "Downloading URL https://mast.stsci.edu/api/v0.1/Download/file?uri=mast:HST/product/hst_10402_24_acs_wfc_f555w_j96r24rq_flc.fits to ./mastDownload/HST/hst_10402_24_acs_wfc_f555w_j96r24rq/hst_10402_24_acs_wfc_f555w_j96r24rq_flc.fits ... [Done]\n",
      "Downloading URL https://mast.stsci.edu/api/v0.1/Download/file?uri=mast:HST/product/hst_10402_24_acs_wfc_f814w_j96r24rm_flc.fits to ./mastDownload/HST/hst_10402_24_acs_wfc_f814w_j96r24rm/hst_10402_24_acs_wfc_f814w_j96r24rm_flc.fits ... [Done]\n",
      "Downloading URL https://mast.stsci.edu/api/v0.1/Download/file?uri=mast:HST/product/hst_10402_24_acs_wfc_f814w_j96r24ro_flc.fits to ./mastDownload/HST/hst_10402_24_acs_wfc_f814w_j96r24ro/hst_10402_24_acs_wfc_f814w_j96r24ro_flc.fits ... [Done]\n",
      "Downloading URL https://mast.stsci.edu/api/v0.1/Download/file?uri=mast:HST/product/hst_13804_01_acs_wfc_f606w_jcmx01bj_flc.fits to ./mastDownload/HST/hst_13804_01_acs_wfc_f606w_jcmx01bj/hst_13804_01_acs_wfc_f606w_jcmx01bj_flc.fits ... [Done]\n",
      "Downloading URL https://mast.stsci.edu/api/v0.1/Download/file?uri=mast:HST/product/hst_13804_01_acs_wfc_f606w_jcmx01bo_flc.fits to ./mastDownload/HST/hst_13804_01_acs_wfc_f606w_jcmx01bo/hst_13804_01_acs_wfc_f606w_jcmx01bo_flc.fits ... [Done]\n",
      "Downloading URL https://mast.stsci.edu/api/v0.1/Download/file?uri=mast:HST/product/hst_13804_01_acs_wfc_f814w_jcmx01bl_flc.fits to ./mastDownload/HST/hst_13804_01_acs_wfc_f814w_jcmx01bl/hst_13804_01_acs_wfc_f814w_jcmx01bl_flc.fits ... [Done]\n",
      "Downloading URL https://mast.stsci.edu/api/v0.1/Download/file?uri=mast:HST/product/hst_13804_01_acs_wfc_f814w_jcmx01bs_flc.fits to ./mastDownload/HST/hst_13804_01_acs_wfc_f814w_jcmx01bs/hst_13804_01_acs_wfc_f814w_jcmx01bs_flc.fits ... [Done]\n",
      "Downloading URL https://mast.stsci.edu/api/v0.1/Download/file?uri=mast:HST/product/hst_15645_22_acs_wfc_f814w_jdxk22fj_flc.fits to ./mastDownload/HST/hst_15645_22_acs_wfc_f814w_jdxk22fj/hst_15645_22_acs_wfc_f814w_jdxk22fj_flc.fits ... [Done]\n",
      "Downloading URL https://mast.stsci.edu/api/v0.1/Download/file?uri=mast:HST/product/hst_15645_22_acs_wfc_f814w_jdxk22fk_flc.fits to ./mastDownload/HST/hst_15645_22_acs_wfc_f814w_jdxk22fk/hst_15645_22_acs_wfc_f814w_jdxk22fk_flc.fits ... [Done]\n",
      "Downloading URL https://mast.stsci.edu/api/v0.1/Download/file?uri=mast:HST/product/hst_15645_22_acs_wfc_f814w_jdxk22fm_flc.fits to ./mastDownload/HST/hst_15645_22_acs_wfc_f814w_jdxk22fm/hst_15645_22_acs_wfc_f814w_jdxk22fm_flc.fits ... [Done]\n",
      "Downloading URL https://mast.stsci.edu/api/v0.1/Download/file?uri=mast:HST/product/hst_15645_22_acs_wfc_f814w_jdxk22fo_flc.fits to ./mastDownload/HST/hst_15645_22_acs_wfc_f814w_jdxk22fo/hst_15645_22_acs_wfc_f814w_jdxk22fo_flc.fits ... [Done]\n",
      "Downloading URL https://mast.stsci.edu/api/v0.1/Download/file?uri=mast:HST/product/hst_15645_23_acs_wfc_f814w_jdxk23ez_flc.fits to ./mastDownload/HST/hst_15645_23_acs_wfc_f814w_jdxk23ez/hst_15645_23_acs_wfc_f814w_jdxk23ez_flc.fits ... [Done]\n",
      "Downloading URL https://mast.stsci.edu/api/v0.1/Download/file?uri=mast:HST/product/hst_15645_23_acs_wfc_f814w_jdxk23f0_flc.fits to ./mastDownload/HST/hst_15645_23_acs_wfc_f814w_jdxk23f0/hst_15645_23_acs_wfc_f814w_jdxk23f0_flc.fits ... [Done]\n",
      "Downloading URL https://mast.stsci.edu/api/v0.1/Download/file?uri=mast:HST/product/hst_15645_23_acs_wfc_f814w_jdxk23f2_flc.fits to ./mastDownload/HST/hst_15645_23_acs_wfc_f814w_jdxk23f2/hst_15645_23_acs_wfc_f814w_jdxk23f2_flc.fits ... [Done]\n",
      "Downloading URL https://mast.stsci.edu/api/v0.1/Download/file?uri=mast:HST/product/hst_15645_23_acs_wfc_f814w_jdxk23f4_flc.fits to ./mastDownload/HST/hst_15645_23_acs_wfc_f814w_jdxk23f4/hst_15645_23_acs_wfc_f814w_jdxk23f4_flc.fits ... [Done]\n",
      "Downloading URL https://mast.stsci.edu/api/v0.1/Download/file?uri=mast:HST/product/hst_9796_04_acs_wfc_f435w_j8ol04f4_flc.fits to ./mastDownload/HST/hst_9796_04_acs_wfc_f435w_j8ol04f4/hst_9796_04_acs_wfc_f435w_j8ol04f4_flc.fits ... [Done]\n",
      "Downloading URL https://mast.stsci.edu/api/v0.1/Download/file?uri=mast:HST/product/hst_9796_04_acs_wfc_f435w_j8ol04fd_flc.fits to ./mastDownload/HST/hst_9796_04_acs_wfc_f435w_j8ol04fd/hst_9796_04_acs_wfc_f435w_j8ol04fd_flc.fits ... [Done]\n",
      "Downloading URL https://mast.stsci.edu/api/v0.1/Download/file?uri=mast:HST/product/hst_9796_04_acs_wfc_f435w_j8ol04fr_flc.fits to ./mastDownload/HST/hst_9796_04_acs_wfc_f435w_j8ol04fr/hst_9796_04_acs_wfc_f435w_j8ol04fr_flc.fits ... [Done]\n",
      "Downloading URL https://mast.stsci.edu/api/v0.1/Download/file?uri=mast:HST/product/hst_9796_04_acs_wfc_f435w_j8ol04fx_flc.fits to ./mastDownload/HST/hst_9796_04_acs_wfc_f435w_j8ol04fx/hst_9796_04_acs_wfc_f435w_j8ol04fx_flc.fits ... [Done]\n",
      "Downloading URL https://mast.stsci.edu/api/v0.1/Download/file?uri=mast:HST/product/hst_9796_04_acs_wfc_f435w_j8ol04gb_flc.fits to ./mastDownload/HST/hst_9796_04_acs_wfc_f435w_j8ol04gb/hst_9796_04_acs_wfc_f435w_j8ol04gb_flc.fits ... [Done]\n",
      "Downloading URL https://mast.stsci.edu/api/v0.1/Download/file?uri=mast:HST/product/hst_9796_04_acs_wfc_f435w_j8ol04gj_flc.fits to ./mastDownload/HST/hst_9796_04_acs_wfc_f435w_j8ol04gj/hst_9796_04_acs_wfc_f435w_j8ol04gj_flc.fits ... [Done]\n",
      "Downloading URL https://mast.stsci.edu/api/v0.1/Download/file?uri=mast:HST/product/hst_9796_04_acs_wfc_f435w_j8ol04gz_flc.fits to ./mastDownload/HST/hst_9796_04_acs_wfc_f435w_j8ol04gz/hst_9796_04_acs_wfc_f435w_j8ol04gz_flc.fits ... [Done]\n",
      "Downloading URL https://mast.stsci.edu/api/v0.1/Download/file?uri=mast:HST/product/hst_9796_04_acs_wfc_f435w_j8ol04h5_flc.fits to ./mastDownload/HST/hst_9796_04_acs_wfc_f435w_j8ol04h5/hst_9796_04_acs_wfc_f435w_j8ol04h5_flc.fits ... [Done]\n",
      "Downloading URL https://mast.stsci.edu/api/v0.1/Download/file?uri=mast:HST/product/hst_9796_04_acs_wfc_f555w_j8ol04f1_flc.fits to ./mastDownload/HST/hst_9796_04_acs_wfc_f555w_j8ol04f1/hst_9796_04_acs_wfc_f555w_j8ol04f1_flc.fits ... [Done]\n",
      "Downloading URL https://mast.stsci.edu/api/v0.1/Download/file?uri=mast:HST/product/hst_9796_04_acs_wfc_f555w_j8ol04fl_flc.fits to ./mastDownload/HST/hst_9796_04_acs_wfc_f555w_j8ol04fl/hst_9796_04_acs_wfc_f555w_j8ol04fl_flc.fits ... [Done]\n",
      "Downloading URL https://mast.stsci.edu/api/v0.1/Download/file?uri=mast:HST/product/hst_9796_04_acs_wfc_f555w_j8ol04g6_flc.fits to ./mastDownload/HST/hst_9796_04_acs_wfc_f555w_j8ol04g6/hst_9796_04_acs_wfc_f555w_j8ol04g6_flc.fits ... [Done]\n",
      "Downloading URL https://mast.stsci.edu/api/v0.1/Download/file?uri=mast:HST/product/hst_9796_04_acs_wfc_f555w_j8ol04gs_flc.fits to ./mastDownload/HST/hst_9796_04_acs_wfc_f555w_j8ol04gs/hst_9796_04_acs_wfc_f555w_j8ol04gs_flc.fits ... [Done]\n",
      "Downloading URL https://mast.stsci.edu/api/v0.1/Download/file?uri=mast:HST/product/hst_9796_04_acs_wfc_f814w_j8ol04f0_flc.fits to ./mastDownload/HST/hst_9796_04_acs_wfc_f814w_j8ol04f0/hst_9796_04_acs_wfc_f814w_j8ol04f0_flc.fits ... [Done]\n",
      "Downloading URL https://mast.stsci.edu/api/v0.1/Download/file?uri=mast:HST/product/hst_9796_04_acs_wfc_f814w_j8ol04fj_flc.fits to ./mastDownload/HST/hst_9796_04_acs_wfc_f814w_j8ol04fj/hst_9796_04_acs_wfc_f814w_j8ol04fj_flc.fits ... [Done]\n",
      "Downloading URL https://mast.stsci.edu/api/v0.1/Download/file?uri=mast:HST/product/hst_9796_04_acs_wfc_f814w_j8ol04g4_flc.fits to ./mastDownload/HST/hst_9796_04_acs_wfc_f814w_j8ol04g4/hst_9796_04_acs_wfc_f814w_j8ol04g4_flc.fits ... [Done]\n",
      "Downloading URL https://mast.stsci.edu/api/v0.1/Download/file?uri=mast:HST/product/hst_9796_04_acs_wfc_f814w_j8ol04gq_flc.fits to ./mastDownload/HST/hst_9796_04_acs_wfc_f814w_j8ol04gq/hst_9796_04_acs_wfc_f814w_j8ol04gq_flc.fits ... [Done]\n",
      "Downloading URL https://mast.stsci.edu/api/v0.1/Download/file?uri=mast:HST/product/hst_9796_08_acs_wfc_f555w_j8ol08ed_flc.fits to ./mastDownload/HST/hst_9796_08_acs_wfc_f555w_j8ol08ed/hst_9796_08_acs_wfc_f555w_j8ol08ed_flc.fits ... [Done]\n",
      "Downloading URL https://mast.stsci.edu/api/v0.1/Download/file?uri=mast:HST/product/hst_9796_08_acs_wfc_f555w_j8ol08ef_flc.fits to ./mastDownload/HST/hst_9796_08_acs_wfc_f555w_j8ol08ef/hst_9796_08_acs_wfc_f555w_j8ol08ef_flc.fits ... [Done]\n",
      "Downloading URL https://mast.stsci.edu/api/v0.1/Download/file?uri=mast:HST/product/hst_9796_08_acs_wfc_f555w_j8ol08ei_flc.fits to ./mastDownload/HST/hst_9796_08_acs_wfc_f555w_j8ol08ei/hst_9796_08_acs_wfc_f555w_j8ol08ei_flc.fits ... [Done]\n",
      "Downloading URL https://mast.stsci.edu/api/v0.1/Download/file?uri=mast:HST/product/hst_9796_08_acs_wfc_f555w_j8ol08em_flc.fits to ./mastDownload/HST/hst_9796_08_acs_wfc_f555w_j8ol08em/hst_9796_08_acs_wfc_f555w_j8ol08em_flc.fits ... [Done]\n",
      "Done\n"
     ]
    }
   ],
   "source": [
    "print(\"Downloading data.\\n This may take several minutes... \\n\")\n",
    "products = Observations.get_product_list(obs_table)\n",
    "data_prod = ['FLC']       # other options are ['FLT','DRC','DRZ']\n",
    "data_type = ['HAP-SVM']   # other options are ['CALACS','CALWF3','CALWP2']\n",
    "\n",
    "Observations.download_products(products, project=data_type, \n",
    "                               productSubGroupDescription=data_prod)\n",
    "print(\"Done\")"
   ]
  },
  {
   "cell_type": "code",
   "execution_count": 7,
   "id": "90274f7a-14f5-40ac-adcb-b720f271a775",
   "metadata": {},
   "outputs": [
    {
     "name": "stdout",
     "output_type": "stream",
     "text": [
      "Done\n"
     ]
    }
   ],
   "source": [
    "import shutil\n",
    "import glob\n",
    "import os\n",
    "\n",
    "# Gathering the FLC file names\n",
    "input_flcs = glob.glob(os.path.join('mastDownload','HST','*','*.fits'))\n",
    "\n",
    "# Moving files from mastDownload directory into current directory\n",
    "for flc in input_flcs:\n",
    "    shutil.copy(flc, os.path.basename(flc))\n",
    "\n",
    "shutil.rmtree('mastDownload') # removes the extra directories\n",
    "print(\"Done\")"
   ]
  },
  {
   "cell_type": "code",
   "execution_count": 9,
   "id": "7915ecdd-2330-4cc4-9c3d-2a59c4c09f20",
   "metadata": {},
   "outputs": [
    {
     "name": "stdout",
     "output_type": "stream",
     "text": [
      "Done\n"
     ]
    }
   ],
   "source": [
    "from astropy.io import fits\n",
    "\n",
    "flc_files = glob.glob(\"hst*_acs_wfc_*_j*_flc.fits\")\n",
    "flc_files.sort()\n",
    "\n",
    "count = 0\n",
    "for i,f in enumerate(flc_files):\n",
    "    try: hdu = fits.open(f)\n",
    "    except:\n",
    "        print(f,\"not good. Please remove.\")\n",
    "        count = 1 + count\n",
    "\n",
    "print(\"Done\")"
   ]
  },
  {
   "cell_type": "markdown",
   "id": "97b05d84-774a-40a0-9274-e5a47db97fbe",
   "metadata": {},
   "source": [
    "# Mosaicking \n",
    "\n",
    "Date: 23 April 2025\n",
    "\n",
    "Now we embark on mosaicking. <br>\n",
    "The first filter that I will be mosaicking with is f435w. For the first run, we want the `expand_refcat` and `writecat` set to `True`. This will create a catalog of stars against which the remaining fields can be matched. "
   ]
  },
  {
   "cell_type": "code",
   "execution_count": 13,
   "id": "513f5bb7-987f-40c1-ba79-86e0eb36b1c3",
   "metadata": {},
   "outputs": [
    {
     "name": "stdout",
     "output_type": "stream",
     "text": [
      "\n",
      "\n",
      "The following task in the stsci.skypac package can be run with TEAL:\n",
      "                                    skymatch                                    \n",
      "The following tasks in the drizzlepac package can be run with TEAL:\n",
      "    astrodrizzle       config_testbed      imagefindpars           mapreg       \n",
      "       photeq            pixreplace           pixtopix            pixtosky      \n",
      "  refimagefindpars       resetbits          runastrodriz          skytopix      \n",
      "     tweakback            tweakreg           updatenpol\n"
     ]
    }
   ],
   "source": [
    "import glob\n",
    "from drizzlepac import tweakreg\n",
    "\n",
    "# Start with F435W, collecting all 435W files\n",
    "flc_files = glob.glob(\"hst_*_*_acs_wfc_f435w_*_flc.fits\")\n",
    "flc_files.sort()            # Alphabetizing files\n",
    "reffile = flc_files[0]      d# Select a reference file to use on all FITS\n",
    "\n",
    "tweakreg.TweakReg(flc_files, refimage=reffile, \n",
    "                  imagefindcfg={'threshold':100, 'conv_width':3.5},\n",
    "                  expand_refcat=True, writecat=True, \n",
    "                  enforce_user_order=False, \n",
    "                  fitgeometry='rscale', # allows shift, rotation & rescale\n",
    "                  minobj=3, sigma=3.0, nclip=3, \n",
    "                  searchrad=1.0, searchunits='arcseconds', \n",
    "                  peakmax=70000, ylimit=0.3, interactive=False, \n",
    "                  shiftfile=True, reusename=True, \n",
    "                  outshifts='M74_shifts_acs_f435w.txt', \n",
    "                  updatehdr=False)"
   ]
  },
  {
   "cell_type": "markdown",
   "id": "2868af56-ef55-4498-9f31-6a1adf3d258a",
   "metadata": {},
   "source": [
    "The first tweakreg started at 9:54 am."
   ]
  },
  {
   "cell_type": "raw",
   "id": "318a0887-0fe2-474f-ac3a-905e5e3dec11",
   "metadata": {},
   "source": [
    "Performing fit for: hst_9796_04_acs_wfc_f435w_j8ol04fr_flc.fits\n",
    "\n",
    "Matching sources from 'hst_9796_04_acs_wfc_f435w_j8ol04fr_flc.fits' with sources from reference image 'hst_10402_21_acs_wfc_f435w_j96r21j3_flc.fits'\n",
    "Computing initial guess for X and Y shifts...\n",
    "Killed: 9"
   ]
  },
  {
   "cell_type": "markdown",
   "id": "1c7dce15-285c-4a81-b325-94327e9e7c95",
   "metadata": {},
   "source": [
    "Above is the error I got at 10:40 am."
   ]
  },
  {
   "cell_type": "markdown",
   "id": "1cf5a842-c337-44ff-97b7-5aeae525cae1",
   "metadata": {},
   "source": [
    "To fix that, I will increase the threshold from 100 to 110. "
   ]
  },
  {
   "cell_type": "code",
   "execution_count": null,
   "id": "0c99ce29-d6b4-4f6f-a777-6e442cef1929",
   "metadata": {},
   "outputs": [],
   "source": [
    "import glob\n",
    "from drizzlepac import tweakreg\n",
    "\n",
    "# Start with F435W, collecting all 435W files\n",
    "flc_files = glob.glob(\"hst_*_*_acs_wfc_f435w_*_flc.fits\")\n",
    "flc_files.sort()            # Alphabetizing files\n",
    "reffile = flc_files[0]      d# Select a reference file to use on all FITS\n",
    "\n",
    "refcat = \"hst_9796_04_acs_wfc_f435w_j8ol04fr_flc_refxy_catalog.coo\"\n",
    "tweakreg.TweakReg(flc_files, refimage=reffile, \n",
    "                  imagefindcfg={'threshold':110, 'conv_width':3.5},\n",
    "                  expand_refcat=False, writecat=False,  # do not need in this run, using refcat\n",
    "                  refcat=refcat,\n",
    "                  enforce_user_order=False, \n",
    "                  fitgeometry='rscale', # allows shift, rotation & rescale\n",
    "                  minobj=3, sigma=3.0, nclip=3, \n",
    "                  searchrad=1.0, searchunits='arcseconds', \n",
    "                  peakmax=70000, ylimit=0.3, interactive=False, \n",
    "                  shiftfile=True, reusename=True, \n",
    "                  outshifts='M74_shifts_acs_f435w.txt', \n",
    "                  updatehdr=False)"
   ]
  },
  {
   "cell_type": "markdown",
   "id": "10dff527-252a-42f1-bf34-8e56a1198d50",
   "metadata": {
    "jp-MarkdownHeadingCollapsed": true
   },
   "source": [
    "The above did not work and instead gave me a bunch of warning. This is an example warning:"
   ]
  },
  {
   "cell_type": "raw",
   "id": "426bc94e-5698-4ae8-97e1-af2642a1e747",
   "metadata": {},
   "source": [
    "Matching sources from 'hst_10402_21_acs_wfc_f435w_j96r21j3_flc.fits' with sources from reference catalog 'hst_9796_04_acs_wfc_f435w_j8ol04fr_flc_refxy_catalog.coo'\n",
    "Computing initial guess for X and Y shifts...\n",
    "WARNING: No matches found within a search radius of 20 pixels.\n",
    "##############################################################################\n",
    "#                                                                            #\n",
    "# WARNING:                                                                   #\n",
    "# Not enough matches (< 3) found for input image:                            #\n",
    "# hst_10402_21_acs_wfc_f435w_j96r21j3_flc.fits                               #\n",
    "#                                                                            #\n",
    "##############################################################################"
   ]
  },
  {
   "cell_type": "markdown",
   "id": "3f172f49-9efb-4854-b089-2cd0b6c56768",
   "metadata": {},
   "source": [
    "This run of tweakreg had created a shiftfile which contained this:"
   ]
  },
  {
   "cell_type": "raw",
   "id": "4485c4f7-ea17-4d62-86a5-acc783e3e54c",
   "metadata": {},
   "source": [
    "# frame: output\n",
    "# refimage: shifts_wcs.fits[wcs]\n",
    "# form: delta\n",
    "# units: pixels\n",
    "hst_10402_21_acs_wfc_f435w_j96r21j3_flc.fits    nan  nan    nan     nan   0.000000  0.000000\n",
    "hst_10402_21_acs_wfc_f435w_j96r21j4_flc.fits    nan  nan    nan     nan   0.000000  0.000000\n",
    "hst_10402_22_acs_wfc_f435w_j96r22r9_flc.fits    nan  nan    nan     nan   0.000000  0.000000\n",
    "hst_10402_22_acs_wfc_f435w_j96r22ra_flc.fits    nan  nan    nan     nan   0.000000  0.000000\n",
    "hst_10402_23_acs_wfc_f435w_j96r23b6_flc.fits    nan  nan    nan     nan   0.000000  0.000000\n",
    "hst_10402_23_acs_wfc_f435w_j96r23b7_flc.fits    nan  nan    nan     nan   0.000000  0.000000\n",
    "hst_10402_24_acs_wfc_f435w_j96r24rj_flc.fits    nan  nan    nan     nan   0.000000  0.000000\n",
    "hst_10402_24_acs_wfc_f435w_j96r24rk_flc.fits    nan  nan    nan     nan   0.000000  0.000000\n",
    "hst_9796_04_acs_wfc_f435w_j8ol04f4_flc.fits    nan  nan    nan     nan   0.000000  0.000000\n",
    "hst_9796_04_acs_wfc_f435w_j8ol04fd_flc.fits    nan  nan    nan     nan   0.000000  0.000000\n",
    "hst_9796_04_acs_wfc_f435w_j8ol04fr_flc.fits    nan  nan    nan     nan   0.000000  0.000000\n",
    "hst_9796_04_acs_wfc_f435w_j8ol04fx_flc.fits    nan  nan    nan     nan   0.000000  0.000000\n",
    "hst_9796_04_acs_wfc_f435w_j8ol04gb_flc.fits    nan  nan    nan     nan   0.000000  0.000000\n",
    "hst_9796_04_acs_wfc_f435w_j8ol04gj_flc.fits    nan  nan    nan     nan   0.000000  0.000000\n",
    "hst_9796_04_acs_wfc_f435w_j8ol04gz_flc.fits    nan  nan    nan     nan   0.000000  0.000000\n",
    "hst_9796_04_acs_wfc_f435w_j8ol04h5_flc.fits    nan  nan    nan     nan   0.000000  0.000000"
   ]
  },
  {
   "cell_type": "markdown",
   "id": "ec934bda-041e-4c90-ab46-0c95b17c57c4",
   "metadata": {},
   "source": [
    "These nan values are telling me that something is wrong with this run so I am deleting this shiftfile. "
   ]
  },
  {
   "cell_type": "code",
   "execution_count": null,
   "id": "54b122f0-edd5-4e32-9cc8-c85f8184a0dd",
   "metadata": {},
   "outputs": [],
   "source": [
    "import glob\n",
    "from drizzlepac import tweakreg\n",
    "\n",
    "# Start with F435W, collecting all 435W files\n",
    "flc_files = glob.glob(\"hst_*_*_acs_wfc_f435w_*_flc.fits\")\n",
    "flc_files.sort()            # Alphabetizing files\n",
    "reffile = flc_files[0]      d# Select a reference file to use on all FITS\n",
    "\n",
    "refcat = \"hst_9796_04_acs_wfc_f435w_j8ol04fr_flc_refxy_catalog.coo\"\n",
    "tweakreg.TweakReg(flc_files, refimage=reffile, \n",
    "                  imagefindcfg={'threshold':102, 'conv_width':3.5},\n",
    "                  expand_refcat=False, writecat=False,  # do not need in this run, using refcat\n",
    "                  refcat=refcat,\n",
    "                  enforce_user_order=False, \n",
    "                  fitgeometry='rscale', # allows shift, rotation & rescale\n",
    "                  minobj=3, sigma=3.0, nclip=3, \n",
    "                  searchrad=1.0, searchunits='arcseconds', \n",
    "                  peakmax=70000, ylimit=0.3, interactive=False, \n",
    "                  shiftfile=True, reusename=True, \n",
    "                  outshifts='M74_shifts_acs_f435w.txt', \n",
    "                  updatehdr=False)"
   ]
  },
  {
   "cell_type": "markdown",
   "id": "d5e46078-76c9-4513-9b66-abfd05b34b72",
   "metadata": {},
   "source": [
    "I am getting the same errors. I will need to bring in more changes"
   ]
  },
  {
   "cell_type": "code",
   "execution_count": null,
   "id": "2a3e2507-bd7f-4a25-a6fd-cfb3b01edae6",
   "metadata": {},
   "outputs": [],
   "source": [
    "tweakreg.TweakReg(flc_files, refimage=reffile, \n",
    "                  imagefindcfg={'threshold':80, 'conv_width':3.5},\n",
    "                  expand_refcat=False, writecat=False,  # do not need in this run, using refcat\n",
    "                  refcat=refcat,\n",
    "                  enforce_user_order=False, \n",
    "                  fitgeometry='rscale', # allows shift, rotation & rescale\n",
    "                  minobj=3, sigma=2.5, nclip=3, \n",
    "                  searchrad=2.0, searchunits='arcseconds', \n",
    "                  peakmax=70000, ylimit=0.3, interactive=False, \n",
    "                  shiftfile=True, reusename=True, \n",
    "                  outshifts='M74_shifts_acs_f435w.txt', \n",
    "                  updatehdr=False)"
   ]
  },
  {
   "cell_type": "markdown",
   "id": "32714829-f702-47ec-b993-062d68c25e95",
   "metadata": {},
   "source": [
    "This is not working either. \n",
    "\n",
    "`WARNING: No matches found within a search radius of 40 pixels.`\n",
    "\n",
    "`Not enough matches (< 3) found for input image: hst_9796_04_acs_wfc_f435w_j8ol04fr_flc.fits`"
   ]
  },
  {
   "cell_type": "code",
   "execution_count": null,
   "id": "21d01e62-076d-428e-8903-db3719577b11",
   "metadata": {},
   "outputs": [],
   "source": [
    "tweakreg.TweakReg(flc_files, refimage=reffile, \n",
    "                  imagefindcfg={'threshold':50, 'conv_width':3.5},\n",
    "                  expand_refcat=False, writecat=False,  # do not need in this run, using refcat\n",
    "                  refcat=refcat,\n",
    "                  enforce_user_order=False, \n",
    "                  fitgeometry='rscale', # allows shift, rotation & rescale\n",
    "                  minobj=2, sigma=2, nclip=3, \n",
    "                  searchrad=2.5, searchunits='arcseconds', \n",
    "                  peakmax=70000, ylimit=0.3, interactive=False, \n",
    "                  shiftfile=True, reusename=True, \n",
    "                  outshifts='M74_shifts_acs_f435w.txt', \n",
    "                  updatehdr=False)"
   ]
  },
  {
   "cell_type": "markdown",
   "id": "f455602f-3fce-4556-baa0-095f8fa3be78",
   "metadata": {},
   "source": [
    "This did not run either. Could not find 2 objects. "
   ]
  },
  {
   "cell_type": "code",
   "execution_count": null,
   "id": "db4efea2-8857-47fa-abdb-64a311559456",
   "metadata": {},
   "outputs": [],
   "source": [
    "tweakreg.TweakReg(flc_files, refimage=reffile, \n",
    "                  imagefindcfg={'threshold':10, 'conv_width':3.5},\n",
    "                  expand_refcat=False, writecat=False,  # do not need in this run, using refcat\n",
    "                  refcat=refcat,\n",
    "                  enforce_user_order=False, \n",
    "                  fitgeometry='rscale', # allows shift, rotation & rescale\n",
    "                  minobj=2, sigma=1.0, nclip=3, \n",
    "                  searchrad=3, searchunits='arcseconds', \n",
    "                  peakmax=70000, ylimit=0.3, interactive=False, \n",
    "                  shiftfile=True, reusename=True, \n",
    "                  outshifts='M74_shifts_acs_f435w.txt', \n",
    "                  updatehdr=False)"
   ]
  },
  {
   "cell_type": "markdown",
   "id": "1148eb76-9be9-49d9-b40b-3a9bf29e4d7c",
   "metadata": {},
   "source": [
    "did not work"
   ]
  },
  {
   "cell_type": "markdown",
   "id": "87d9c662-6502-40cd-93c3-f6db78950922",
   "metadata": {},
   "source": [
    "Now, I am trying this with Pau's help. Let's see what happens. "
   ]
  },
  {
   "cell_type": "code",
   "execution_count": null,
   "id": "5d5ab3b2-d8df-4c2a-aaa4-bc1fb933f445",
   "metadata": {},
   "outputs": [],
   "source": [
    "tweakreg.TweakReg(flc_files, refimage=reffile, \n",
    "                  imagefindcfg={'threshold':30, 'conv_width':3.5},\n",
    "                  expand_refcat=False, writecat=False, \n",
    "                  enforce_user_order=False, \n",
    "                  fitgeometry='rscale', # allows shift, rotation & rescale\n",
    "                  minobj=1, sigma=0.5, nclip=1, \n",
    "                  searchrad=10.0, searchunits='arcseconds', \n",
    "                  peakmax=70000.0, ylimit=0.3, interactive=False, \n",
    "                  shiftfile=True, reusename=True, \n",
    "                  outshifts='M74_shifts_acs_f435w.txt', \n",
    "                  updatehdr=False)"
   ]
  },
  {
   "cell_type": "code",
   "execution_count": 1,
   "id": "43f1946e-98dc-4c4f-864e-20a53aa438ca",
   "metadata": {},
   "outputs": [],
   "source": [
    "from XRBID.AutoPhots import RunPhots"
   ]
  },
  {
   "cell_type": "code",
   "execution_count": null,
   "id": "cae09c7a-72c7-4f19-a5d0-92928f0be51d",
   "metadata": {},
   "outputs": [],
   "source": []
  }
 ],
 "metadata": {
  "kernelspec": {
   "display_name": "Python 3 (ipykernel)",
   "language": "python",
   "name": "python3"
  },
  "language_info": {
   "codemirror_mode": {
    "name": "ipython",
    "version": 3
   },
   "file_extension": ".py",
   "mimetype": "text/x-python",
   "name": "python",
   "nbconvert_exporter": "python",
   "pygments_lexer": "ipython3",
   "version": "3.12.10"
  }
 },
 "nbformat": 4,
 "nbformat_minor": 5
}
