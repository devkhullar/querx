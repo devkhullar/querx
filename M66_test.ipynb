{
 "cells": [
  {
   "cell_type": "code",
   "execution_count": 1,
   "id": "dfbd50e7-c171-4425-82bf-25035d516f38",
   "metadata": {},
   "outputs": [],
   "source": [
    "from astroquery.mast import Observations"
   ]
  },
  {
   "cell_type": "code",
   "execution_count": 8,
   "id": "2cbccdc5-4bb8-45e4-ad87-eafe1a10c0ae",
   "metadata": {},
   "outputs": [
    {
     "name": "stdout",
     "output_type": "stream",
     "text": [
      "Finding observations for ACS/WFC images...\n",
      "Done\n",
      "CPU times: user 27.7 ms, sys: 5.18 ms, total: 32.9 ms\n",
      "Wall time: 31.6 s\n"
     ]
    }
   ],
   "source": [
    "%%time\n",
    "print(\"Finding observations for ACS/WFC images...\")\n",
    "obs_table = Observations.query_criteria(objectname=\"M66\", obs_collection=\"HST\",\n",
    "                                       filters=[\"F555W\", \"F814W\", \"detection\"],\n",
    "                                       proposal_id=[11575, 15645, 17070, 10402, 13691],\n",
    "                                       instrument_name=\"ACS/WFC\")\n",
    "print(\"Done\")"
   ]
  },
  {
   "cell_type": "code",
   "execution_count": 9,
   "id": "6ad44c25-77b6-4af5-acd0-7b8a63fe9492",
   "metadata": {},
   "outputs": [
    {
     "name": "stdout",
     "output_type": "stream",
     "text": [
      "Downloading data.\n",
      " This may take several minutes... \n",
      "\n",
      "INFO: 45 of 80 products were duplicates. Only returning 35 unique product(s). [astroquery.mast.utils]\n",
      "Downloading URL https://mast.stsci.edu/api/v0.1/Download/file?uri=mast:HST/product/hst_10402_14_acs_wfc_f435w_j96r14tz_flc.fits to ./mastDownload/HST/hst_10402_14_acs_wfc_f435w_j96r14tz/hst_10402_14_acs_wfc_f435w_j96r14tz_flc.fits ... [Done]\n",
      "Downloading URL https://mast.stsci.edu/api/v0.1/Download/file?uri=mast:HST/product/hst_10402_14_acs_wfc_f435w_j96r14u1_flc.fits to ./mastDownload/HST/hst_10402_14_acs_wfc_f435w_j96r14u1/hst_10402_14_acs_wfc_f435w_j96r14u1_flc.fits ... [Done]\n",
      "Downloading URL https://mast.stsci.edu/api/v0.1/Download/file?uri=mast:HST/product/hst_10402_14_acs_wfc_f658n_j96r14tw_flc.fits to ./mastDownload/HST/hst_10402_14_acs_wfc_f658n_j96r14tw/hst_10402_14_acs_wfc_f658n_j96r14tw_flc.fits ... [Done]\n",
      "Downloading URL https://mast.stsci.edu/api/v0.1/Download/file?uri=mast:HST/product/hst_10402_14_acs_wfc_f658n_j96r14tx_flc.fits to ./mastDownload/HST/hst_10402_14_acs_wfc_f658n_j96r14tx/hst_10402_14_acs_wfc_f658n_j96r14tx_flc.fits ... [Done]\n",
      "Downloading URL https://mast.stsci.edu/api/v0.1/Download/file?uri=mast:HST/product/hst_10402_15_acs_wfc_f435w_j96r15zo_flc.fits to ./mastDownload/HST/hst_10402_15_acs_wfc_f435w_j96r15zo/hst_10402_15_acs_wfc_f435w_j96r15zo_flc.fits ... [Done]\n",
      "Downloading URL https://mast.stsci.edu/api/v0.1/Download/file?uri=mast:HST/product/hst_10402_15_acs_wfc_f435w_j96r15zp_flc.fits to ./mastDownload/HST/hst_10402_15_acs_wfc_f435w_j96r15zp/hst_10402_15_acs_wfc_f435w_j96r15zp_flc.fits ... [Done]\n",
      "Downloading URL https://mast.stsci.edu/api/v0.1/Download/file?uri=mast:HST/product/hst_10402_15_acs_wfc_f555w_j96r15zv_flc.fits to ./mastDownload/HST/hst_10402_15_acs_wfc_f555w_j96r15zv/hst_10402_15_acs_wfc_f555w_j96r15zv_flc.fits ... [Done]\n",
      "Downloading URL https://mast.stsci.edu/api/v0.1/Download/file?uri=mast:HST/product/hst_10402_15_acs_wfc_f814w_j96r15zr_flc.fits to ./mastDownload/HST/hst_10402_15_acs_wfc_f814w_j96r15zr/hst_10402_15_acs_wfc_f814w_j96r15zr_flc.fits ... [Done]\n",
      "Downloading URL https://mast.stsci.edu/api/v0.1/Download/file?uri=mast:HST/product/hst_10402_15_acs_wfc_f814w_j96r15zt_flc.fits to ./mastDownload/HST/hst_10402_15_acs_wfc_f814w_j96r15zt/hst_10402_15_acs_wfc_f814w_j96r15zt_flc.fits ... [Done]\n",
      "Downloading URL https://mast.stsci.edu/api/v0.1/Download/file?uri=mast:HST/product/hst_10402_16_acs_wfc_f435w_j96r16mm_flc.fits to ./mastDownload/HST/hst_10402_16_acs_wfc_f435w_j96r16mm/hst_10402_16_acs_wfc_f435w_j96r16mm_flc.fits ... [Done]\n",
      "Downloading URL https://mast.stsci.edu/api/v0.1/Download/file?uri=mast:HST/product/hst_10402_16_acs_wfc_f435w_j96r16mn_flc.fits to ./mastDownload/HST/hst_10402_16_acs_wfc_f435w_j96r16mn/hst_10402_16_acs_wfc_f435w_j96r16mn_flc.fits ... [Done]\n",
      "Downloading URL https://mast.stsci.edu/api/v0.1/Download/file?uri=mast:HST/product/hst_10402_16_acs_wfc_f555w_j96r16mp_flc.fits to ./mastDownload/HST/hst_10402_16_acs_wfc_f555w_j96r16mp/hst_10402_16_acs_wfc_f555w_j96r16mp_flc.fits ... [Done]\n",
      "Downloading URL https://mast.stsci.edu/api/v0.1/Download/file?uri=mast:HST/product/hst_10402_16_acs_wfc_f555w_j96r16mr_flc.fits to ./mastDownload/HST/hst_10402_16_acs_wfc_f555w_j96r16mr/hst_10402_16_acs_wfc_f555w_j96r16mr_flc.fits ... [Done]\n",
      "Downloading URL https://mast.stsci.edu/api/v0.1/Download/file?uri=mast:HST/product/hst_10402_16_acs_wfc_f658n_j96r16mt_flc.fits to ./mastDownload/HST/hst_10402_16_acs_wfc_f658n_j96r16mt/hst_10402_16_acs_wfc_f658n_j96r16mt_flc.fits ... [Done]\n",
      "Downloading URL https://mast.stsci.edu/api/v0.1/Download/file?uri=mast:HST/product/hst_10402_16_acs_wfc_f658n_j96r16mv_flc.fits to ./mastDownload/HST/hst_10402_16_acs_wfc_f658n_j96r16mv/hst_10402_16_acs_wfc_f658n_j96r16mv_flc.fits ... [Done]\n",
      "Downloading URL https://mast.stsci.edu/api/v0.1/Download/file?uri=mast:HST/product/hst_10402_16_acs_wfc_f814w_j96r16mx_flc.fits to ./mastDownload/HST/hst_10402_16_acs_wfc_f814w_j96r16mx/hst_10402_16_acs_wfc_f814w_j96r16mx_flc.fits ... [Done]\n",
      "Downloading URL https://mast.stsci.edu/api/v0.1/Download/file?uri=mast:HST/product/hst_10402_16_acs_wfc_f814w_j96r16mz_flc.fits to ./mastDownload/HST/hst_10402_16_acs_wfc_f814w_j96r16mz/hst_10402_16_acs_wfc_f814w_j96r16mz_flc.fits ... [Done]\n",
      "Downloading URL https://mast.stsci.edu/api/v0.1/Download/file?uri=mast:HST/product/hst_11575_01_acs_wfc_f555w_jb4u01a1_flc.fits to ./mastDownload/HST/hst_11575_01_acs_wfc_f555w_jb4u01a1/hst_11575_01_acs_wfc_f555w_jb4u01a1_flc.fits ... [Done]\n",
      "Downloading URL https://mast.stsci.edu/api/v0.1/Download/file?uri=mast:HST/product/hst_11575_01_acs_wfc_f555w_jb4u01a5_flc.fits to ./mastDownload/HST/hst_11575_01_acs_wfc_f555w_jb4u01a5/hst_11575_01_acs_wfc_f555w_jb4u01a5_flc.fits ... [Done]\n",
      "Downloading URL https://mast.stsci.edu/api/v0.1/Download/file?uri=mast:HST/product/hst_11575_01_acs_wfc_f814w_jb4u01a3_flc.fits to ./mastDownload/HST/hst_11575_01_acs_wfc_f814w_jb4u01a3/hst_11575_01_acs_wfc_f814w_jb4u01a3_flc.fits ... [Done]\n",
      "Downloading URL https://mast.stsci.edu/api/v0.1/Download/file?uri=mast:HST/product/hst_11575_01_acs_wfc_f814w_jb4u01a7_flc.fits to ./mastDownload/HST/hst_11575_01_acs_wfc_f814w_jb4u01a7/hst_11575_01_acs_wfc_f814w_jb4u01a7_flc.fits ... [Done]\n",
      "Downloading URL https://mast.stsci.edu/api/v0.1/Download/file?uri=mast:HST/product/hst_13691_21_acs_wfc_f606w_jcnw21ja_flc.fits to ./mastDownload/HST/hst_13691_21_acs_wfc_f606w_jcnw21ja/hst_13691_21_acs_wfc_f606w_jcnw21ja_flc.fits ... [Done]\n",
      "Downloading URL https://mast.stsci.edu/api/v0.1/Download/file?uri=mast:HST/product/hst_13691_21_acs_wfc_f606w_jcnw21jd_flc.fits to ./mastDownload/HST/hst_13691_21_acs_wfc_f606w_jcnw21jd/hst_13691_21_acs_wfc_f606w_jcnw21jd_flc.fits ... [Done]\n",
      "Downloading URL https://mast.stsci.edu/api/v0.1/Download/file?uri=mast:HST/product/hst_13691_21_acs_wfc_f814w_jcnw21ix_flc.fits to ./mastDownload/HST/hst_13691_21_acs_wfc_f814w_jcnw21ix/hst_13691_21_acs_wfc_f814w_jcnw21ix_flc.fits ... [Done]\n",
      "Downloading URL https://mast.stsci.edu/api/v0.1/Download/file?uri=mast:HST/product/hst_13691_21_acs_wfc_f814w_jcnw21iz_flc.fits to ./mastDownload/HST/hst_13691_21_acs_wfc_f814w_jcnw21iz/hst_13691_21_acs_wfc_f814w_jcnw21iz_flc.fits ... [Done]\n",
      "Downloading URL https://mast.stsci.edu/api/v0.1/Download/file?uri=mast:HST/product/hst_13691_21_acs_wfc_f814w_jcnw21j3_flc.fits to ./mastDownload/HST/hst_13691_21_acs_wfc_f814w_jcnw21j3/hst_13691_21_acs_wfc_f814w_jcnw21j3_flc.fits ... [Done]\n",
      "Downloading URL https://mast.stsci.edu/api/v0.1/Download/file?uri=mast:HST/product/hst_13691_21_acs_wfc_f814w_jcnw21j6_flc.fits to ./mastDownload/HST/hst_13691_21_acs_wfc_f814w_jcnw21j6/hst_13691_21_acs_wfc_f814w_jcnw21j6_flc.fits ... [Done]\n",
      "Downloading URL https://mast.stsci.edu/api/v0.1/Download/file?uri=mast:HST/product/hst_15645_06_acs_wfc_f814w_jdxk06o3_flc.fits to ./mastDownload/HST/hst_15645_06_acs_wfc_f814w_jdxk06o3/hst_15645_06_acs_wfc_f814w_jdxk06o3_flc.fits ... [Done]\n",
      "Downloading URL https://mast.stsci.edu/api/v0.1/Download/file?uri=mast:HST/product/hst_15645_06_acs_wfc_f814w_jdxk06o4_flc.fits to ./mastDownload/HST/hst_15645_06_acs_wfc_f814w_jdxk06o4/hst_15645_06_acs_wfc_f814w_jdxk06o4_flc.fits ... [Done]\n",
      "Downloading URL https://mast.stsci.edu/api/v0.1/Download/file?uri=mast:HST/product/hst_15645_06_acs_wfc_f814w_jdxk06o6_flc.fits to ./mastDownload/HST/hst_15645_06_acs_wfc_f814w_jdxk06o6/hst_15645_06_acs_wfc_f814w_jdxk06o6_flc.fits ... [Done]\n",
      "Downloading URL https://mast.stsci.edu/api/v0.1/Download/file?uri=mast:HST/product/hst_15645_06_acs_wfc_f814w_jdxk06o8_flc.fits to ./mastDownload/HST/hst_15645_06_acs_wfc_f814w_jdxk06o8/hst_15645_06_acs_wfc_f814w_jdxk06o8_flc.fits ... [Done]\n",
      "Downloading URL https://mast.stsci.edu/api/v0.1/Download/file?uri=mast:HST/product/hst_17070_47_acs_wfc_f555w_jey347mr_flc.fits to ./mastDownload/HST/hst_17070_47_acs_wfc_f555w_jey347mr/hst_17070_47_acs_wfc_f555w_jey347mr_flc.fits ... [Done]\n",
      "Downloading URL https://mast.stsci.edu/api/v0.1/Download/file?uri=mast:HST/product/hst_17070_47_acs_wfc_f555w_jey347mv_flc.fits to ./mastDownload/HST/hst_17070_47_acs_wfc_f555w_jey347mv/hst_17070_47_acs_wfc_f555w_jey347mv_flc.fits ... [Done]\n",
      "Downloading URL https://mast.stsci.edu/api/v0.1/Download/file?uri=mast:HST/product/hst_17070_47_acs_wfc_f814w_jey347mq_flc.fits to ./mastDownload/HST/hst_17070_47_acs_wfc_f814w_jey347mq/hst_17070_47_acs_wfc_f814w_jey347mq_flc.fits ... [Done]\n",
      "Downloading URL https://mast.stsci.edu/api/v0.1/Download/file?uri=mast:HST/product/hst_17070_47_acs_wfc_f814w_jey347mt_flc.fits to ./mastDownload/HST/hst_17070_47_acs_wfc_f814w_jey347mt/hst_17070_47_acs_wfc_f814w_jey347mt_flc.fits ... [Done]\n",
      "Done\n",
      "CPU times: user 17.5 s, sys: 16.1 s, total: 33.6 s\n",
      "Wall time: 5min 41s\n"
     ]
    }
   ],
   "source": [
    "%%time\n",
    "print(\"Downloading data.\\n This may take several minutes... \\n\")\n",
    "products = Observations.get_product_list(obs_table)\n",
    "data_prod = [\"FLC\"]\n",
    "data_type = [\"HAP-SVM\"]\n",
    "\n",
    "Observations.download_products(products, project=data_type, \n",
    "                              productSubGroupDescription=data_prod)\n",
    "print(\"Done\")"
   ]
  },
  {
   "cell_type": "markdown",
   "id": "0c025b25-9895-4800-8dd5-2315f03c37ec",
   "metadata": {},
   "source": [
    "# Mosaicking"
   ]
  },
  {
   "cell_type": "code",
   "execution_count": 16,
   "id": "2fa97508-c95b-4d0e-8d4a-b2c407ca750a",
   "metadata": {},
   "outputs": [
    {
     "data": {
      "text/plain": [
       "'/Users/undergradstudent/Research/XRB-Analysis/HST/M66'"
      ]
     },
     "execution_count": 16,
     "metadata": {},
     "output_type": "execute_result"
    }
   ],
   "source": [
    "pwd"
   ]
  },
  {
   "cell_type": "code",
   "execution_count": 17,
   "id": "610d3d94-7165-47d4-bc60-395982955a17",
   "metadata": {},
   "outputs": [
    {
     "name": "stdout",
     "output_type": "stream",
     "text": [
      "Done\n"
     ]
    }
   ],
   "source": [
    "import shutil\n",
    "import glob\n",
    "import os\n",
    "\n",
    "# Gathering the FLC file names\n",
    "input_flcs = glob.glob(os.path.join('mastDownload','HST','*','*.fits'))\n",
    "\n",
    "# Moving files from mastDownload directory into current directory\n",
    "for flc in input_flcs:\n",
    "  shutil.copy(flc, os.path.basename(flc))\n",
    "\n",
    "shutil.rmtree('mastDownload') # removes the extra directories\n",
    "print(\"Done\")"
   ]
  },
  {
   "cell_type": "code",
   "execution_count": 18,
   "id": "e18a39ea-9e0e-4bfe-90e9-ae1c1d3812c8",
   "metadata": {},
   "outputs": [],
   "source": [
    "from astropy.io import fits\n",
    "\n",
    "# The filename format searched below will need to be changed based on the \n",
    "# names of the files downloaded above\n",
    "flc_files = glob.glob(\"hst*_acs_wfc_*_j*_flc.fits\")\n",
    "flc_files.sort()       # Alphabetizing files\n",
    "\n",
    "for i,f in enumerate(flc_files):\n",
    "    try: hdu = fits.open(f)\n",
    "    except: print(f,\"not good. Please remove.\")"
   ]
  },
  {
   "cell_type": "code",
   "execution_count": null,
   "id": "c7d4b891-998b-4224-9fe1-c4ea6296ef7a",
   "metadata": {},
   "outputs": [],
   "source": []
  }
 ],
 "metadata": {
  "kernelspec": {
   "display_name": "Python 3 (ipykernel)",
   "language": "python",
   "name": "python3"
  },
  "language_info": {
   "codemirror_mode": {
    "name": "ipython",
    "version": 3
   },
   "file_extension": ".py",
   "mimetype": "text/x-python",
   "name": "python",
   "nbconvert_exporter": "python",
   "pygments_lexer": "ipython3",
   "version": "3.12.10"
  }
 },
 "nbformat": 4,
 "nbformat_minor": 5
}
