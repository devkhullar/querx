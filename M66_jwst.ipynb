{
 "cells": [
  {
   "cell_type": "markdown",
   "id": "7fe59955-d87a-4546-9012-871f6a9c7233",
   "metadata": {},
   "source": [
    "# Analysis of M66 (NGC 3627) with JWST"
   ]
  },
  {
   "cell_type": "code",
   "execution_count": 3,
   "id": "46de41ae-d78e-4153-8cc1-c2ac724e682e",
   "metadata": {},
   "outputs": [],
   "source": [
    "import numpy as np\n",
    "import matplotlib.pyplot as plt\n",
    "import pandas as pd\n",
    "\n",
    "import os\n",
    "import glob\n",
    "import shutil\n",
    "\n",
    "from astroquery.mast import Observations\n",
    "from astropy.io import fits\n",
    "\n",
    "# define directories to handle data in\n",
    "cd = os.chdir\n",
    "hstdir = \"/Users/undergradstudent/Research/XRB-Analysis/Galaxies/M66/HST/\"\n",
    "chandradir = \"/Users/undergradstudent/Research/XRB-Analysis/Galaxies/M66/Chandra/\"\n",
    "jwstdir = \"/Users/undergradstudent/Research/XRB-Analysis/Galaxies/M66/JWST/\""
   ]
  },
  {
   "cell_type": "markdown",
   "id": "5f2dd2a1-c424-4410-885b-fd2a1cdd1ab5",
   "metadata": {},
   "source": [
    "# Mosaicking\n",
    "## Querying JWST data"
   ]
  },
  {
   "cell_type": "code",
   "execution_count": 4,
   "id": "7ea014d1-adc6-450e-8822-c0a709309d55",
   "metadata": {},
   "outputs": [
    {
     "name": "stdout",
     "output_type": "stream",
     "text": [
      "Finding observations for JWST images...\n",
      "Done\n",
      "CPU times: user 35.2 ms, sys: 7.05 ms, total: 42.3 ms\n",
      "Wall time: 30.4 s\n"
     ]
    }
   ],
   "source": [
    "%%time\n",
    "\n",
    "filters = [\"F150W\", \"F200W\", \"F150W\", \"F277W\", \"F444W\"\n",
    "           \"F300M\", \"F335M\", \"F360M\",\n",
    "           \"F187N\", \"F212N\"]\n",
    "proposal_id = [2107, 4793]\n",
    "print(\"Finding observations for JWST images...\")\n",
    "obs_table = Observations.query_criteria(objectname=\"M66\", obs_collection=\"JWST\",\n",
    "                                        filters=filters, proposal_id=proposal_id,\n",
    "                                        instrument_name=\"NIRCAM/IMAGE\")\n",
    "print(\"Done\")"
   ]
  },
  {
   "cell_type": "code",
   "execution_count": 5,
   "id": "f15f7149-e5c4-4b1d-91f8-f919d80a18aa",
   "metadata": {},
   "outputs": [
    {
     "data": {
      "text/html": [
       "<div><i>Table masked=True length=8</i>\n",
       "<table id=\"table5836530912\" class=\"table-striped table-bordered table-condensed\">\n",
       "<thead><tr><th>intentType</th><th>obs_collection</th><th>provenance_name</th><th>instrument_name</th><th>project</th><th>filters</th><th>wavelength_region</th><th>target_name</th><th>target_classification</th><th>obs_id</th><th>s_ra</th><th>s_dec</th><th>dataproduct_type</th><th>proposal_pi</th><th>calib_level</th><th>t_min</th><th>t_max</th><th>t_exptime</th><th>em_min</th><th>em_max</th><th>obs_title</th><th>t_obs_release</th><th>proposal_id</th><th>proposal_type</th><th>sequence_number</th><th>s_region</th><th>jpegURL</th><th>dataURL</th><th>dataRights</th><th>mtFlag</th><th>srcDen</th><th>obsid</th><th>objID</th><th>objID1</th><th>distance</th></tr></thead>\n",
       "<thead><tr><th>str7</th><th>str4</th><th>str7</th><th>str12</th><th>str4</th><th>str5</th><th>str8</th><th>str8</th><th>str84</th><th>str36</th><th>float64</th><th>float64</th><th>str5</th><th>str15</th><th>int64</th><th>float64</th><th>float64</th><th>float64</th><th>float64</th><th>float64</th><th>str105</th><th>float64</th><th>str4</th><th>str2</th><th>int64</th><th>str115</th><th>str62</th><th>str63</th><th>str6</th><th>bool</th><th>float64</th><th>str9</th><th>str9</th><th>str9</th><th>float64</th></tr></thead>\n",
       "<tr><td>science</td><td>JWST</td><td>CALJWST</td><td>NIRCAM/IMAGE</td><td>JWST</td><td>F150W</td><td>INFRARED</td><td>NGC-3627</td><td>Galaxy; Active galactic nuclei; Disk galaxies; Interacting galaxies; Spiral galaxies</td><td>jw04793-o011_t011_nircam_clear-f150w</td><td>170.06235</td><td>12.991538888888888</td><td>image</td><td>Schinnerer, Eva</td><td>3</td><td>60665.7612082816</td><td>60665.776121145835</td><td>858.9439999999997</td><td>1331.0</td><td>1668.0</td><td>Unveiling the physics that govern massive star-formation in extragalactic Central Molecular Zones (eCMZs)</td><td>60666.06984949</td><td>4793</td><td>GO</td><td>--</td><td>POLYGON 170.072869366 12.963631618 170.03292137 12.978889968 170.048625314 13.017934287 170.088578625 13.002673538</td><td>mast:JWST/product/jw04793-o011_t011_nircam_clear-f150w_i2d.jpg</td><td>mast:JWST/product/jw04793-o011_t011_nircam_clear-f150w_i2d.fits</td><td>PUBLIC</td><td>False</td><td>nan</td><td>234389769</td><td>793836430</td><td>793836430</td><td>0.0</td></tr>\n",
       "<tr><td>science</td><td>JWST</td><td>CALJWST</td><td>NIRCAM/IMAGE</td><td>JWST</td><td>F360M</td><td>INFRARED</td><td>NGC-3627</td><td>Galaxy; Spiral galaxies</td><td>jw02107-o029_t011_nircam_clear-f360m</td><td>170.06010458333333</td><td>12.983758333333332</td><td>image</td><td>Lee, Janice</td><td>3</td><td>59957.60078729606</td><td>59957.65987877315</td><td>858.9439999999996</td><td>3427.0</td><td>3814.0</td><td>A JWST-HST-VLT/MUSE-ALMA Treasury of Star Formation in Nearby Galaxies</td><td>59960.26373838</td><td>2107</td><td>GO</td><td>--</td><td>POLYGON 170.064025948 12.942315942 170.02645268 12.956365371 170.052701715 13.023033291 170.090283579 13.008980093</td><td>mast:JWST/product/jw02107-o029_t011_nircam_clear-f360m_i2d.jpg</td><td>mast:JWST/product/jw02107-o029_t011_nircam_clear-f360m_i2d.fits</td><td>PUBLIC</td><td>False</td><td>nan</td><td>109508031</td><td>747060856</td><td>747060856</td><td>0.0</td></tr>\n",
       "<tr><td>science</td><td>JWST</td><td>CALJWST</td><td>NIRCAM/IMAGE</td><td>JWST</td><td>F200W</td><td>INFRARED</td><td>NGC-3627</td><td>Galaxy; Spiral galaxies</td><td>jw02107-o029_t011_nircam_clear-f200w</td><td>170.06010458333333</td><td>12.983758333333332</td><td>image</td><td>Lee, Janice</td><td>3</td><td>59957.600786555326</td><td>59957.68150171296</td><td>2405.0399999999995</td><td>1755.0</td><td>2226.0</td><td>A JWST-HST-VLT/MUSE-ALMA Treasury of Star Formation in Nearby Galaxies</td><td>59960.26373838</td><td>2107</td><td>GO</td><td>--</td><td>POLYGON 170.064228842 12.942098631 170.025897491 12.956670458 170.052784974 13.023840005 170.09112511 13.009264239</td><td>mast:JWST/product/jw02107-o029_t011_nircam_clear-f200w_i2d.jpg</td><td>mast:JWST/product/jw02107-o029_t011_nircam_clear-f200w_i2d.fits</td><td>PUBLIC</td><td>False</td><td>nan</td><td>109507984</td><td>747060759</td><td>747060759</td><td>0.0</td></tr>\n",
       "<tr><td>science</td><td>JWST</td><td>CALJWST</td><td>NIRCAM/IMAGE</td><td>JWST</td><td>F335M</td><td>INFRARED</td><td>NGC-3627</td><td>Galaxy; Active galactic nuclei; Disk galaxies; Interacting galaxies; Spiral galaxies</td><td>jw04793-o011_t011_nircam_clear-f335m</td><td>170.06235</td><td>12.991538888888888</td><td>image</td><td>Schinnerer, Eva</td><td>3</td><td>60665.70665361806</td><td>60665.730638229164</td><td>1631.992</td><td>3177.0</td><td>3538.0</td><td>Unveiling the physics that govern massive star-formation in extragalactic Central Molecular Zones (eCMZs)</td><td>60666.06984949</td><td>4793</td><td>GO</td><td>--</td><td>POLYGON 170.072667126 12.963856686 170.033312403 12.978642692 170.048534577 13.017118324 170.08789449 13.002330028</td><td>mast:JWST/product/jw04793-o011_t011_nircam_clear-f335m_i2d.jpg</td><td>mast:JWST/product/jw04793-o011_t011_nircam_clear-f335m_i2d.fits</td><td>PUBLIC</td><td>False</td><td>nan</td><td>234389745</td><td>793836338</td><td>793836338</td><td>0.0</td></tr>\n",
       "<tr><td>science</td><td>JWST</td><td>CALJWST</td><td>NIRCAM/IMAGE</td><td>JWST</td><td>F212N</td><td>INFRARED</td><td>NGC-3627</td><td>Galaxy; Active galactic nuclei; Disk galaxies; Interacting galaxies; Spiral galaxies</td><td>jw04793-o011_t011_nircam_clear-f212n</td><td>170.06235</td><td>12.991538888888888</td><td>image</td><td>Schinnerer, Eva</td><td>3</td><td>60665.7343661875</td><td>60665.75835078704</td><td>1631.992</td><td>2109.0</td><td>2134.0</td><td>Unveiling the physics that govern massive star-formation in extragalactic Central Molecular Zones (eCMZs)</td><td>60666.06984949</td><td>4793</td><td>GO</td><td>--</td><td>POLYGON 170.072869214 12.963632641 170.032918963 12.978891781 170.048622441 13.017935126 170.088578008 13.002673587</td><td>mast:JWST/product/jw04793-o011_t011_nircam_clear-f212n_i2d.jpg</td><td>mast:JWST/product/jw04793-o011_t011_nircam_clear-f212n_i2d.fits</td><td>PUBLIC</td><td>False</td><td>nan</td><td>234389741</td><td>793836322</td><td>793836322</td><td>0.0</td></tr>\n",
       "<tr><td>science</td><td>JWST</td><td>CALJWST</td><td>NIRCAM/IMAGE</td><td>JWST</td><td>F187N</td><td>INFRARED</td><td>NGC-3627</td><td>Galaxy; Active galactic nuclei; Disk galaxies; Interacting galaxies; Spiral galaxies</td><td>jw04793-o011_t011_nircam_clear-f187n</td><td>170.06235</td><td>12.991538888888888</td><td>image</td><td>Schinnerer, Eva</td><td>3</td><td>60665.67906624537</td><td>60665.70305084491</td><td>1631.992</td><td>1863.0</td><td>1884.0</td><td>Unveiling the physics that govern massive star-formation in extragalactic Central Molecular Zones (eCMZs)</td><td>60666.06984949</td><td>4793</td><td>GO</td><td>--</td><td>POLYGON 170.072865625 12.963629403 170.032916072 12.978888601 170.048620285 13.017932941 170.088575153 13.002671344</td><td>mast:JWST/product/jw04793-o011_t011_nircam_clear-f187n_i2d.jpg</td><td>mast:JWST/product/jw04793-o011_t011_nircam_clear-f187n_i2d.fits</td><td>PUBLIC</td><td>False</td><td>nan</td><td>234389762</td><td>793836405</td><td>793836405</td><td>0.0</td></tr>\n",
       "<tr><td>science</td><td>JWST</td><td>CALJWST</td><td>NIRCAM/IMAGE</td><td>JWST</td><td>F277W</td><td>INFRARED</td><td>NGC-3627</td><td>Galaxy; Active galactic nuclei; Disk galaxies; Interacting galaxies; Spiral galaxies</td><td>jw04793-o011_t011_nircam_clear-f277w</td><td>170.06235</td><td>12.991538888888888</td><td>image</td><td>Schinnerer, Eva</td><td>3</td><td>60665.7343661875</td><td>60665.75835004629</td><td>1631.992</td><td>2416.0</td><td>3127.0</td><td>Unveiling the physics that govern massive star-formation in extragalactic Central Molecular Zones (eCMZs)</td><td>60666.06984949</td><td>4793</td><td>GO</td><td>--</td><td>POLYGON 170.072663679 12.963856483 170.033308503 12.978642713 170.048531508 13.017120306 170.087891875 13.002331784</td><td>mast:JWST/product/jw04793-o011_t011_nircam_clear-f277w_i2d.jpg</td><td>mast:JWST/product/jw04793-o011_t011_nircam_clear-f277w_i2d.fits</td><td>PUBLIC</td><td>False</td><td>nan</td><td>234389756</td><td>793836379</td><td>793836379</td><td>0.0</td></tr>\n",
       "<tr><td>science</td><td>JWST</td><td>CALJWST</td><td>NIRCAM/IMAGE</td><td>JWST</td><td>F335M</td><td>INFRARED</td><td>NGC-3627</td><td>Galaxy; Spiral galaxies</td><td>jw02107-o029_t011_nircam_clear-f335m</td><td>170.06010458333333</td><td>12.983758333333332</td><td>image</td><td>Lee, Janice</td><td>3</td><td>59957.629493903936</td><td>59957.68150171296</td><td>773.0479999999999</td><td>3177.0</td><td>3538.0</td><td>A JWST-HST-VLT/MUSE-ALMA Treasury of Star Formation in Nearby Galaxies</td><td>59960.26373838</td><td>2107</td><td>GO</td><td>--</td><td>POLYGON 170.064030929 12.942370049 170.02646946 12.956415031 170.052698192 13.023031528 170.090268248 13.00898278</td><td>mast:JWST/product/jw02107-o029_t011_nircam_clear-f335m_i2d.jpg</td><td>mast:JWST/product/jw02107-o029_t011_nircam_clear-f335m_i2d.fits</td><td>PUBLIC</td><td>False</td><td>nan</td><td>109508000</td><td>747060796</td><td>747060796</td><td>0.0</td></tr>\n",
       "</table></div>"
      ],
      "text/plain": [
       "<Table masked=True length=8>\n",
       "intentType obs_collection provenance_name ...   objID     objID1  distance\n",
       "   str7         str4            str7      ...    str9      str9   float64 \n",
       "---------- -------------- --------------- ... --------- --------- --------\n",
       "   science           JWST         CALJWST ... 793836430 793836430      0.0\n",
       "   science           JWST         CALJWST ... 747060856 747060856      0.0\n",
       "   science           JWST         CALJWST ... 747060759 747060759      0.0\n",
       "   science           JWST         CALJWST ... 793836338 793836338      0.0\n",
       "   science           JWST         CALJWST ... 793836322 793836322      0.0\n",
       "   science           JWST         CALJWST ... 793836405 793836405      0.0\n",
       "   science           JWST         CALJWST ... 793836379 793836379      0.0\n",
       "   science           JWST         CALJWST ... 747060796 747060796      0.0"
      ]
     },
     "execution_count": 5,
     "metadata": {},
     "output_type": "execute_result"
    }
   ],
   "source": [
    "obs_table"
   ]
  },
  {
   "cell_type": "code",
   "execution_count": 6,
   "id": "25fca8cf-2d79-442b-a0ae-19c535c98379",
   "metadata": {},
   "outputs": [
    {
     "name": "stdout",
     "output_type": "stream",
     "text": [
      "Downloading data.\n",
      " This may take several minutes... \n",
      "\n"
     ]
    },
    {
     "data": {
      "text/html": [
       "<div><i>Table masked=True length=33160</i>\n",
       "<table id=\"table5974952512\" class=\"table-striped table-bordered table-condensed\">\n",
       "<thead><tr><th>obsID</th><th>obs_collection</th><th>dataproduct_type</th><th>obs_id</th><th>description</th><th>type</th><th>dataURI</th><th>productType</th><th>productGroupDescription</th><th>productSubGroupDescription</th><th>productDocumentationURL</th><th>project</th><th>prvversion</th><th>proposal_id</th><th>productFilename</th><th>size</th><th>parent_obsid</th><th>dataRights</th><th>calib_level</th><th>filters</th></tr></thead>\n",
       "<thead><tr><th>str9</th><th>str4</th><th>str5</th><th>str36</th><th>str64</th><th>str1</th><th>str69</th><th>str9</th><th>str28</th><th>str11</th><th>str1</th><th>str7</th><th>str6</th><th>str4</th><th>str51</th><th>int64</th><th>str9</th><th>str6</th><th>int64</th><th>str5</th></tr></thead>\n",
       "<tr><td>109081772</td><td>JWST</td><td>image</td><td>jw02107029002_04101_00004_nrcb4</td><td>FGS1 guide star acquisition</td><td>S</td><td>mast:JWST/product/jw02107029002_gs-acq1_2023013152509_stream.fits</td><td>AUXILIARY</td><td>--</td><td>GS-ACQ1</td><td>--</td><td>CALJWST</td><td>--</td><td>2107</td><td>jw02107029002_gs-acq1_2023013152509_stream.fits</td><td>408960</td><td>109507984</td><td>PUBLIC</td><td>1</td><td>F200W</td></tr>\n",
       "<tr><td>109081772</td><td>JWST</td><td>image</td><td>jw02107029002_04101_00004_nrcb4</td><td>FGS1 guide star acquisition</td><td>S</td><td>mast:JWST/product/jw02107029002_gs-acq1_2023013152509_uncal.fits</td><td>AUXILIARY</td><td>--</td><td>GS-ACQ1</td><td>--</td><td>CALJWST</td><td>--</td><td>2107</td><td>jw02107029002_gs-acq1_2023013152509_uncal.fits</td><td>420480</td><td>109507984</td><td>PUBLIC</td><td>1</td><td>F200W</td></tr>\n",
       "<tr><td>109081772</td><td>JWST</td><td>image</td><td>jw02107029002_04101_00004_nrcb4</td><td>FGS1 guide star acquisition</td><td>S</td><td>mast:JWST/product/jw02107029002_gs-acq1_2023013152509_cal.fits</td><td>AUXILIARY</td><td>--</td><td>GS-ACQ1</td><td>--</td><td>CALJWST</td><td>1.17.1</td><td>2107</td><td>jw02107029002_gs-acq1_2023013152509_cal.fits</td><td>1284480</td><td>109507984</td><td>PUBLIC</td><td>2</td><td>F200W</td></tr>\n",
       "<tr><td>109081772</td><td>JWST</td><td>image</td><td>jw02107029002_04101_00004_nrcb4</td><td>FGS2 guide star acquisition</td><td>S</td><td>mast:JWST/product/jw02107029002_gs-acq2_2023013152511_stream.fits</td><td>AUXILIARY</td><td>--</td><td>GS-ACQ2</td><td>--</td><td>CALJWST</td><td>--</td><td>2107</td><td>jw02107029002_gs-acq2_2023013152511_stream.fits</td><td>37440</td><td>109507984</td><td>PUBLIC</td><td>1</td><td>F200W</td></tr>\n",
       "<tr><td>109081772</td><td>JWST</td><td>image</td><td>jw02107029002_04101_00004_nrcb4</td><td>FGS2 guide star acquisition</td><td>S</td><td>mast:JWST/product/jw02107029002_gs-acq2_2023013152511_uncal.fits</td><td>AUXILIARY</td><td>--</td><td>GS-ACQ2</td><td>--</td><td>CALJWST</td><td>--</td><td>2107</td><td>jw02107029002_gs-acq2_2023013152511_uncal.fits</td><td>48960</td><td>109507984</td><td>PUBLIC</td><td>1</td><td>F200W</td></tr>\n",
       "<tr><td>109081772</td><td>JWST</td><td>image</td><td>jw02107029002_04101_00004_nrcb4</td><td>FGS2 guide star acquisition</td><td>S</td><td>mast:JWST/product/jw02107029002_gs-acq2_2023013152511_cal.fits</td><td>AUXILIARY</td><td>--</td><td>GS-ACQ2</td><td>--</td><td>CALJWST</td><td>1.17.1</td><td>2107</td><td>jw02107029002_gs-acq2_2023013152511_cal.fits</td><td>106560</td><td>109507984</td><td>PUBLIC</td><td>2</td><td>F200W</td></tr>\n",
       "<tr><td>109081772</td><td>JWST</td><td>image</td><td>jw02107029002_04101_00004_nrcb4</td><td>FGS guide star fine guide</td><td>S</td><td>mast:JWST/product/jw02107029002_gs-fg_2023013153039_stream.fits</td><td>AUXILIARY</td><td>--</td><td>GS-FG</td><td>--</td><td>CALJWST</td><td>--</td><td>2107</td><td>jw02107029002_gs-fg_2023013153039_stream.fits</td><td>4731840</td><td>109507984</td><td>PUBLIC</td><td>1</td><td>F200W</td></tr>\n",
       "<tr><td>109081772</td><td>JWST</td><td>image</td><td>jw02107029002_04101_00004_nrcb4</td><td>FGS guide star fine guide</td><td>S</td><td>mast:JWST/product/jw02107029002_gs-fg_2023013153039_uncal.fits</td><td>AUXILIARY</td><td>--</td><td>GS-FG</td><td>--</td><td>CALJWST</td><td>--</td><td>2107</td><td>jw02107029002_gs-fg_2023013153039_uncal.fits</td><td>5964480</td><td>109507984</td><td>PUBLIC</td><td>1</td><td>F200W</td></tr>\n",
       "<tr><td>109081772</td><td>JWST</td><td>image</td><td>jw02107029002_04101_00004_nrcb4</td><td>FGS guide star fine guide</td><td>S</td><td>mast:JWST/product/jw02107029002_gs-fg_2023013153258_stream.fits</td><td>AUXILIARY</td><td>--</td><td>GS-FG</td><td>--</td><td>CALJWST</td><td>--</td><td>2107</td><td>jw02107029002_gs-fg_2023013153258_stream.fits</td><td>1589760</td><td>109507984</td><td>PUBLIC</td><td>1</td><td>F200W</td></tr>\n",
       "<tr><td>...</td><td>...</td><td>...</td><td>...</td><td>...</td><td>...</td><td>...</td><td>...</td><td>...</td><td>...</td><td>...</td><td>...</td><td>...</td><td>...</td><td>...</td><td>...</td><td>...</td><td>...</td><td>...</td><td>...</td></tr>\n",
       "<tr><td>234445657</td><td>JWST</td><td>image</td><td>jw04793011001_02101_00005_nrcb1</td><td>Preview-Full</td><td>S</td><td>mast:JWST/product/jw04793011001_02101_00005_nrcb1_cal.jpg</td><td>PREVIEW</td><td>--</td><td>--</td><td>--</td><td>CALJWST</td><td>1.17.1</td><td>4793</td><td>jw04793011001_02101_00005_nrcb1_cal.jpg</td><td>1099494</td><td>234389762</td><td>PUBLIC</td><td>2</td><td>F187N</td></tr>\n",
       "<tr><td>234445657</td><td>JWST</td><td>image</td><td>jw04793011001_02101_00005_nrcb1</td><td>Preview-Full</td><td>S</td><td>mast:JWST/product/jw04793011001_02101_00005_nrcb1_o011_crf.jpg</td><td>PREVIEW</td><td>--</td><td>--</td><td>--</td><td>CALJWST</td><td>1.17.1</td><td>4793</td><td>jw04793011001_02101_00005_nrcb1_o011_crf.jpg</td><td>1134441</td><td>234389762</td><td>PUBLIC</td><td>2</td><td>F187N</td></tr>\n",
       "<tr><td>234445657</td><td>JWST</td><td>image</td><td>jw04793011001_02101_00005_nrcb1</td><td>Preview-Full</td><td>S</td><td>mast:JWST/product/jw04793011001_02101_00005_nrcb1_rate.jpg</td><td>PREVIEW</td><td>--</td><td>--</td><td>--</td><td>CALJWST</td><td>1.17.1</td><td>4793</td><td>jw04793011001_02101_00005_nrcb1_rate.jpg</td><td>1101539</td><td>234389762</td><td>PUBLIC</td><td>2</td><td>F187N</td></tr>\n",
       "<tr><td>234445657</td><td>JWST</td><td>image</td><td>jw04793011001_02101_00005_nrcb1</td><td>Preview-Full</td><td>S</td><td>mast:JWST/product/jw04793011001_02101_00005_nrcb1_rateints.jpg</td><td>PREVIEW</td><td>--</td><td>--</td><td>--</td><td>CALJWST</td><td>1.17.1</td><td>4793</td><td>jw04793011001_02101_00005_nrcb1_rateints.jpg</td><td>1101539</td><td>234389762</td><td>PUBLIC</td><td>2</td><td>F187N</td></tr>\n",
       "<tr><td>234445657</td><td>JWST</td><td>image</td><td>jw04793011001_02101_00005_nrcb1</td><td>exposure (L2c): 2D Calibrated data averaged over integrations</td><td>S</td><td>mast:JWST/product/jw04793011001_02101_00005_nrcb1_o011_crf.fits</td><td>SCIENCE</td><td>--</td><td>ANNNN_CRF</td><td>--</td><td>CALJWST</td><td>1.17.1</td><td>4793</td><td>jw04793011001_02101_00005_nrcb1_o011_crf.fits</td><td>117555840</td><td>234389762</td><td>PUBLIC</td><td>2</td><td>F187N</td></tr>\n",
       "<tr><td>234445657</td><td>JWST</td><td>image</td><td>jw04793011001_02101_00005_nrcb1</td><td>exposure (L2b): 2D calibrated exposure average over integrations</td><td>S</td><td>mast:JWST/product/jw04793011001_02101_00005_nrcb1_cal.fits</td><td>SCIENCE</td><td>--</td><td>CAL</td><td>--</td><td>CALJWST</td><td>1.17.1</td><td>4793</td><td>jw04793011001_02101_00005_nrcb1_cal.fits</td><td>117544320</td><td>234389762</td><td>PUBLIC</td><td>2</td><td>F187N</td></tr>\n",
       "<tr><td>234445657</td><td>JWST</td><td>image</td><td>jw04793011001_02101_00005_nrcb1</td><td>exposure/target (L2b/L3): rectified 2D image</td><td>S</td><td>mast:JWST/product/jw04793011001_02101_00005_nrcb1_i2d.fits</td><td>SCIENCE</td><td>--</td><td>I2D</td><td>--</td><td>CALJWST</td><td>1.17.1</td><td>4793</td><td>jw04793011001_02101_00005_nrcb1_i2d.fits</td><td>118494720</td><td>234389762</td><td>PUBLIC</td><td>2</td><td>F187N</td></tr>\n",
       "<tr><td>234445657</td><td>JWST</td><td>image</td><td>jw04793011001_02101_00005_nrcb1</td><td>exposure (L2a): 2D count rate averaged over integrations</td><td>S</td><td>mast:JWST/product/jw04793011001_02101_00005_nrcb1_rate.fits</td><td>SCIENCE</td><td>--</td><td>RATE</td><td>--</td><td>CALJWST</td><td>1.17.1</td><td>4793</td><td>jw04793011001_02101_00005_nrcb1_rate.fits</td><td>83949120</td><td>234389762</td><td>PUBLIC</td><td>2</td><td>F187N</td></tr>\n",
       "<tr><td>234445657</td><td>JWST</td><td>image</td><td>jw04793011001_02101_00005_nrcb1</td><td>exposure (L2a): 3D countrate per integration</td><td>S</td><td>mast:JWST/product/jw04793011001_02101_00005_nrcb1_rateints.fits</td><td>SCIENCE</td><td>--</td><td>RATEINTS</td><td>--</td><td>CALJWST</td><td>1.17.1</td><td>4793</td><td>jw04793011001_02101_00005_nrcb1_rateints.fits</td><td>83954880</td><td>234389762</td><td>PUBLIC</td><td>2</td><td>F187N</td></tr>\n",
       "<tr><td>234445657</td><td>JWST</td><td>image</td><td>jw04793011001_02101_00005_nrcb1</td><td>exposure (L1b): Uncalibrated 4D exposure data</td><td>S</td><td>mast:JWST/product/jw04793011001_02101_00005_nrcb1_uncal.fits</td><td>SCIENCE</td><td>--</td><td>UNCAL</td><td>--</td><td>CALJWST</td><td>--</td><td>4793</td><td>jw04793011001_02101_00005_nrcb1_uncal.fits</td><td>42001920</td><td>234389762</td><td>PUBLIC</td><td>1</td><td>F187N</td></tr>\n",
       "</table></div>"
      ],
      "text/plain": [
       "<Table masked=True length=33160>\n",
       "  obsID   obs_collection dataproduct_type ... dataRights calib_level filters\n",
       "   str9        str4            str5       ...    str6       int64      str5 \n",
       "--------- -------------- ---------------- ... ---------- ----------- -------\n",
       "109081772           JWST            image ...     PUBLIC           1   F200W\n",
       "109081772           JWST            image ...     PUBLIC           1   F200W\n",
       "109081772           JWST            image ...     PUBLIC           2   F200W\n",
       "109081772           JWST            image ...     PUBLIC           1   F200W\n",
       "109081772           JWST            image ...     PUBLIC           1   F200W\n",
       "109081772           JWST            image ...     PUBLIC           2   F200W\n",
       "109081772           JWST            image ...     PUBLIC           1   F200W\n",
       "109081772           JWST            image ...     PUBLIC           1   F200W\n",
       "109081772           JWST            image ...     PUBLIC           1   F200W\n",
       "      ...            ...              ... ...        ...         ...     ...\n",
       "234445657           JWST            image ...     PUBLIC           2   F187N\n",
       "234445657           JWST            image ...     PUBLIC           2   F187N\n",
       "234445657           JWST            image ...     PUBLIC           2   F187N\n",
       "234445657           JWST            image ...     PUBLIC           2   F187N\n",
       "234445657           JWST            image ...     PUBLIC           2   F187N\n",
       "234445657           JWST            image ...     PUBLIC           2   F187N\n",
       "234445657           JWST            image ...     PUBLIC           2   F187N\n",
       "234445657           JWST            image ...     PUBLIC           2   F187N\n",
       "234445657           JWST            image ...     PUBLIC           2   F187N\n",
       "234445657           JWST            image ...     PUBLIC           1   F187N"
      ]
     },
     "execution_count": 6,
     "metadata": {},
     "output_type": "execute_result"
    }
   ],
   "source": [
    "# The code is downloading many extra files that are not needed. \n",
    "print(\"Downloading data.\\n This may take several minutes... \\n\")\n",
    "products = Observations.get_product_list(obs_table)\n",
    "\n",
    "data_prod = ['I2D']       # other options are ['FLT','DRC','DRZ']\n",
    "data_type = ['CALJWST']   # other options are ['CALACS','CALWF3','CALWP2']\n",
    "\n",
    "Observations.download_products(products, project=data_type, \n",
    "                               productSubGroupDescription=data_prod)\n",
    "print(\"Done\")"
   ]
  },
  {
   "cell_type": "markdown",
   "id": "2743ec77-ac20-4ea1-b6a3-c5d23d216797",
   "metadata": {},
   "source": [
    "Since the above code is downloading additional files that are not required, I am manually downloading data from this [link](https://archive.stsci.edu/hlsp/phangs.html#hst_image_products_table) for M66. "
   ]
  },
  {
   "cell_type": "markdown",
   "id": "a57453c2-7b0a-4acc-a6cf-1a74b14d95b3",
   "metadata": {},
   "source": []
  },
  {
   "cell_type": "code",
   "execution_count": null,
   "id": "314e969e-b848-4f97-be17-498134f254b5",
   "metadata": {},
   "outputs": [],
   "source": []
  }
 ],
 "metadata": {
  "kernelspec": {
   "display_name": "Python 3 (ipykernel)",
   "language": "python",
   "name": "python3"
  },
  "language_info": {
   "codemirror_mode": {
    "name": "ipython",
    "version": 3
   },
   "file_extension": ".py",
   "mimetype": "text/x-python",
   "name": "python",
   "nbconvert_exporter": "python",
   "pygments_lexer": "ipython3",
   "version": "3.12.10"
  }
 },
 "nbformat": 4,
 "nbformat_minor": 5
}
