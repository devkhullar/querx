{
 "cells": [
  {
   "cell_type": "markdown",
   "id": "940778e7-61a8-4084-b92d-a5a1a439a0a0",
   "metadata": {},
   "source": [
    "# RGB images"
   ]
  },
  {
   "cell_type": "code",
   "execution_count": 16,
   "id": "8ec74a12-84f3-4731-8a7d-6d083861ddb7",
   "metadata": {},
   "outputs": [],
   "source": [
    "import matplotlib.pyplot as plt\n",
    "import numpy as np\n",
    "import os\n",
    "\n",
    "from astropy.visualization import make_lupton_rgb\n",
    "from astropy.io import fits\n",
    "# from astropy.utils.data import get_pkg_data_filename\n",
    "\n",
    "cd = os.chdir\n",
    "\n",
    "M66dir = \"/Users/Undergradstudent/Research/XRB-Analysis/HST/M66/\"\n",
    "M74dir = \"/Users/Undergradstudent/Downloads/M74_mosaics/\""
   ]
  },
  {
   "cell_type": "markdown",
   "id": "1ca8dde3-7c37-4670-8d47-bff2190e1524",
   "metadata": {},
   "source": [
    "## RGB image of M66"
   ]
  },
  {
   "cell_type": "code",
   "execution_count": 14,
   "id": "28c39502-a3b1-4ed1-ab6c-e375f9633e81",
   "metadata": {},
   "outputs": [],
   "source": [
    "cd(M66dir)"
   ]
  },
  {
   "cell_type": "code",
   "execution_count": 23,
   "id": "0a71b576-4615-4339-bd4a-206ad5d121ca",
   "metadata": {},
   "outputs": [
    {
     "ename": "ValueError",
     "evalue": "The image shapes must match. r: (6836, 6856), g: (6835, 6856) b: (5636, 5378)",
     "output_type": "error",
     "traceback": [
      "\u001b[31m---------------------------------------------------------------------------\u001b[39m",
      "\u001b[31mValueError\u001b[39m                                Traceback (most recent call last)",
      "\u001b[36mCell\u001b[39m\u001b[36m \u001b[39m\u001b[32mIn[23]\u001b[39m\u001b[32m, line 8\u001b[39m\n\u001b[32m      5\u001b[39m green = fits.getdata(\u001b[33m\"\u001b[39m\u001b[33mM66_mosaic_acs_f555w_drc_sci.fits\u001b[39m\u001b[33m\"\u001b[39m)\n\u001b[32m      6\u001b[39m blue = fits.getdata(\u001b[33m\"\u001b[39m\u001b[33mM66_mosaic_acs_f438w_drc_sci.fits\u001b[39m\u001b[33m\"\u001b[39m)\n\u001b[32m----> \u001b[39m\u001b[32m8\u001b[39m rgb_default = \u001b[43mmake_lupton_rgb\u001b[49m\u001b[43m(\u001b[49m\u001b[43mred\u001b[49m\u001b[43m,\u001b[49m\u001b[43m \u001b[49m\u001b[43mgreen\u001b[49m\u001b[43m,\u001b[49m\u001b[43m \u001b[49m\u001b[43mblue\u001b[49m\u001b[43m,\u001b[49m\u001b[43m \u001b[49m\u001b[43mfilename\u001b[49m\u001b[43m=\u001b[49m\u001b[33;43m\"\u001b[39;49m\u001b[33;43mM66_rgb.jpeg\u001b[39;49m\u001b[33;43m\"\u001b[39;49m\u001b[43m)\u001b[49m\n\u001b[32m      9\u001b[39m plt.imshow(rgb_default, origin=\u001b[33m'\u001b[39m\u001b[33mlower\u001b[39m\u001b[33m'\u001b[39m)\n",
      "\u001b[36mFile \u001b[39m\u001b[32m~/anaconda3/envs/stenv/lib/python3.12/site-packages/astropy/visualization/lupton_rgb.py:720\u001b[39m, in \u001b[36mmake_lupton_rgb\u001b[39m\u001b[34m(image_r, image_g, image_b, interval, stretch_object, minimum, stretch, Q, filename, output_dtype)\u001b[39m\n\u001b[32m    714\u001b[39m         interval = ManualInterval(vmin=\u001b[32m0\u001b[39m, vmax=\u001b[38;5;28;01mNone\u001b[39;00m)\n\u001b[32m    716\u001b[39m lup_map = RGBImageMappingLupton(\n\u001b[32m    717\u001b[39m     interval=interval,\n\u001b[32m    718\u001b[39m     stretch=stretch_object,\n\u001b[32m    719\u001b[39m )\n\u001b[32m--> \u001b[39m\u001b[32m720\u001b[39m rgb = \u001b[43mlup_map\u001b[49m\u001b[43m.\u001b[49m\u001b[43mmake_rgb_image\u001b[49m\u001b[43m(\u001b[49m\u001b[43mimage_r\u001b[49m\u001b[43m,\u001b[49m\u001b[43m \u001b[49m\u001b[43mimage_g\u001b[49m\u001b[43m,\u001b[49m\u001b[43m \u001b[49m\u001b[43mimage_b\u001b[49m\u001b[43m,\u001b[49m\u001b[43m \u001b[49m\u001b[43moutput_dtype\u001b[49m\u001b[43m=\u001b[49m\u001b[43moutput_dtype\u001b[49m\u001b[43m)\u001b[49m\n\u001b[32m    722\u001b[39m \u001b[38;5;28;01mif\u001b[39;00m filename:\n\u001b[32m    723\u001b[39m     \u001b[38;5;28;01mimport\u001b[39;00m\u001b[38;5;250m \u001b[39m\u001b[34;01mmatplotlib\u001b[39;00m\u001b[34;01m.\u001b[39;00m\u001b[34;01mimage\u001b[39;00m\n",
      "\u001b[36mFile \u001b[39m\u001b[32m~/anaconda3/envs/stenv/lib/python3.12/site-packages/astropy/visualization/basic_rgb.py:83\u001b[39m, in \u001b[36mRGBImageMapping.make_rgb_image\u001b[39m\u001b[34m(self, image_r, image_g, image_b, output_dtype)\u001b[39m\n\u001b[32m     81\u001b[39m \u001b[38;5;28;01mif\u001b[39;00m (image_r.shape != image_g.shape) \u001b[38;5;129;01mor\u001b[39;00m (image_g.shape != image_b.shape):\n\u001b[32m     82\u001b[39m     msg = \u001b[33m\"\u001b[39m\u001b[33mThe image shapes must match. r: \u001b[39m\u001b[38;5;132;01m{}\u001b[39;00m\u001b[33m, g: \u001b[39m\u001b[38;5;132;01m{}\u001b[39;00m\u001b[33m b: \u001b[39m\u001b[38;5;132;01m{}\u001b[39;00m\u001b[33m\"\u001b[39m\n\u001b[32m---> \u001b[39m\u001b[32m83\u001b[39m     \u001b[38;5;28;01mraise\u001b[39;00m \u001b[38;5;167;01mValueError\u001b[39;00m(msg.format(image_r.shape, image_g.shape, image_b.shape))\n\u001b[32m     85\u001b[39m image_rgb = \u001b[38;5;28mself\u001b[39m.apply_mappings(image_r, image_g, image_b)\n\u001b[32m     86\u001b[39m \u001b[38;5;28;01mif\u001b[39;00m np.issubdtype(output_dtype, \u001b[38;5;28mfloat\u001b[39m):\n",
      "\u001b[31mValueError\u001b[39m: The image shapes must match. r: (6836, 6856), g: (6835, 6856) b: (5636, 5378)"
     ]
    }
   ],
   "source": [
    "cd(M66dir)\n",
    "\n",
    "# Read in the three images downloaded from here:\n",
    "red = fits.getdata(\"M66_mosaic_acs_f814w_drc_sci.fits\")\n",
    "green = fits.getdata(\"M66_mosaic_acs_f555w_drc_sci.fits\")\n",
    "blue = fits.getdata(\"M66_mosaic_acs_f438w_drc_sci.fits\")\n",
    "\n",
    "rgb_default = make_lupton_rgb(red, green, blue, filename=\"M66_rgb.jpeg\")\n",
    "plt.imshow(rgb_default, origin='lower')"
   ]
  },
  {
   "cell_type": "code",
   "execution_count": 18,
   "id": "61260d78-a5a7-42cf-8371-3b5d065a5072",
   "metadata": {},
   "outputs": [
    {
     "data": {
      "text/plain": [
       "(6836, 6856)"
      ]
     },
     "execution_count": 18,
     "metadata": {},
     "output_type": "execute_result"
    }
   ],
   "source": [
    "red.shape"
   ]
  },
  {
   "cell_type": "code",
   "execution_count": 20,
   "id": "48968b4a-42f2-4e03-afb7-e8828b89d348",
   "metadata": {},
   "outputs": [
    {
     "data": {
      "text/plain": [
       "(6835, 6856)"
      ]
     },
     "execution_count": 20,
     "metadata": {},
     "output_type": "execute_result"
    }
   ],
   "source": [
    "green.shape"
   ]
  },
  {
   "cell_type": "code",
   "execution_count": null,
   "id": "20d33bb9-771f-4e9f-94e4-30ba3293123e",
   "metadata": {},
   "outputs": [],
   "source": []
  }
 ],
 "metadata": {
  "kernelspec": {
   "display_name": "Python 3 (ipykernel)",
   "language": "python",
   "name": "python3"
  },
  "language_info": {
   "codemirror_mode": {
    "name": "ipython",
    "version": 3
   },
   "file_extension": ".py",
   "mimetype": "text/x-python",
   "name": "python",
   "nbconvert_exporter": "python",
   "pygments_lexer": "ipython3",
   "version": "3.12.10"
  }
 },
 "nbformat": 4,
 "nbformat_minor": 5
}
